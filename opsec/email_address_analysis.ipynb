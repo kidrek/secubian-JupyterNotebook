{
 "cells": [
  {
   "cell_type": "markdown",
   "metadata": {},
   "source": [
    "# Analyse d'adresse email"
   ]
  },
  {
   "cell_type": "markdown",
   "metadata": {},
   "source": [
    "L'analyse d'une adresse email est assez complexe, car elle intègre de nombreux facteurs.\n",
    "Voici une liste des principaux contrôles à réaliser : \n",
    "\n",
    "- Recherche de l'adresse dans les bases de CTI, afin d'identifier si cette derniere est connue pour avoir déjà envoyé du SPAM, ou si elle est apparue dans une fuite de données ;\n",
    "- Extraction du TLD afin d'identifier si ce dernier est connu dans les bases de CTI ;\n",
    "\n",
    "\n",
    "Si un doute persiste"
   ]
  },
  {
   "cell_type": "markdown",
   "metadata": {},
   "source": [
    "Saisir l'adresse email à analyser : "
   ]
  },
  {
   "cell_type": "code",
   "execution_count": null,
   "metadata": {},
   "outputs": [],
   "source": [
    "suspicious_email = \"XXXXxxxx@gmail.com\""
   ]
  },
  {
   "cell_type": "markdown",
   "metadata": {},
   "source": [
    "# Initialisation\n",
    "\n",
    "Cette section a pour objectif d'initialiser les modules pythons nécessaires pour ce notebook."
   ]
  },
  {
   "cell_type": "code",
   "execution_count": null,
   "metadata": {},
   "outputs": [],
   "source": [
    "# Python modules\n",
    "from colorama import init, Fore, Back, Style\n",
    "## EMAILRep module\n",
    "# pip install emailrep\n",
    "from emailrep import EmailRep\n",
    "\n",
    "# Load config file\n",
    "import sys\n",
    "sys.path.append('..')\n",
    "import config\n",
    "\n",
    "## APIKEY\n",
    "EMAILREP_APIKEY=config.EMAILREP_APIKEY"
   ]
  },
  {
   "cell_type": "markdown",
   "metadata": {},
   "source": [
    "# Analyse"
   ]
  },
  {
   "cell_type": "markdown",
   "metadata": {},
   "source": [
    "## EmailRep\n",
    "\n",
    "Ce site permet d'analyser très rapidement une adresse mail. \\\n",
    "Il est possible de demander gratuitement une API KEY directement sur le site. \\\n",
    "reférence : https://emailrep.io"
   ]
  },
  {
   "cell_type": "code",
   "execution_count": null,
   "metadata": {},
   "outputs": [],
   "source": [
    "# setup your api key (optional)\n",
    "emailrep = EmailRep(EMAILREP_APIKEY)\n",
    "\n",
    "# query an email address\n",
    "report = emailrep.query(suspicious_email)\n",
    "\n",
    "# Display report\n",
    "for key in ['spam','blacklisted','credentials_leaked','data_breach','suspicious_tld','spoofable']:\n",
    "    if (report['details'][key]):  \n",
    "        print(f\"{Fore.RED}[!] {key.upper()}\") \n",
    "    else:\n",
    "        print(f\"{Fore.GREEN}[✓] Not {key.upper()}\")"
   ]
  },
  {
   "cell_type": "markdown",
   "metadata": {},
   "source": [
    "## Threat Intel \n",
    "\n",
    "L'adresse email comporte obligatoirement un nom de domaine. L'analyse de ce dernier au sein de bases de connaissances permettra de faciliter sa qualification.\n",
    "\n",
    "Ici nous réaliserons une extraction du nom de domaine via le module msticpy et nous le rechercherons dans les bases de données de VirusTotal et Alienvault OTX."
   ]
  },
  {
   "cell_type": "code",
   "execution_count": null,
   "metadata": {},
   "outputs": [],
   "source": [
    "import pandas as pd\n",
    "\n",
    "!export MSTICPYCONFIG=./msticpyconfig.yaml\n",
    "from msticpy.transform.iocextract import IoCExtract\n",
    "import msticpy as mp\n",
    "import msticpy.sectools as sectools\n",
    "mp.init_notebook(globals(), verbosity=0)\n",
    "ti = mp.TILookup()\n",
    "ti.loaded_providers\n",
    "ioc_extractor = sectools.IoCExtract()\n",
    "\n",
    "# Parse email and set dataframe\n",
    "df_observable_str = ioc_extractor.extract(suspicious_email)\n",
    "df_observable = pd.DataFrame.from_dict(df_observable_str, orient='index', columns=['Observable'])\n",
    "\n",
    "# Research observables in theat intel database\n",
    "df_observable_ti = ti.lookup_iocs(data=df_observable, ioc_col=\"Observable\", providers=[\"VirusTotal\", \"OTX\"])\n",
    "df_observable_ti = pd.json_normalize(data=df_observable_ti[['Ioc','Provider','Details']].to_dict(orient='records'))\n",
    "\n",
    "if (df_observable_ti.empty):\n",
    "    print(Fore.GREEN + \"[✓] No Potentially Suspicious Network connections identified\")\n",
    "else:\n",
    "    print(Fore.RED + \"[!] Potentially Suspicious Network connections identified\")\n",
    "    display(df_observable_ti.sort_values(by=\"Details.pulse_count\", ascending=False))"
   ]
  }
 ],
 "metadata": {
  "kernelspec": {
   "display_name": "Python 3.11.4 64-bit ('3.11.4')",
   "language": "python",
   "name": "python3"
  },
  "language_info": {
   "codemirror_mode": {
    "name": "ipython",
    "version": 3
   },
   "file_extension": ".py",
   "mimetype": "text/x-python",
   "name": "python",
   "nbconvert_exporter": "python",
   "pygments_lexer": "ipython3",
   "version": "3.11.4"
  },
  "orig_nbformat": 4,
  "vscode": {
   "interpreter": {
    "hash": "b8acf002f28ebb43f366505f0e5b813e5533fa2e397d13c038f57c477a6eba7f"
   }
  }
 },
 "nbformat": 4,
 "nbformat_minor": 2
}
