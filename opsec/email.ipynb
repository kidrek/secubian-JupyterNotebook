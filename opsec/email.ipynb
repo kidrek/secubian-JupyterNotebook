{
 "cells": [
  {
   "cell_type": "markdown",
   "metadata": {},
   "source": [
    "# Analyse d'adresse email"
   ]
  },
  {
   "cell_type": "markdown",
   "metadata": {},
   "source": [
    "L'analyse d'une adresse email est assez complexe, car elle intègre de nombreux facteurs.\n",
    "Voici une liste des principaux contrôles à réaliser : \n",
    "\n",
    "- Recherche de l'adresse dans les bases de CTI, afin d'identifier si cette derniere est connue pour avoir déjà envoyé du SPAM, ou si elle est apparue dans une fuite de données ;\n",
    "- Extraction du TLD afin d'identifier si ce dernier est connu dans les bases de CTI ;\n",
    "\n",
    "\n",
    "Si un doute persiste"
   ]
  },
  {
   "cell_type": "markdown",
   "metadata": {},
   "source": [
    "Saisir l'adresse email à analyser : "
   ]
  },
  {
   "cell_type": "code",
   "execution_count": 18,
   "metadata": {},
   "outputs": [],
   "source": [
    "suspicious_email = \"XXXXxxxx@gmail.com\""
   ]
  },
  {
   "cell_type": "markdown",
   "metadata": {},
   "source": [
    "# Initialisation\n",
    "\n",
    "Cette section a pour objectif d'initialiser les modules pythons nécessaires pour ce notebook."
   ]
  },
  {
   "cell_type": "code",
   "execution_count": 47,
   "metadata": {},
   "outputs": [],
   "source": [
    "# Python modules\n",
    "from colorama import init, Fore, Back, Style\n",
    "## EMAILRep module\n",
    "# pip install emailrep\n",
    "from emailrep import EmailRep\n",
    "\n",
    "## APIKEY\n",
    "EMAILREP_APIKEY=\"\""
   ]
  },
  {
   "cell_type": "markdown",
   "metadata": {},
   "source": [
    "# Analyse"
   ]
  },
  {
   "cell_type": "markdown",
   "metadata": {},
   "source": [
    "## EmailRep\n",
    "\n",
    "Ce site permet d'analyser très rapidement une adresse mail. \\\n",
    "Il est possible de demander gratuitement une API KEY directement sur le site. \\\n",
    "reférence : https://emailrep.io"
   ]
  },
  {
   "cell_type": "code",
   "execution_count": 64,
   "metadata": {},
   "outputs": [
    {
     "name": "stdout",
     "output_type": "stream",
     "text": [
      "\u001b[32m[✓] Not SPAM\n",
      "\u001b[32m[✓] Not BLACKLISTED\n",
      "\u001b[32m[✓] Not CREDENTIALS_LEAKED\n",
      "\u001b[31m[!] DATA_BREACH\n",
      "\u001b[32m[✓] Not SUSPICIOUS_TLD\n",
      "\u001b[31m[!] SPOOFABLE\n"
     ]
    }
   ],
   "source": [
    "# setup your api key (optional)\n",
    "emailrep = EmailRep(EMAILREP_APIKEY)\n",
    "\n",
    "# query an email address\n",
    "report = emailrep.query(suspicious_email)\n",
    "\n",
    "# Display report\n",
    "for key in ['spam','blacklisted','credentials_leaked','data_breach','suspicious_tld','spoofable']:\n",
    "    if (report['details'][key]):  \n",
    "        print(f\"{Fore.RED}[!] {key.upper()}\") \n",
    "    else:\n",
    "        print(f\"{Fore.GREEN}[✓] Not {key.upper()}\")"
   ]
  }
 ],
 "metadata": {
  "kernelspec": {
   "display_name": "Python 3.11.4 64-bit ('3.11.4')",
   "language": "python",
   "name": "python3"
  },
  "language_info": {
   "codemirror_mode": {
    "name": "ipython",
    "version": 3
   },
   "file_extension": ".py",
   "mimetype": "text/x-python",
   "name": "python",
   "nbconvert_exporter": "python",
   "pygments_lexer": "ipython3",
   "version": "3.11.4"
  },
  "orig_nbformat": 4,
  "vscode": {
   "interpreter": {
    "hash": "b8acf002f28ebb43f366505f0e5b813e5533fa2e397d13c038f57c477a6eba7f"
   }
  }
 },
 "nbformat": 4,
 "nbformat_minor": 2
}
