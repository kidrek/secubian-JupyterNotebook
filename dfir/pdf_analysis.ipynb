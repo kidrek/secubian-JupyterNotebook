{
 "cells": [
  {
   "attachments": {},
   "cell_type": "markdown",
   "metadata": {},
   "source": [
    "# Analyse PDF file\n",
    "\n",
    "..\n",
    "\n",
    "Cette première section a pour objectif de charger les modules Python nécessaire pour la bonne exécution du notebook. \\\n",
    "Dans la dernière partie, il sera nécessaire de saisir la valeur de la variable **pdfFile** correspondant au chemin du fichier PDF à analyser. "
   ]
  },
  {
   "cell_type": "code",
   "execution_count": 113,
   "metadata": {},
   "outputs": [
    {
     "data": {
      "text/html": [
       "<style>.container { width:90% !important; }</style>"
      ],
      "text/plain": [
       "<IPython.core.display.HTML object>"
      ]
     },
     "metadata": {},
     "output_type": "display_data"
    },
    {
     "data": {
      "text/plain": [
       "{'File': 'embedded_xls_180888bfe38fb7843583c469b893806ff0f9bb169c5e7be900779764742be229.pdf',\n",
       " 'MD5': '60fcb97dd9e3c0ce787db9885350d049',\n",
       " 'SHA1': 'a115181ea8b31caf5187a3837847e07c334219f5',\n",
       " 'SHA256': '180888bfe38fb7843583c469b893806ff0f9bb169c5e7be900779764742be229',\n",
       " 'Size': '200742',\n",
       " 'Detection': [],\n",
       " 'Detection report': '',\n",
       " 'Version': '1.6',\n",
       " 'Binary': 'True',\n",
       " 'Linearized': 'False',\n",
       " 'Encrypted': 'False',\n",
       " 'Encryption Algorithms': [],\n",
       " 'Updates': '0',\n",
       " 'Objects': '10',\n",
       " 'Streams': '8',\n",
       " 'URIs': '0',\n",
       " 'Comments': '0',\n",
       " 'Errors': [],\n",
       " 'Versions': [{'Catalog': '2',\n",
       "   'Info': '3',\n",
       "   'Objects': ['10', [1, 2, 12, 13, 14, 21, 22, 24, 25, 26]],\n",
       "   'Compressed Objects': None,\n",
       "   'Errors': ['8', [12, 13, 14, 21, 22, 24, 1, 26]],\n",
       "   'Streams': ['8', [12, 13, 14, 21, 22, 24, 26, 1]],\n",
       "   'Xref Streams': ['1', [26]],\n",
       "   'Object Streams': ['1', [1]],\n",
       "   'Encoded': ['8', [12, 13, 14, 21, 22, 24, 26, 1]],\n",
       "   'Decoding Errors': ['7', [12, 13, 14, 22, 24, 26, 1]],\n",
       "   'URIs': None,\n",
       "   'Objects with JS code': None,\n",
       "   'Events': {'/OpenAction': [2], '/Names': [2], '/AcroForm': [2]},\n",
       "   'Actions': None,\n",
       "   'Vulns': None,\n",
       "   'Elements': {'/EmbeddedFile': [22]},\n",
       "   'URLs': None}]}"
      ]
     },
     "execution_count": 113,
     "metadata": {},
     "output_type": "execute_result"
    }
   ],
   "source": [
    "from colorama import init, Fore, Back, Style\n",
    "import os\n",
    "import json\n",
    "import pandas as pd\n",
    "import hashlib\n",
    "import peepdf\n",
    "\n",
    "import re\n",
    "import subprocess\n",
    "from IPython.display import display, HTML\n",
    "\n",
    "#from pandas.io.json import json_normalize\n",
    "#import ipaddress as ip\n",
    "#from msticpy.transform.iocextract import IoCExtract\n",
    "#import msticpy as mp\n",
    "#mp.init_notebook(globals(), verbosity=0)\n",
    "#ti = mp.TILookup()\n",
    "#ioc_extract = IoCExtract()\n",
    "\n",
    "#Expand the width of the cells\n",
    "display(HTML(\"<style>.container { width:90% !important; }</style>\"))\n",
    "\n",
    "pd.set_option('display.max_rows', None)\n",
    "pd.set_option('display.max_columns', None)\n",
    "pd.set_option('display.width', None)\n",
    "pd.set_option('display.max_colwidth', None)\n",
    "\n",
    "def convertListToDict(data):\n",
    "    it = iter(data)\n",
    "    return dict(zip(it, it))\n",
    "\n",
    "pdfFile = \"/home/secubian/Desktop/Cases/pdfs/61f0e80b2a74bf26d2089e09e779b0514b4d7e324de6f968bb224cbe6f2fab91.pdf\"\n",
    "pdfFile = \"/home/secubian/Desktop/Cases/pdfs/1796aef0940e800bcb2556782f92a7874422bbdfdda24e6658e43db4b0916850.pdf\"\n",
    "pdfFile = \"/home/secubian/Desktop/Cases/pdfs/0062742b752ac42b2812ee2670b18943322856268c8d3e23e7f97656bd41969e.pdf\"\n",
    "pdfFile = \"/home/secubian/Desktop/Cases/pdfs/907e75030b0e09cec6524f612f1c7439b5260b57b43d515968f81ba69278ba77.pdf\"\n",
    "pdfFile = \"/home/secubian/Desktop/Cases/pdfs/d1c2cc0ca653df8ddb46c1337a5972eaceb81ea924e8ebdb7af0699a7ab909fd.pdf\"\n",
    "pdfFile = \"/home/secubian/Desktop/Cases/pdfs/embedded_xls_180888bfe38fb7843583c469b893806ff0f9bb169c5e7be900779764742be229.pdf\"\n",
    "\n",
    "\n",
    "\n",
    "# https://raw.githubusercontent.com/intelowlproject/IntelOwl/master/api_app/analyzers_manager/file_analyzers/pdf_info.py\n",
    "# https://github.com/hiddenillusion/AnalyzePDF/blob/master/AnalyzePDF.py\n",
    "\n",
    "pdfFileReport = {}\n",
    "pdfFileReport['version'] = []\n",
    "\n",
    "pdf_parser = peepdf.PDFCore.PDFParser()\n",
    "ret, pdf = pdf_parser.parse(pdfFile, True)\n",
    "\n",
    "pdfFileReport['file'] = pdf.getStats().get('File',[])\n",
    "pdfFileReport['md5'] = pdf.getStats().get('MD5',[])\n",
    "pdfFileReport['sha256'] = pdf.getStats().get('SHA256',[])\n",
    "pdfFileReport['detection'] = pdf.getStats().get('Detection',[])\n",
    "pdfFileReport['pdf_version'] = pdf.getStats().get('Version',[])\n",
    "if pdf.getStats().get('Binary',[]): pdfFileReport['binary'] = pdf.getStats().get('Binary',[])\n",
    "if pdf.getStats().get('Encrypted',[]): pdfFileReport['encrypted'] = pdf.getStats().get('Encrypted',[])\n",
    "if pdf.getStats().get('Encryption Algorithms',[]): pdfFileReport['encryption_algorithm'] = pdf.getStats().get('Encryption Algorithms',[])\n",
    "if pdf.getStats().get('Comments',[]): pdfFileReport['comments'] = pdf.getStats().get('Comments',[])\n",
    "\n",
    "pdfFileReport['pdfFile_version_count'] = len(pdf.getStats().get(\"Versions\",[]))\n",
    "\n",
    "for version in pdf.getStats().get(\"Versions\",[]):\n",
    "    pdfVersion = {}\n",
    "    if version.get(\"Actions\", []):  pdfVersion['actions'] = version.get(\"Actions\", [])\n",
    "    if version.get(\"Compressed Objects\", []): pdfVersion['compressed_objects'] = version.get(\"Compressed Objects\", [])\n",
    "    if version.get(\"Encoded\", []): pdfVersion['encoded_objects'] = version.get(\"Encoded\", [])\n",
    "    if version.get(\"Elements\", []): pdfVersion['elements'] = version.get(\"Elements\", [])\n",
    "    if version.get(\"Events\", []): pdfVersion['events'] = version.get(\"Events\", [])\n",
    "    if version.get(\"Objects with JS code\", []): pdfVersion['objects_with_js'] = version.get(\"Objects with JS code\", [])\n",
    "    if version.get(\"Streams\", []): pdfVersion['streams'] = version.get(\"Streams\", [])\n",
    "    if pdf.getURIs(): pdfVersion['URI'] = pdf.getURIs()\n",
    "    if pdf.getURLs(): pdfVersion['URL'] = pdf.getURLs()\n",
    "    if version.get(\"Vulns\", []): pdfVersion['vulns'] = version.get(\"Vulns\", [])\n",
    "\n",
    "    pdfFileReport['version'].append(pdfVersion)\n",
    "\n",
    "pdf.getStats()"
   ]
  },
  {
   "attachments": {},
   "cell_type": "markdown",
   "metadata": {},
   "source": [
    "## Méta Données\n",
    "\n",
    "La toute première étape consiste à obtenir les méta-données du fichier PDF. \\\n",
    "Ces dernières vont nous permettre d'interroger les bonnes de Threat Intel, afin d'identifier rapidement tout ficher malveillant."
   ]
  },
  {
   "cell_type": "code",
   "execution_count": 98,
   "metadata": {},
   "outputs": [
    {
     "name": "stdout",
     "output_type": "stream",
     "text": [
      "\u001b[32m[!] PDF file analyse success\n",
      "File Name : embedded_xls_180888bfe38fb7843583c469b893806ff0f9bb169c5e7be900779764742be229.pdf\n",
      "File Hash [md5] : 60fcb97dd9e3c0ce787db9885350d049\n",
      "File Hash [sha256] : 180888bfe38fb7843583c469b893806ff0f9bb169c5e7be900779764742be229\n"
     ]
    }
   ],
   "source": [
    "if (pdfFileReport):\n",
    "    print(Fore.GREEN + \"[!] PDF file analyse success\")\n",
    "    print(f\"File Name : {pdfFileReport['file']}\")\n",
    "    print(f\"File Hash [md5] : {pdfFileReport['md5']}\")\n",
    "    print(f\"File Hash [sha256] : {pdfFileReport['sha256']}\")\n",
    "else:\n",
    "    print(Fore.RED + \"[✓] PDF file analyse failed.\")\n"
   ]
  },
  {
   "attachments": {},
   "cell_type": "markdown",
   "metadata": {},
   "source": [
    "[TODO] recherche en Threat Intel des hashs identifiés."
   ]
  },
  {
   "attachments": {},
   "cell_type": "markdown",
   "metadata": {},
   "source": [
    "## Analyse des sections du document PDF \n",
    "\n"
   ]
  },
  {
   "attachments": {},
   "cell_type": "markdown",
   "metadata": {},
   "source": [
    "Les sections les plus interessantes sont les suivantes : \n",
    "- **EmbeddedFile** : Cette section énumère les fichiers présents au sein du fichier PDF. Il peut s'agir par exemple de script ou d'image.\n",
    "- **Javascript** ou **JS** : Il s'agit d'une référence à du Javascript pouvant être exécuté à l'ouverture du fichier PDF.\n",
    "- **Names** : Noms des éventuels fichiers auxquels le fichier PDF pourrait faire référence.\n",
    "- **OpenAction** ou **Launch** : Il s'agit d'une fonction exécutée à l'ouverture du fichier pdf. Elle peut être utilisée pour exécuter un script par exemple.\n",
    "- **URI** ou **SubmitForm** : Cette section recense les éventuelles références à des URL pouvant conduire le lecteur du fichier PDF à télécharger des scripts/binaires malveillants.\n",
    "\n",
    "\n",
    "\n",
    "Maintenant que nous avons présenté les sections potentiellement suspectes. \\\n",
    "Ces dernières vont être extraites via l'outil **peepdf**, afin de compléter l'analyse."
   ]
  },
  {
   "attachments": {},
   "cell_type": "markdown",
   "metadata": {},
   "source": [
    "### Identification de code Javascript"
   ]
  },
  {
   "cell_type": "code",
   "execution_count": 99,
   "metadata": {},
   "outputs": [
    {
     "name": "stdout",
     "output_type": "stream",
     "text": [
      "\u001b[32m[!] No Javascript code detected\n"
     ]
    }
   ],
   "source": [
    "artefact_js = []\n",
    "for version in pdf.getStats().get(\"Versions\",[]):\n",
    "    if version.get(\"Objects with JS code\", []): \n",
    "        artefact_js.append(version.get(\"Objects with JS code\", []))\n",
    "\n",
    "if artefact_js:\n",
    "    print(Fore.RED + \"[✓] Some Javascript code detected\")\n",
    "    print(artefact_js)\n",
    "else:\n",
    "    print(Fore.GREEN + \"[!] No Javascript code detected\")"
   ]
  },
  {
   "attachments": {},
   "cell_type": "markdown",
   "metadata": {},
   "source": [
    "### Identification des sections OpenAction/Launch"
   ]
  },
  {
   "cell_type": "code",
   "execution_count": 100,
   "metadata": {},
   "outputs": [
    {
     "name": "stdout",
     "output_type": "stream",
     "text": [
      "\u001b[31m[✓] Some OpenAction/Launch detected\n",
      "[{'/OpenAction': [2], '/Names': [2], '/AcroForm': [2]}]\n"
     ]
    }
   ],
   "source": [
    "artefact_openaction = []\n",
    "for version in pdf.getStats().get(\"Versions\",[]):\n",
    "    if version.get(\"Actions\", []):  \n",
    "        artefact_openaction.append(version.get(\"Actions\", []))\n",
    "    if version.get(\"Events\", []):  \n",
    "        artefact_openaction.append(version.get(\"Events\", []))\n",
    "\n",
    "if artefact_openaction:\n",
    "    print(Fore.RED + \"[✓] Some OpenAction/Launch detected\")\n",
    "    print(artefact_openaction)\n",
    "else:\n",
    "    print(Fore.GREEN + \"[!] No OpenAction/Launch detected\")\n"
   ]
  },
  {
   "attachments": {},
   "cell_type": "markdown",
   "metadata": {},
   "source": [
    "### Identification des URI/URL"
   ]
  },
  {
   "cell_type": "code",
   "execution_count": 101,
   "metadata": {},
   "outputs": [
    {
     "name": "stdout",
     "output_type": "stream",
     "text": [
      "\u001b[32m[!] No URI/URL detected\n"
     ]
    }
   ],
   "source": [
    "artefact_uri = []\n",
    "for version in pdf.getStats().get(\"Versions\",[]):\n",
    "    if pdf.getURIs(): \n",
    "        for uri in pdf.getURIs():\n",
    "            if uri: artefact_uri.append(uri)\n",
    "    if pdf.getURLs(): \n",
    "        for url in pdf.getURLs():\n",
    "            if url: artefact_uri.append(url)\n",
    "\n",
    "if (artefact_uri):\n",
    "    print(Fore.RED + \"[✓] Some URI/URL detected\")\n",
    "    print(artefact_uri)\n",
    "else:\n",
    "    print(Fore.GREEN + \"[!] No URI/URL detected\")\n"
   ]
  },
  {
   "attachments": {},
   "cell_type": "markdown",
   "metadata": {},
   "source": [
    "### Identification des éventuelles vulnérabilités"
   ]
  },
  {
   "cell_type": "code",
   "execution_count": 102,
   "metadata": {},
   "outputs": [
    {
     "name": "stdout",
     "output_type": "stream",
     "text": [
      "\u001b[32m[!] No vulnerabilities detected\n"
     ]
    }
   ],
   "source": [
    "artefact_vulns = []\n",
    "for version in pdf.getStats().get(\"Versions\",[]):\n",
    "    if version.get(\"Vulns\", []):  \n",
    "        artefact_openaction.append(version.get(\"Vulns\", []))\n",
    "\n",
    "\n",
    "if (artefact_vulns):\n",
    "    print(Fore.RED + \"[✓] Some vulnerabilities detected\")\n",
    "    print(artefact_vulns)\n",
    "else:\n",
    "    print(Fore.GREEN + \"[!] No vulnerabilities detected\")\n"
   ]
  },
  {
   "attachments": {},
   "cell_type": "markdown",
   "metadata": {},
   "source": [
    "### Identification de fichier(s) présent(s) dans le PDF\n",
    "\n",
    "Cette analyse permet de mettre en avant de potentiel(s) fichier(s) malveillant(s) caché(s) au sein du fichier pdf."
   ]
  },
  {
   "cell_type": "code",
   "execution_count": 114,
   "metadata": {},
   "outputs": [
    {
     "name": "stdout",
     "output_type": "stream",
     "text": [
      "\u001b[31m[✓] Some embedded files detected\n",
      "[{'/EmbeddedFile': [22]}]\n"
     ]
    }
   ],
   "source": [
    "artefact_embedded = []\n",
    "for version in pdf.getStats().get(\"Versions\",[]):\n",
    "    if version.get(\"Elements\", []):  \n",
    "        artefact_embedded.append(version.get(\"Elements\", []))\n",
    "\n",
    "\n",
    "if (artefact_embedded):\n",
    "    print(Fore.RED + \"[✓] Some embedded files detected\")\n",
    "    print(artefact_embedded)\n",
    "else:\n",
    "    print(Fore.GREEN + \"[!] No embedded files detected\")"
   ]
  },
  {
   "attachments": {},
   "cell_type": "markdown",
   "metadata": {},
   "source": [
    "Il est tout à fait possible d'extraire les documents incrustés via la commande **pdf-parser**."
   ]
  },
  {
   "cell_type": "code",
   "execution_count": 118,
   "metadata": {},
   "outputs": [
    {
     "name": "stdout",
     "output_type": "stream",
     "text": [
      "obj 22 0\n",
      " Type: /EmbeddedFile\n",
      " Referencing: \n",
      " Contains stream\n",
      "\n",
      "  <<\n",
      "    /Filter /FlateDecode\n",
      "    /Type /EmbeddedFile\n",
      "    /Length 184388\n",
      "  >>\n",
      "\n",
      "\n"
     ]
    },
    {
     "data": {
      "text/plain": [
       "0"
      ]
     },
     "execution_count": 118,
     "metadata": {},
     "output_type": "execute_result"
    }
   ],
   "source": [
    "objectID = 22\n",
    "os.system(f\"pdf-parser.py --object {objectID} -f -w -d {pdfFile}_{objectID} {pdfFile}\")"
   ]
  },
  {
   "attachments": {},
   "cell_type": "markdown",
   "metadata": {},
   "source": [
    "Le type de fichier extrait, peut désormais être identifié via la commande **file**."
   ]
  },
  {
   "cell_type": "code",
   "execution_count": 119,
   "metadata": {},
   "outputs": [
    {
     "name": "stdout",
     "output_type": "stream",
     "text": [
      "/home/secubian/Desktop/Cases/pdfs/embedded_xls_180888bfe38fb7843583c469b893806ff0f9bb169c5e7be900779764742be229.pdf_22: CDFV2 Encrypted\n"
     ]
    },
    {
     "data": {
      "text/plain": [
       "0"
      ]
     },
     "execution_count": 119,
     "metadata": {},
     "output_type": "execute_result"
    }
   ],
   "source": [
    "os.system(f\"file {pdfFile}_{objectID}\")"
   ]
  },
  {
   "attachments": {},
   "cell_type": "markdown",
   "metadata": {},
   "source": [
    "### Analyse avancée des objets\n",
    "\n",
    "Dans un second temps, nous allons identifier si le contenu est chiffré, encodé ou toutes autres sections suspectes."
   ]
  },
  {
   "cell_type": "code",
   "execution_count": 104,
   "metadata": {},
   "outputs": [
    {
     "name": "stdout",
     "output_type": "stream",
     "text": [
      "\u001b[31m[✓] Some encoded section detected.\n",
      "[['8', [12, 13, 14, 21, 22, 24, 26, 1]]]\n",
      "\u001b[31m[✓] Some streams detected. Result contains stream ID.\n",
      "[['8', [12, 13, 14, 21, 22, 24, 26, 1]]]\n"
     ]
    }
   ],
   "source": [
    "artefact_encoded = []\n",
    "artefact_streams = []\n",
    "\n",
    "for version in pdf.getStats().get(\"Versions\",[]):\n",
    "    if version.get(\"Compressed Objects\", []): pdfVersion['compressed_objects'] = version.get(\"Compressed Objects\", [])\n",
    "    if version.get(\"Encoded\", []): artefact_encoded.append(version.get(\"Encoded\", []))\n",
    "    if version.get(\"Streams\", []): artefact_streams.append(version.get(\"Streams\", []))\n",
    "\n",
    "if artefact_encoded:\n",
    "    print(Fore.RED + \"[✓] Some encoded section detected.\")\n",
    "    print(artefact_encoded)\n",
    "\n",
    "if artefact_streams:\n",
    "    print(Fore.RED + \"[✓] Some streams detected. Result contains stream ID.\")\n",
    "    print(artefact_streams)\n"
   ]
  },
  {
   "attachments": {},
   "cell_type": "markdown",
   "metadata": {},
   "source": [
    "Certains objets ont été identifiés comme encodé ou chiffré. \\\n",
    "Il peut être interessant de réaliser une analyse approfondie en visualisant le contenu de ces objets. \\\n",
    "Pour cela, vous devrez saisir la valeur **objectID**."
   ]
  },
  {
   "cell_type": "code",
   "execution_count": 111,
   "metadata": {},
   "outputs": [
    {
     "name": "stdout",
     "output_type": "stream",
     "text": [
      "{'type': '/EmbeddedFile', 'length': '184388', 'filter': '/FlateDecode'}\n"
     ]
    }
   ],
   "source": [
    "# Advanced Analyse about objects\n",
    "# Encoded object : 1, 2, 4\n",
    "## source : https://github.com/jesparza/peepdf/blob/master/peepdf.py\n",
    "objectID = 22\n",
    "object = pdf.getObject(objectID)\n",
    "objectReport = {}\n",
    "\n",
    "\n",
    "objectReport['type'] = object.elements['/Type'].getValue()\n",
    "objectReport['length'] = object.elements['/Length'].getValue()\n",
    "objectReport['filter'] = object.elements['/Filter'].getValue()\n",
    "print(objectReport)\n",
    "#object.getRawValue()\n",
    "\n"
   ]
  }
 ],
 "metadata": {
  "kernelspec": {
   "display_name": "Python 3",
   "language": "python",
   "name": "python3"
  },
  "language_info": {
   "codemirror_mode": {
    "name": "ipython",
    "version": 3
   },
   "file_extension": ".py",
   "mimetype": "text/x-python",
   "name": "python",
   "nbconvert_exporter": "python",
   "pygments_lexer": "ipython3",
   "version": "3.9.2"
  },
  "orig_nbformat": 4,
  "vscode": {
   "interpreter": {
    "hash": "916dbcbb3f70747c44a77c7bcd40155683ae19c65e1c03b4aa3499c5328201f1"
   }
  }
 },
 "nbformat": 4,
 "nbformat_minor": 2
}
