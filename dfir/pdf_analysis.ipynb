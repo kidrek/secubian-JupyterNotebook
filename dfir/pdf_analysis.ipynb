{
 "cells": [
  {
   "attachments": {},
   "cell_type": "markdown",
   "metadata": {},
   "source": [
    "# Analyse PDF file\n",
    "\n",
    "\n",
    "PDF \"Portable Document Format\" est un format de fichier utilisé pour constituer des documents contenant des images et du texte ainsi que des éléments tels que des liens cliquables vers des ressources sur des sites internet.\n",
    "Il est constituté de 4 sections : \n",
    "- **Header** : contient le numéro de la version \n",
    "- **Body** : contient les objets (du type catalogue et les streams) et leurs valeurs \n",
    "- **Cross Reference Table** : \n",
    "- **Trailer** : \n",
    "\n",
    "\n",
    "Les données présentes dans le corps du document peuvent être altérées par rapport à leur format original. De nombreuses raisons peuvent l'expliquer : chiffrement, encodage, compression. Vous l'aurez compris ces méthodes peuvent également utilisées pour dissimuler du code malveillant. Il reste néanmoins plutôt facile d'identifier leur usage grâce à la présence du marqueur \"/Filter\" avant chacune des fonctions manipulant le contenu des données :  \n",
    "- **/ASCII85Decode** : \n",
    "- **/ASCIIHexdecode** : \n",
    "- **/Crypt** : utilisé lorsque les données sont chiffrées. Une recherche de l'algorithme de chiffrement doit être réalisée lors de la présence de cette fonction.\n",
    "- **/FlateDecode** : utilisé lorsque les données sont compressées via Zlib.\n",
    "- **/LZWDecode** : utilisé lorsque les données sont compressées via l'algorithme LZW.\n",
    "\n",
    "\n",
    "Cette première partie de l'analyse a pour objectif de charger les modules Python nécessaires à la bonne exécution du notebook. \\\n",
    "La variable **pdfFile** correspondant au chemin du fichier PDF à analyser devra être saisie. "
   ]
  },
  {
   "cell_type": "code",
   "execution_count": null,
   "metadata": {},
   "outputs": [],
   "source": [
    "from colorama import init, Fore, Back, Style\n",
    "from defang import defang\n",
    "import os\n",
    "import json\n",
    "import peepdf\n",
    "from IPython import display\n",
    "\n",
    "from msticpy.transform.iocextract import IoCExtract\n",
    "import msticpy as mp\n",
    "mp.init_notebook(globals(), verbosity=0)\n",
    "ti = mp.TILookup()\n",
    "ti.loaded_providers\n",
    "\n",
    "\n",
    "# Set PDF File path\n",
    "pdfFile = \"XXXXXXxxxxx.pdf\""
   ]
  },
  {
   "cell_type": "markdown",
   "metadata": {},
   "source": [
    "Cette seconde partie permet d'extraire les méta données du fichiers PDF via l'outil PeePDF."
   ]
  },
  {
   "cell_type": "code",
   "execution_count": null,
   "metadata": {},
   "outputs": [],
   "source": [
    "pdfFileReport = {}\n",
    "pdfFileReport['version'] = []\n",
    "\n",
    "pdf_parser = peepdf.PDFCore.PDFParser()\n",
    "ret, pdf = pdf_parser.parse(pdfFile, True)\n",
    "\n",
    "pdfFileReport['file'] = pdf.getStats().get('File',[])\n",
    "pdfFileReport['md5'] = pdf.getStats().get('MD5',[])\n",
    "pdfFileReport['sha256'] = pdf.getStats().get('SHA256',[])\n",
    "pdfFileReport['detection'] = pdf.getStats().get('Detection',[])\n",
    "pdfFileReport['pdf_version'] = pdf.getStats().get('Version',[])\n",
    "if pdf.getStats().get('Binary',[]): pdfFileReport['binary'] = pdf.getStats().get('Binary',[])\n",
    "if pdf.getStats().get('Encrypted',[]): pdfFileReport['encrypted'] = pdf.getStats().get('Encrypted',[])\n",
    "if pdf.getStats().get('Encryption Algorithms',[]): pdfFileReport['encryption_algorithm'] = pdf.getStats().get('Encryption Algorithms',[])\n",
    "if pdf.getStats().get('Comments',[]): pdfFileReport['comments'] = pdf.getStats().get('Comments',[])\n",
    "\n",
    "pdfFileReport['pdfFile_version_count'] = len(pdf.getStats().get(\"Versions\",[]))\n",
    "\n",
    "for version in pdf.getStats().get(\"Versions\",[]):\n",
    "    pdfVersion = {}\n",
    "    if version.get(\"Actions\", []):  pdfVersion['actions'] = version.get(\"Actions\", [])\n",
    "    if version.get(\"Compressed Objects\", []): pdfVersion['compressed_objects'] = version.get(\"Compressed Objects\", [])\n",
    "    if version.get(\"Encoded\", []): pdfVersion['encoded_objects'] = version.get(\"Encoded\", [])\n",
    "    if version.get(\"Elements\", []): pdfVersion['elements'] = version.get(\"Elements\", [])\n",
    "    if version.get(\"Events\", []): pdfVersion['events'] = version.get(\"Events\", [])\n",
    "    if version.get(\"Objects with JS code\", []): pdfVersion['objects_with_js'] = version.get(\"Objects with JS code\", [])\n",
    "    if version.get(\"Streams\", []): pdfVersion['streams'] = version.get(\"Streams\", [])\n",
    "    if pdf.getURIs(): pdfVersion['URI'] = pdf.getURIs()\n",
    "    if pdf.getURLs(): pdfVersion['URL'] = pdf.getURLs()\n",
    "    if version.get(\"Vulns\", []): pdfVersion['vulns'] = version.get(\"Vulns\", [])\n",
    "\n",
    "    pdfFileReport['version'].append(pdfVersion)\n"
   ]
  },
  {
   "attachments": {},
   "cell_type": "markdown",
   "metadata": {},
   "source": [
    "## Méta Données\n",
    "\n",
    "La toute première étape consiste à obtenir les méta-données du fichier PDF. \\\n",
    "Ces dernières vont nous permettre d'interroger les bonnes de Threat Intel, afin d'identifier rapidement tout ficher malveillant."
   ]
  },
  {
   "cell_type": "code",
   "execution_count": null,
   "metadata": {},
   "outputs": [],
   "source": [
    "if (pdfFileReport):\n",
    "    print(Fore.GREEN + \"[!] PDF file analyse success\")\n",
    "    print(f\"File Name : {pdfFileReport['file']}\")\n",
    "    print(f\"Comments : {pdfFileReport['comments']}\")\n",
    "    print(f\"PDF version : {pdfFileReport['pdf_version']}\")\n",
    "    print(f\"File Hash [md5] : {pdfFileReport['md5']}\")\n",
    "    print(f\"File Hash [sha256] : {pdfFileReport['sha256']}\")\n",
    "else:\n",
    "    print(Fore.RED + \"[✓] PDF file analyse failed.\")\n"
   ]
  },
  {
   "attachments": {},
   "cell_type": "markdown",
   "metadata": {},
   "source": [
    "## Recherche en Threat Intel des hashs identifiés.\n",
    "\n",
    "Les Hashs du fichier ayant été identifiés, une recherche en source ouverte permettra de gagner du temps dans l'analyse."
   ]
  },
  {
   "cell_type": "code",
   "execution_count": null,
   "metadata": {},
   "outputs": [],
   "source": [
    "df_ti = ti.lookup_iocs(data=[pdfFileReport['md5'], pdfFileReport['sha256']], providers=[\"VirusTotal\", \"OTX\"])\n",
    "df_ti = df_ti[df_ti['Result']==True]\n",
    "df_ti = pd.json_normalize(data=df_ti[['Severity','Provider','Ioc','Details']].to_dict(orient='records'))\n",
    "\n",
    "if (df_ti.empty):\n",
    "    print(Fore.GREEN + \"[✓] No Potentially identified as malicious\")\n",
    "else:\n",
    "    print(Fore.RED + \"[!] Potentially identified as malicious\")\n",
    "    display(df_ti)\n"
   ]
  },
  {
   "attachments": {},
   "cell_type": "markdown",
   "metadata": {},
   "source": [
    "## Analyse des sections du document PDF \n",
    "\n"
   ]
  },
  {
   "attachments": {},
   "cell_type": "markdown",
   "metadata": {},
   "source": [
    "Les sections les plus interessantes sont les suivantes : \n",
    "- **EmbeddedFile** : Cette section énumère les fichiers présents au sein du fichier PDF. Il peut s'agir par exemple de script ou d'image.\n",
    "- **Javascript** ou **JS** : Il s'agit d'une référence à du Javascript pouvant être exécuté à l'ouverture du fichier PDF.\n",
    "- **Names** : Noms des éventuels fichiers auxquels le fichier PDF pourrait faire référence.\n",
    "- **OpenAction** ou **Launch** : Il s'agit d'une fonction exécutée à l'ouverture du fichier pdf. Elle peut être utilisée pour exécuter un script par exemple.\n",
    "- **URI** ou **SubmitForm** : Cette section recense les éventuelles références à des URL pouvant conduire le lecteur du fichier PDF à télécharger des scripts/binaires malveillants.\n",
    "\n",
    "\n",
    "\n",
    "Maintenant que nous avons présenté les sections potentiellement suspectes. \\\n",
    "Ces dernières vont être extraites via l'outil **peepdf**, afin de compléter l'analyse."
   ]
  },
  {
   "attachments": {},
   "cell_type": "markdown",
   "metadata": {},
   "source": [
    "### Identification de code Javascript"
   ]
  },
  {
   "cell_type": "code",
   "execution_count": null,
   "metadata": {},
   "outputs": [],
   "source": [
    "artefact_js = []\n",
    "for version in pdf.getStats().get(\"Versions\",[]):\n",
    "    if version.get(\"Objects with JS code\", []): \n",
    "        artefact_js.append(version.get(\"Objects with JS code\", []))\n",
    "\n",
    "if artefact_js:\n",
    "    print(Fore.RED + \"[✓] Some Javascript code detected\")\n",
    "    print(artefact_js)\n",
    "else:\n",
    "    print(Fore.GREEN + \"[!] No Javascript code detected\")"
   ]
  },
  {
   "attachments": {},
   "cell_type": "markdown",
   "metadata": {},
   "source": [
    "### Identification des sections OpenAction/Launch"
   ]
  },
  {
   "cell_type": "code",
   "execution_count": null,
   "metadata": {},
   "outputs": [],
   "source": [
    "artefact_openaction = []\n",
    "for version in pdf.getStats().get(\"Versions\",[]):\n",
    "    if version.get(\"Actions\", []):  \n",
    "        artefact_openaction.append(version.get(\"Actions\", []))\n",
    "    if version.get(\"Events\", []):  \n",
    "        artefact_openaction.append(version.get(\"Events\", []))\n",
    "\n",
    "if artefact_openaction:\n",
    "    print(Fore.RED + \"[✓] Some OpenAction/Launch detected\")\n",
    "    print(artefact_openaction)\n",
    "else:\n",
    "    print(Fore.GREEN + \"[!] No OpenAction/Launch detected\")"
   ]
  },
  {
   "attachments": {},
   "cell_type": "markdown",
   "metadata": {},
   "source": [
    "### Identification des URI/URL"
   ]
  },
  {
   "cell_type": "code",
   "execution_count": null,
   "metadata": {},
   "outputs": [],
   "source": [
    "artefact_uri = []\n",
    "for version in pdf.getStats().get(\"Versions\",[]):\n",
    "    if pdf.getURIs(): \n",
    "        for uri in pdf.getURIs():\n",
    "            if uri: artefact_uri.append(uri[0])\n",
    "    if pdf.getURLs(): \n",
    "        for url in pdf.getURLs():\n",
    "            if url: artefact_uri.append(url[0])\n",
    "\n",
    "artefact_uri = set(artefact_uri)\n",
    "if (artefact_uri):\n",
    "    print(Fore.RED + \"[✓] Some URI/URL detected\")\n",
    "    print(defang(str(artefact_uri)))\n",
    "else:\n",
    "    print(Fore.GREEN + \"[!] No URI/URL detected\")"
   ]
  },
  {
   "attachments": {},
   "cell_type": "markdown",
   "metadata": {},
   "source": [
    "### Identification des éventuelles vulnérabilités"
   ]
  },
  {
   "cell_type": "code",
   "execution_count": null,
   "metadata": {},
   "outputs": [],
   "source": [
    "artefact_vulns = []\n",
    "for version in pdf.getStats().get(\"Versions\",[]):\n",
    "    if version.get(\"Vulns\", []):  \n",
    "        artefact_openaction.append(version.get(\"Vulns\", []))\n",
    "\n",
    "\n",
    "if (artefact_vulns):\n",
    "    print(Fore.RED + \"[✓] Some vulnerabilities detected\")\n",
    "    print(artefact_vulns)\n",
    "else:\n",
    "    print(Fore.GREEN + \"[!] No vulnerabilities detected\")\n"
   ]
  },
  {
   "attachments": {},
   "cell_type": "markdown",
   "metadata": {},
   "source": [
    "### Identification de fichier(s) présent(s) dans le PDF\n",
    "\n",
    "Cette analyse permet de mettre en avant de potentiel(s) fichier(s) malveillant(s) caché(s) au sein du fichier pdf."
   ]
  },
  {
   "cell_type": "code",
   "execution_count": null,
   "metadata": {},
   "outputs": [],
   "source": [
    "artefact_embedded = []\n",
    "for version in pdf.getStats().get(\"Versions\",[]):\n",
    "    if version.get(\"Elements\", []):  \n",
    "        artefact_embedded.append(version.get(\"Elements\", []))\n",
    "\n",
    "\n",
    "if (artefact_embedded):\n",
    "    print(Fore.RED + \"[✓] Some embedded files detected\")\n",
    "    print(artefact_embedded)\n",
    "else:\n",
    "    print(Fore.GREEN + \"[!] No embedded files detected\")"
   ]
  },
  {
   "attachments": {},
   "cell_type": "markdown",
   "metadata": {},
   "source": [
    "Il est tout à fait possible d'extraire les documents incrustés via la commande **pdf-parser**."
   ]
  },
  {
   "cell_type": "code",
   "execution_count": null,
   "metadata": {},
   "outputs": [],
   "source": [
    "objectID = 82\n",
    "os.system(f\"pdf-parser.py --object {objectID} -f -w -d {pdfFile}_{objectID} {pdfFile} 1>/dev/null 2>&1\")"
   ]
  },
  {
   "attachments": {},
   "cell_type": "markdown",
   "metadata": {},
   "source": [
    "Le type de fichier extrait, peut désormais être identifié via la commande **file**."
   ]
  },
  {
   "cell_type": "code",
   "execution_count": null,
   "metadata": {},
   "outputs": [],
   "source": [
    "os.system(f\"file {pdfFile}_{objectID}\")"
   ]
  },
  {
   "attachments": {},
   "cell_type": "markdown",
   "metadata": {},
   "source": [
    "### Analyse avancée des objets\n",
    "\n",
    "Dans un second temps, nous allons identifier si le contenu est chiffré, encodé ou toutes autres sections suspectes."
   ]
  },
  {
   "cell_type": "code",
   "execution_count": null,
   "metadata": {},
   "outputs": [],
   "source": [
    "artefact_encoded = []\n",
    "artefact_compressed = []\n",
    "\n",
    "for version in pdf.getStats().get(\"Versions\",[]):\n",
    "    if version.get(\"Compressed Objects\", []): artefact_compressed.append(version.get(\"Compressed Objects\", []))\n",
    "    if version.get(\"Encoded\", []): artefact_encoded.append(version.get(\"Encoded\", []))\n",
    "\n",
    "if artefact_encoded:\n",
    "    print(Fore.RED + \"[✓] Some encoded section detected.\")\n",
    "    print(artefact_encoded)\n",
    "\n",
    "if artefact_compressed:\n",
    "    print(Fore.RED + \"[✓] Some compressed objects detected. Result contains stream ID.\")\n",
    "    print(artefact_compressed)\n"
   ]
  },
  {
   "attachments": {},
   "cell_type": "markdown",
   "metadata": {},
   "source": [
    "Certains objets ont été identifiés comme encodé ou chiffré. \\\n",
    "Il peut être interessant de réaliser une analyse approfondie en visualisant le contenu de ces objets. \\\n",
    "Pour cela, vous devrez saisir la valeur **objectID**."
   ]
  },
  {
   "cell_type": "code",
   "execution_count": null,
   "metadata": {},
   "outputs": [],
   "source": [
    "## source : https://github.com/jesparza/peepdf/blob/master/peepdf.py\n",
    "objectID = 7\n",
    "object = pdf.getObject(objectID)\n",
    "\n",
    "objectReport = {}\n",
    "objectReport['type'] = object.elements['/Type'].getValue()\n",
    "objectReport['length'] = object.elements['/Length'].getValue()\n",
    "objectReport['filter'] = object.elements['/Filter'].getValue()\n",
    "print(objectReport)\n",
    "object.getRawValue()\n",
    "\n"
   ]
  },
  {
   "attachments": {},
   "cell_type": "markdown",
   "metadata": {},
   "source": [
    "Si le contenu est compressé ou encodé, l'outil **pdf-parser** peut être util pour traiter l'information et obtenir un rendu favorisant l'analyse."
   ]
  },
  {
   "cell_type": "code",
   "execution_count": null,
   "metadata": {},
   "outputs": [],
   "source": [
    "objectID = 7\n",
    "os.system(f\"pdf-parser.py --object {objectID} -f  {pdfFile} \")"
   ]
  },
  {
   "attachments": {},
   "cell_type": "markdown",
   "metadata": {},
   "source": [
    "## Analyse visuelle du document\n",
    "\n",
    "Si l'analyse statique n'a rien révelé, il peut être interessant d'analyser l'aspect visuel du document. \\\n",
    "Plutôt que de l'ouvrir avec un logiciel dédié, il est préférable de générer une image du contenu afin de limiter les risques de contamination. "
   ]
  },
  {
   "cell_type": "code",
   "execution_count": null,
   "metadata": {},
   "outputs": [],
   "source": [
    "from IPython import display\n",
    "os.system(f\"pdftoppm {pdfFile} {pdfFile} -png -singlefile\")\n",
    "display.Image(f\"{pdfFile}.png\")"
   ]
  },
  {
   "attachments": {},
   "cell_type": "markdown",
   "metadata": {},
   "source": [
    "Pour rédiger ce notebook, je me suis inspiré des scripts ci-dessous : \n",
    "- https://raw.githubusercontent.com/intelowlproject/IntelOwl/master/api_app/analyzers_manager/file_analyzers/pdf_info.py\n",
    "- https://github.com/hiddenillusion/AnalyzePDF/blob/master/AnalyzePDF.py\n",
    "- https://prtksec.github.io/posts/MA_PDF_Notes/"
   ]
  }
 ],
 "metadata": {
  "kernelspec": {
   "display_name": "Python 3.11.4 64-bit ('3.11.4')",
   "language": "python",
   "name": "python3"
  },
  "language_info": {
   "codemirror_mode": {
    "name": "ipython",
    "version": 3
   },
   "file_extension": ".py",
   "mimetype": "text/x-python",
   "name": "python",
   "nbconvert_exporter": "python",
   "pygments_lexer": "ipython3",
   "version": "3.11.4"
  },
  "orig_nbformat": 4,
  "vscode": {
   "interpreter": {
    "hash": "b8acf002f28ebb43f366505f0e5b813e5533fa2e397d13c038f57c477a6eba7f"
   }
  }
 },
 "nbformat": 4,
 "nbformat_minor": 2
}
