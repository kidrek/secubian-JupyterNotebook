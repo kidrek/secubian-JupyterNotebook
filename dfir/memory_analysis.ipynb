{
 "cells": [
  {
   "attachments": {},
   "cell_type": "markdown",
   "metadata": {},
   "source": [
    "# Analyse d'une collecte de mémoire vive"
   ]
  },
  {
   "cell_type": "code",
   "execution_count": null,
   "metadata": {},
   "outputs": [],
   "source": [
    "from colorama import init, Fore, Back, Style\n",
    "import os\n",
    "import json\n",
    "import pandas as pd\n",
    "import re\n",
    "from IPython.display import display, HTML\n",
    "\n",
    "from pandas.io.json import json_normalize\n",
    "import ipaddress as ip\n",
    "from msticpy.transform.iocextract import IoCExtract\n",
    "import msticpy as mp\n",
    "mp.init_notebook(globals(), verbosity=0)\n",
    "ti = mp.TILookup()\n",
    "ioc_extract = IoCExtract()\n",
    "\n",
    "#Expand the width of the cells\n",
    "display(HTML(\"<style>.container { width:90% !important; }</style>\"))\n",
    "\n",
    "pd.set_option('display.max_rows', None)\n",
    "pd.set_option('display.max_columns', None)\n",
    "pd.set_option('display.width', None)\n",
    "pd.set_option('display.max_colwidth', None)\n",
    "\n",
    "def ip_type(string):\n",
    "    if ip.ip_address(string).is_private:\n",
    "        return 'Private'\n",
    "    elif ip.ip_address(string).is_multicast:\n",
    "        return 'Multicast'\n",
    "    elif ip.ip_address(string).is_reserved:\n",
    "        return 'Reserved'\n",
    "    elif ip.ip_address(string).is_loopback:\n",
    "        return 'Loopback'\n",
    "    elif ip.ip_address(string).is_global:\n",
    "        return 'Public'\n",
    "    elif ip.ip_address(string).is_link_local:\n",
    "        return 'Link local'\n",
    "\n",
    "\n",
    "mem_path = \"/home/secubian/Desktop/Cases/0C-002-memdump.mem\"\n",
    "vol  = f\"vol --offline -f {mem_path}\"\n"
   ]
  },
  {
   "attachments": {},
   "cell_type": "markdown",
   "metadata": {},
   "source": [
    "## Récupération d'informations relatives au prélévement mémoire\n",
    "\n",
    "Cette étape est importante pour la suite de l'investigation.\n",
    "Elle va permettre de vérifier que le profile correspondant au système d'exploitation du prélévement est bien pris en charge par Volatility3. "
   ]
  },
  {
   "cell_type": "code",
   "execution_count": null,
   "metadata": {},
   "outputs": [],
   "source": [
    "os.system(f\"{ vol } windows.info.Info\")"
   ]
  },
  {
   "attachments": {},
   "cell_type": "markdown",
   "metadata": {},
   "source": [
    "# Extraction des informations pour analyse\n",
    "\n",
    "Cette étape va permettre d'exécuter un certain nombre de modules pour extraire l'ensemble des informations nécessaires à l'investigation de l'analyste."
   ]
  },
  {
   "cell_type": "code",
   "execution_count": null,
   "metadata": {},
   "outputs": [],
   "source": [
    "volplugins_lst = [\"windows.privileges.Privs\", \"windows.sessions.Sessions\",\"windows.pslist.PsList\",\"windows.psscan.PsScan\",\"windows.cmdline.CmdLine\",\"windows.netscan.NetScan\",\"windows.callbacks.Callbacks\",\"windows.driverscan.DriverScan\",\"windows.dlllist.DllList\",\"windows.svcscan.SvcScan\",\"windows.handles.Handles\",\"windows.malfind.Malfind\",\"windows.ssdt.SSDT\"]\n",
    "\n",
    "for plugin in volplugins_lst:\n",
    "    # Check if plugin is already executed\n",
    "    if not (os.path.isfile(f\"{ mem_path }_{ plugin }.json\")):\n",
    "        # Execute plugin and save result in json file\n",
    "        os.system( f\"{ vol } -r json  { plugin } > { mem_path }_{ plugin }.json\")\n",
    "\n",
    "    globals()[f\"df_{ plugin.replace('.','_') }\"] = pd.read_json(f\"{ mem_path }_{ plugin }.json\")\n",
    "\n"
   ]
  },
  {
   "attachments": {},
   "cell_type": "markdown",
   "metadata": {},
   "source": [
    "## Enrichissement des données collectées"
   ]
  },
  {
   "cell_type": "code",
   "execution_count": null,
   "metadata": {},
   "outputs": [],
   "source": [
    "dfsession = df_windows_sessions_Sessions.rename(columns={'Process ID': 'PID'})\n",
    "#dfsession[['PID', 'User Name']]\n",
    "\n",
    "# Enrichissement des processus - PsList\n",
    "df_windows_pslist_PsList_enriched = df_windows_pslist_PsList.merge(dfsession, on='PID', how='left' )\n",
    "dfppid = df_windows_pslist_PsList_enriched[['PID', 'ImageFileName','User Name']].drop_duplicates()\n",
    "dfppid.columns = ['PPID', 'ParentProcessName','ParentUserName']\n",
    "df_windows_pslist_PsList_enriched = df_windows_pslist_PsList_enriched.merge(dfppid, on='PPID', how='left')\n",
    "#df_windows_pslist_PsList_enriched.sort_values(by=['SessionId','PPID','ParentProcessName'])[['SessionId','PID','ImageFileName','User Name','PPID','ParentProcessName','ParentUserName']].head()\n",
    "\n",
    "\n",
    "# Enrichissement des processus - PsScan\n",
    "df_windows_psscan_PsScan_enriched = df_windows_psscan_PsScan.merge(dfsession, on='PID', how='left' )\n",
    "dfppid = df_windows_psscan_PsScan_enriched[['PID', 'ImageFileName','User Name']].drop_duplicates()\n",
    "dfppid.columns = ['PPID', 'ParentProcessName','ParentUserName']\n",
    "df_windows_psscan_PsScan_enriched = df_windows_psscan_PsScan_enriched.merge(dfppid, on='PPID', how='left')\n",
    "#df_windows_psscan_PsScan_enriched.sort_values(by=['SessionId','PPID','ParentProcessName'])[['SessionId','PID','ImageFileName','User Name','PPID','ParentProcessName','ParentUserName']].head()\n",
    "\n",
    "\n",
    "# Enrichissement des résultats du mdule CmdLine\n",
    "df_windows_cmdline_CmdLine_enriched = df_windows_cmdline_CmdLine.merge(dfsession, on='PID', how='left' )\n",
    "df_windows_cmdline_CmdLine_enriched = df_windows_cmdline_CmdLine_enriched.rename(columns={'Process_x': 'Process'})\n",
    "dfppid = df_windows_psscan_PsScan_enriched[['PID', 'PPID', 'ParentProcessName','ParentUserName']].drop_duplicates()\n",
    "df_windows_cmdline_CmdLine_enriched = df_windows_cmdline_CmdLine_enriched.merge(dfppid, on='PID', how='left' )\n",
    "\n",
    "# Enrichissement des Dlls\n",
    "df_windows_dlllist_DllList_enriched = df_windows_dlllist_DllList.merge(dfsession, on='PID', how='left' )\n",
    "dfppid = df_windows_psscan_PsScan_enriched[['PID','PPID', 'ParentProcessName','ParentUserName']].drop_duplicates()\n",
    "df_windows_dlllist_DllList_enriched = df_windows_dlllist_DllList_enriched.merge(dfppid, on='PID', how='left')\n",
    "df_windows_dlllist_DllList_enriched = df_windows_dlllist_DllList_enriched[['Path','PID','Process_x','User Name','PPID', 'ParentProcessName','ParentUserName']][df_windows_dlllist_DllList_enriched[\"Path\"].str.contains('programdata|users|utilisateurs|temp|tmp', flags=re.IGNORECASE) == True].drop_duplicates()\n",
    "\n",
    "# Enrichissement des Handles\n",
    "df_windows_handles_Handles_enriched = df_windows_handles_Handles.merge(dfsession, on='PID', how='left')\n",
    "dfppid = df_windows_psscan_PsScan_enriched[['PID','PPID', 'ParentProcessName','ParentUserName']].drop_duplicates()\n",
    "df_windows_handles_Handles_enriched = df_windows_handles_Handles_enriched.merge(dfppid, on='PID', how='left')\n",
    "df_windows_handles_Handles_enriched = df_windows_handles_Handles_enriched[['Create Time', 'PID', 'Process_x', 'User Name', 'Name', 'Type',  'GrantedAccess','HandleValue', 'Offset',    'PPID', 'ParentProcessName', 'ParentUserName']]\n",
    "\n",
    "# Enrichissement des résultats du module : NetScan\n",
    "df_windows_netscan_NetScan_enriched = df_windows_netscan_NetScan.merge(dfsession, on='PID', how='left')\n",
    "dfppid = df_windows_psscan_PsScan_enriched[['PID','PPID', 'ParentProcessName','ParentUserName']].drop_duplicates()\n",
    "df_windows_netscan_NetScan_enriched = df_windows_netscan_NetScan_enriched.merge(dfppid, on='PID', how='left')\n",
    "\n",
    "# Enrichissement des résultats du module : malfind\n",
    "df_windows_malfind_Malfind_enriched = df_windows_malfind_Malfind.merge(dfsession[['PID','User Name']], on='PID', how='left')\n",
    "dfppid = df_windows_psscan_PsScan_enriched[['PID','PPID', 'ParentProcessName','ParentUserName']].drop_duplicates()\n",
    "df_windows_malfind_Malfind_enriched = df_windows_malfind_Malfind_enriched.merge(dfppid, on='PID', how='left')\n",
    "\n",
    "# Enrichissement des résultats du module : svcscan\n",
    "df_windows_svcscan_SvcScan = df_windows_svcscan_SvcScan.dropna()\n",
    "df_windows_svcscan_SvcScan['PID'] = df_windows_svcscan_SvcScan['PID'].astype('int')\n",
    "df_windows_svcscan_SvcScan_enriched = df_windows_svcscan_SvcScan.merge(dfsession[['PID','User Name']], on='PID', how='left')\n",
    "dfppid = df_windows_psscan_PsScan_enriched[['PID','PPID', 'ParentProcessName','ParentUserName']].drop_duplicates()\n",
    "df_windows_svcscan_SvcScan_enriched = df_windows_svcscan_SvcScan_enriched.merge(dfppid, on='PID', how='left')\n",
    "\n",
    "# Enrichissemnt des résultats du module : privileges\n",
    "df_windows_privileges_Privs_enriched = df_windows_privileges_Privs.merge(dfsession[['PID','User Name']], on='PID', how='left')\n",
    "df_windows_privileges_Privs_enriched = df_windows_privileges_Privs_enriched.merge(dfppid, on='PID', how='left')\n"
   ]
  },
  {
   "attachments": {},
   "cell_type": "markdown",
   "metadata": {},
   "source": [
    "# Analyse des processus\n",
    "\n",
    "Cette phase permet d'analyser les processus en cours d'exécution lors du prélévement.\n",
    "La première étape consiste donc à analyser la double liste chainée répertoriant les processus au sein du système d'exploitation Microsoft Windows."
   ]
  },
  {
   "attachments": {},
   "cell_type": "markdown",
   "metadata": {},
   "source": [
    "## Identification de processus cachés\n",
    "\n",
    "Analyse les différences entre les résultats des plugins PsTree et PsScan.\n",
    "Malheureusement, il est tout à fait possible de masquer une exécution de processus malveillant, en ne l'intégrant pas dans cette liste. Il va donc faloir utiliser le module ```PsScan``` qui a pour objectif de scanner l'ensemble de la mémoire à la recherche de structure EPROCESS, puis comparer les deux résultats."
   ]
  },
  {
   "cell_type": "code",
   "execution_count": null,
   "metadata": {},
   "outputs": [],
   "source": [
    "for proc in df_windows_psscan_PsScan_enriched['PID']:\n",
    "    p_count = df_windows_pslist_PsList[df_windows_pslist_PsList.PID == proc].shape[0]\n",
    "    if p_count == 0 :\n",
    "        procPID = proc\n",
    "        procPPID = df_windows_psscan_PsScan_enriched[df_windows_psscan_PsScan_enriched.PID == proc]['PPID'].to_string(index = False)\n",
    "        procFileName = df_windows_psscan_PsScan_enriched[df_windows_psscan_PsScan_enriched.PID == proc]['ImageFileName'].to_string(index = False)\n",
    "        procUserName = df_windows_psscan_PsScan_enriched[df_windows_psscan_PsScan_enriched.PID == proc]['User Name'].to_string(index = False)\n",
    "        procParentProcessName = df_windows_psscan_PsScan_enriched[df_windows_psscan_PsScan_enriched.PID == proc]['ParentProcessName'].to_string(index = False)\n",
    "        procParentUserName = df_windows_psscan_PsScan_enriched[df_windows_psscan_PsScan_enriched.PID == proc]['ParentUserName'].to_string(index = False)\n",
    "        print(Fore.RED + f\"[!] Suspicious process hidden in psList for PID: { procPID }, Filename: { procFileName}, executed by Username: {procUserName}, with PPID: {procPPID}, ParentProcessName: {procParentProcessName} executed by: {procParentUserName}\")"
   ]
  },
  {
   "attachments": {},
   "cell_type": "markdown",
   "metadata": {},
   "source": [
    "## Recherche des processus systèmes ayant plus occurrences"
   ]
  },
  {
   "attachments": {},
   "cell_type": "markdown",
   "metadata": {},
   "source": [
    "- Définition des processus devant être unique sur un système Microsoft Windows "
   ]
  },
  {
   "cell_type": "code",
   "execution_count": null,
   "metadata": {},
   "outputs": [],
   "source": [
    "singleprocs = [\"system\",\"wininit.exe\",\"lsass.exe\",\"lsm.exe\",\"services.exe\",\"lsaiso.exe\"]"
   ]
  },
  {
   "attachments": {},
   "cell_type": "markdown",
   "metadata": {},
   "source": [
    "- Lancement de la recherche"
   ]
  },
  {
   "cell_type": "code",
   "execution_count": null,
   "metadata": {},
   "outputs": [],
   "source": [
    "for procs in singleprocs:\n",
    "    p_count = df_windows_pslist_PsList[df_windows_pslist_PsList.ImageFileName.str.lower() == procs].shape[0]\n",
    "    if p_count == 1:\n",
    "        print(Fore.GREEN + \"[✓]No multiple instance(s) of \" + procs + \" found\")\n",
    "    elif p_count > 1:\n",
    "        print(Fore.RED + \"[!]Multiple instance(s) of \" + procs + \" found!\")\n",
    "        print(df_windows_pslist_PsList[df_windows_pslist_PsList.ImageFileName.str.lower() == procs][['PID','ImageFileName','UserName','PPID','ParentProcessName','ParentUserName']].to_string(index = False))\n"
   ]
  },
  {
   "attachments": {},
   "cell_type": "markdown",
   "metadata": {},
   "source": [
    "## Analyse des processus svchost et rundll32"
   ]
  },
  {
   "attachments": {},
   "cell_type": "markdown",
   "metadata": {},
   "source": [
    "Tous les processus svchost et rundll32 possèdent des arguments dans un fonctionnement normal. \\\n",
    "Voici donc la liste des processus n'ayant pas d'argument et de ce fait considérés comme suspects."
   ]
  },
  {
   "cell_type": "code",
   "execution_count": null,
   "metadata": {},
   "outputs": [],
   "source": [
    "noargs = df_windows_cmdline_CmdLine_enriched[df_windows_cmdline_CmdLine_enriched['Args'].str.contains('svchost.exe$|rundll32.exe$', flags=re.IGNORECASE)][['PID','Process','Args','User Name']]\n",
    "if (noargs.empty):\n",
    "    print(Fore.GREEN + \"[✓] No svchost.exe or rundll32.exe process identified without commandline arguments\")\n",
    "else:\n",
    "    print(Fore.RED + \"[!] Some svchost.exe or rundll32.exe without command line was identified!\")\n",
    "    print(noargs.to_string(index = False))\n",
    "    "
   ]
  },
  {
   "attachments": {},
   "cell_type": "markdown",
   "metadata": {},
   "source": [
    "## Analyse des processus connus exécutés à partir de chemin non standards\n",
    "\n",
    "Certains outils intégrés par défaut au sein du système d'exploitation Microsoft peuvent être très utils durant une attaque. Malheureusement ces outils sont très souvent surveillés. C'est pour cela, que certains modes opératoires utilisent ces outils à partir de répertoires temporaires, ou dans les répertoires correspondant aux profiles des utilisateurs compromis. La recherche ci-dessous va permettre de comparer les chemins connus de ceux actuellement présents dans la collecte de la mémoire vive pour déceler toute incohérence."
   ]
  },
  {
   "cell_type": "code",
   "execution_count": null,
   "metadata": {},
   "outputs": [],
   "source": [
    "knownProcesses = {\n",
    "                    'conhost.exe':['c:\\windows\\system32\\conhost.exe'],\n",
    "                    'dllhost.exe':['c:\\windows\\system32\\dllhost.exe','c:\\windows\\syswow64\\dllhost.exe'],\n",
    "                    'csrss.exe':['c:\\windows\\system32\\csrss.exe', '%systemroot%\\system32\\csrss.exe'],\n",
    "                    'explorer.exe':['c:\\windows\\explorer.exe','c:\\windows\\syswow64\\explorer.exe'],\n",
    "                    'lsaiso.exe':['c:\\windows\\system32\\lsaiso.exe'],\n",
    "                    'lsass.exe':['c:\\windows\\system32\\lsass.exe'],\n",
    "                    'runtimebroker.exe':['c:\\windows\\system32\\runtimebroker.exe'],\n",
    "                    'services.exe':['c:\\windows\\system32\\services.exe'],\n",
    "                    'smss.exe':['c:\\windows\\system32\\smss.exe','\\systemroot\\system32\\smss.exe'],\n",
    "                    'svchost.exe':['c:\\windows\\system32\\svchost.exe','c:\\windows\\syswow64\\svchost.exe'],\n",
    "                    'taskhostw.exe':['c:\\windows\\system32\\taskhostw.exe'],\n",
    "                    'wininit.exe':['c:\\windows\\system32\\wininit.exe', 'wininit.exe'],\n",
    "                    'winlogon.exe':['c:\\windows\\system32\\winlogon.exe', 'winlogon.exe'],\n",
    "                    'wmiprvse.exe':['c:\\windows\\system32\\wbem\\wmiprvse.exe','c:\\windows\\syswow64\\wbem\\wmiprvse.exe']\n",
    "}\n",
    "\n",
    "suspProcess = []\n",
    "for process in df_windows_cmdline_CmdLine_enriched[['Args','Process','PID']].head(20).to_dict('records'):\n",
    "    processPath = process['Args'].strip().split(' ')[0].lower()\n",
    "    processName = process['Process'].lower()\n",
    "    processId   = process['PID']\n",
    "    try:\n",
    "        found = 0\n",
    "        for path in knownProcesses[processName]:\n",
    "            if path == processPath:\n",
    "                found = 1\n",
    "        if found == 0:\n",
    "            suspProcess.append(process)\n",
    "    except:\n",
    "        pass\n",
    "\n",
    "if suspProcess:\n",
    "    print(Fore.RED + \"[!] Some known Microsoft Windows binaries used from non known default path \")\n",
    "    for process in suspProcess:\n",
    "        print(process)\n",
    "else:\n",
    "    print(Fore.GREEN + \"[✓] No known Microsoft Windows binaries used from non known default path \")\n"
   ]
  },
  {
   "attachments": {},
   "cell_type": "markdown",
   "metadata": {},
   "source": [
    "## Analyse des Dlls\n",
    "\n",
    "Affichage de l'ensemble des librairies systèmes chargées à partir de répertoires non habituels."
   ]
  },
  {
   "cell_type": "code",
   "execution_count": null,
   "metadata": {},
   "outputs": [],
   "source": [
    "suspdlls = df_windows_dlllist_DllList_enriched[['Path','PID','Process_x','UserName','PPID', 'ParentProcessName','ParentUserName']][df_windows_dlllist_DllList_enriched[\"Path\"].str.contains('.exe$', flags=re.IGNORECASE) == False]\n",
    "if (suspdlls.empty):\n",
    "    print(Fore.GREEN + \"[✓] No Suspicious DLLs identified\")\n",
    "else:\n",
    "    print(Fore.RED + \"[!] Suspicious DLLs identified\")\n",
    "    print(suspdlls.to_string(index = False))"
   ]
  },
  {
   "attachments": {},
   "cell_type": "markdown",
   "metadata": {},
   "source": [
    "## Analyse hooking SSDT"
   ]
  },
  {
   "cell_type": "code",
   "execution_count": null,
   "metadata": {},
   "outputs": [],
   "source": [
    "sus_kernelhook = df_windows_ssdt_SSDT[(df_windows_ssdt_SSDT[\"Module\"].str.match(r\"(ntoskrnl1|win32k)\",case=False) == False)][[\"Address\",\"Module\",\"Symbol\"]]\n",
    "if (sus_kernelhook.empty):\n",
    "    print(Fore.GREEN + \"[✓]No suspicious SSDT hooking detected\")\n",
    "else:\n",
    "    print(Fore.RED + \"[!]Suspicious SSDT hooking detected!\")\n",
    "    print(sus_kernelhook.to_string(index = False))"
   ]
  },
  {
   "attachments": {},
   "cell_type": "markdown",
   "metadata": {},
   "source": [
    "## Analyse process identified by malfind"
   ]
  },
  {
   "cell_type": "code",
   "execution_count": null,
   "metadata": {},
   "outputs": [],
   "source": [
    "procinject1=df_windows_malfind_Malfind_enriched[df_windows_malfind_Malfind_enriched[\"Hexdump\"].str.contains(\"MZ\") == True][['PID','Process','UserName','Start VPN','End VPN','Protection','Disasm', 'PPID', 'ParentProcessName', 'ParentUserName']]\n",
    "if (procinject1.empty):\n",
    "    print(Fore.GREEN + \"[✓]No MZ header detected in malfind preview output\")\n",
    "else:\n",
    "    print(Fore.RED + \"[!]MZ header detected within malfind preview (Process Injection indicator) \\n\")\n",
    "    print(procinject1[['Protection', 'PID','Process','UserName', 'PPID', 'ParentProcessName', 'ParentUserName']].drop_duplicates().to_string(index = False))\n",
    "\n"
   ]
  },
  {
   "attachments": {},
   "cell_type": "markdown",
   "metadata": {},
   "source": [
    "## [TODO] Analyse des privilèges associés aux processus"
   ]
  },
  {
   "attachments": {},
   "cell_type": "markdown",
   "metadata": {},
   "source": [
    "## [TODO] Analyse Handle to detect pipe\n",
    "\n",
    "Les malwares utilisent très souvent des tubes nommés (Pipe Named) afin d'échanger avec le système "
   ]
  },
  {
   "cell_type": "code",
   "execution_count": null,
   "metadata": {},
   "outputs": [],
   "source": [
    "df_windows_handles_Handles_enriched[(df_windows_handles_Handles_enriched[\"Type\"] == \"File\") & (df_windows_handles_Handles_enriched[\"Type\"].str.match(r\"\\\\Device\\\\NamedPipe\\\\().*\",case=False) == False)].head()"
   ]
  },
  {
   "attachments": {},
   "cell_type": "markdown",
   "metadata": {},
   "source": [
    "## [TODO]  Syscall analysis"
   ]
  },
  {
   "attachments": {},
   "cell_type": "markdown",
   "metadata": {},
   "source": [
    "# Network Analysis"
   ]
  },
  {
   "attachments": {},
   "cell_type": "markdown",
   "metadata": {},
   "source": [
    "## Identification de connexions distantes, potentiellement suspectes"
   ]
  },
  {
   "attachments": {},
   "cell_type": "markdown",
   "metadata": {},
   "source": [
    "Voici une analyse des adresses ip publiques via les bases de Threat Intelligence : "
   ]
  },
  {
   "cell_type": "code",
   "execution_count": null,
   "metadata": {},
   "outputs": [],
   "source": [
    "# source : \n",
    "#os.system('export MSTICPYCONFIG=\"/home/secubian/Desktop/Documentation/JupyterNotebook/msticpyconfig.yaml\"')\n",
    "\n",
    "#df_windows_netscan_NetScan_public_ip = df_windows_netscan_NetScan_enriched[['ForeignAddr']][(df_windows_netscan_NetScan_enriched[\"ForeignAddr\"] != \"*\") & (df_windows_netscan_NetScan_enriched[\"ForeignAddr\"] != \"0.0.0.0\") & (df_windows_netscan_NetScan_enriched[\"ForeignAddr\"] != \"::\")].drop_duplicates()\n",
    "#df_windows_netscan_NetScan_public_ip_ioc = ioc_extract.extract(data=df_windows_netscan_NetScan_public_ip, columns=['ForeignAddr'])\n",
    "#df_windows_netscan_NetScan_public_ip_ioc = df_windows_netscan_NetScan_public_ip_ioc[['IoCType','Observable']].rename(columns={'Observable': 'Ioc'})\n",
    "\n",
    "suspnetworkconnections = df_windows_netscan_NetScan_enriched[['Create Time', 'State', 'Proto', 'LocalAddr', 'LocalPort', 'ForeignAddr', 'ForeignPort', 'Session Type', 'PID', 'Process', 'UserName',   'PPID','ParentProcessName', 'ParentUserName']][(df_windows_netscan_NetScan_enriched[\"State\"] == \"ESTABLISHED\") | (df_windows_netscan_NetScan_enriched[\"State\"] == \"CLOSED\")].sort_values(by='PID', ascending=False)\n",
    "suspnetworkconnections['ip_type'] = suspnetworkconnections['ForeignAddr'].apply(ip_type)\n",
    "\n",
    "if (suspnetworkconnections[(suspnetworkconnections[\"ip_type\"] == 'Public')].empty):\n",
    "    print(Fore.GREEN + \"[✓] No Potentially Suspicious Network connections identified\")\n",
    "else:\n",
    "    df_windows_netscan_NetScan_ti = ti.lookup_iocs(data=suspnetworkconnections[(suspnetworkconnections[\"ip_type\"] == 'Public')], ioc_col=\"ForeignAddr\", providers=[\"VirusTotal\", \"OTX\"])\n",
    "    df_suspnetworkconnections = df_windows_netscan_NetScan_ti[df_windows_netscan_NetScan_ti['Result']==True]\n",
    "    df_suspnetworkconnections = pd.json_normalize(data=df_suspnetworkconnections[['Ioc','Provider','Details']].to_dict(orient='records'))\n",
    "\n",
    "    if (df_suspnetworkconnections.empty):\n",
    "        print(Fore.GREEN + \"[✓] No Potentially Suspicious Network connections identified\")\n",
    "    else:\n",
    "        print(Fore.RED + \"[!] Potentially Suspicious Network connections identified\")\n",
    "        display(df_suspnetworkconnections)\n",
    "\n"
   ]
  },
  {
   "attachments": {},
   "cell_type": "markdown",
   "metadata": {},
   "source": [
    "Voici les connexions réseaux à destination des réseaux privés ou publics."
   ]
  },
  {
   "cell_type": "code",
   "execution_count": null,
   "metadata": {},
   "outputs": [],
   "source": [
    "suspnetworkconnections = df_windows_netscan_NetScan_enriched[['Create Time', 'State', 'Proto', 'LocalAddr', 'LocalPort', 'ForeignAddr', 'ForeignPort', 'Session Type', 'PID', 'Process', 'UserName',   'PPID','ParentProcessName', 'ParentUserName']][(df_windows_netscan_NetScan_enriched[\"State\"] == \"ESTABLISHED\") | (df_windows_netscan_NetScan_enriched[\"State\"] == \"CLOSED\")].sort_values(by='PID', ascending=False)\n",
    "suspnetworkconnections['ip_type'] = suspnetworkconnections['ForeignAddr'].apply(ip_type)\n",
    "\n",
    "if (suspnetworkconnections[(suspnetworkconnections[\"ip_type\"] == 'Public') | (suspnetworkconnections[\"ip_type\"] == 'Private')].empty):\n",
    "    print(Fore.GREEN + \"[✓] No Potentially Suspicious Network connections identified\")\n",
    "else:\n",
    "    print(Fore.RED + \"[!] Potentially Suspicious Network connections identified\\n\")\n",
    "    print(suspnetworkconnections[(suspnetworkconnections[\"ip_type\"] == 'Public') | (suspnetworkconnections[\"ip_type\"] == 'Private')].to_string(index = False))"
   ]
  },
  {
   "attachments": {},
   "cell_type": "markdown",
   "metadata": {},
   "source": [
    "## Identification des processus en écoute sur le système"
   ]
  },
  {
   "cell_type": "code",
   "execution_count": null,
   "metadata": {},
   "outputs": [],
   "source": [
    "df_windows_netscan_NetScan_enriched[['Create Time', 'State', 'Proto', 'LocalPort', 'PID', 'Process', 'UserName',   'PPID','ParentProcessName', 'ParentUserName']][(df_windows_netscan_NetScan_enriched[\"State\"] == \"LISTENING\")].sort_values(by='PID', ascending=False)"
   ]
  },
  {
   "attachments": {},
   "cell_type": "markdown",
   "metadata": {},
   "source": [
    "# Analyse des services"
   ]
  },
  {
   "attachments": {},
   "cell_type": "markdown",
   "metadata": {},
   "source": [
    "Cette analyse va permettre d'identifier les services exécutant des binaires à partir d'emplacement non conventionnels."
   ]
  },
  {
   "cell_type": "code",
   "execution_count": null,
   "metadata": {},
   "outputs": [],
   "source": [
    "suspservice = df_windows_svcscan_SvcScan_enriched.dropna()\n",
    "suspservice = suspservice[~suspservice[\"Binary\"].str.lower().str.contains(':\\\\\\\\windows\\\\\\\\system32\\\\\\\\|:\\\\\\\\program files\\\\\\\\')]\n",
    "if (suspservice.empty):\n",
    "    print(Fore.GREEN + \"[✓] No Potentially Suspicious Services identified\")\n",
    "else:\n",
    "    print(Fore.RED + \"[!] Potentially Suspicious Services identified\\n\")\n",
    "    print(suspservice[['Name','Display','Binary','UserName','State','PID','Start']].to_string(index = False))"
   ]
  },
  {
   "attachments": {},
   "cell_type": "markdown",
   "metadata": {},
   "source": [
    "# Generation de la timeline\n",
    "\n",
    "La prochaine étape consiste à générer la timeline des actions réalisées sur le système d'exploitation et le système de fichiers afin de déterminer tout comportement malveillant. \\\n",
    "Pour ce faire, nous allons utiliser le module : timeliner.Timeliner \\\n",
    "Une fois la timeline prête, nous l'importerons dans l'instance Timesketch présente sur Secubian.\n",
    "\n",
    "PS : Il semble y avoir un souci de compatibilité entre la sortie de volatility3 et log2timeline \\\n",
    "https://github.com/volatilityfoundation/volatility3/issues/542"
   ]
  },
  {
   "cell_type": "code",
   "execution_count": null,
   "metadata": {},
   "outputs": [],
   "source": [
    "# Execute plugin and save result in json file\n",
    "plugin = \"timeliner.Timeliner\"\n",
    "#os.system( f\"{ vol } { plugin } --create-bodyfile > { mem_path }_{ plugin }.body\")\n",
    "#os.system( f\"{ vol } { plugin }   > { mem_path }_{ plugin }.json\")\n",
    "\n",
    "#os.system( f\"mactime -z UTC -y -d -b { mem_path }_{ plugin }.body > { mem_path }_{ plugin }.csv\")\n",
    "\n"
   ]
  }
 ],
 "metadata": {
  "kernelspec": {
   "display_name": "Python 3",
   "language": "python",
   "name": "python3"
  },
  "language_info": {
   "codemirror_mode": {
    "name": "ipython",
    "version": 3
   },
   "file_extension": ".py",
   "mimetype": "text/x-python",
   "name": "python",
   "nbconvert_exporter": "python",
   "pygments_lexer": "ipython3",
   "version": "3.9.2"
  },
  "orig_nbformat": 4,
  "vscode": {
   "interpreter": {
    "hash": "916dbcbb3f70747c44a77c7bcd40155683ae19c65e1c03b4aa3499c5328201f1"
   }
  }
 },
 "nbformat": 4,
 "nbformat_minor": 2
}
