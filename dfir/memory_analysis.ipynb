{
 "cells": [
  {
   "attachments": {},
   "cell_type": "markdown",
   "metadata": {},
   "source": [
    "# Analyse d'une collecte de mémoire vive"
   ]
  },
  {
   "cell_type": "code",
   "execution_count": 205,
   "metadata": {},
   "outputs": [
    {
     "data": {
      "text/html": [
       "<style>.container { width:90% !important; }</style>"
      ],
      "text/plain": [
       "<IPython.core.display.HTML object>"
      ]
     },
     "metadata": {},
     "output_type": "display_data"
    }
   ],
   "source": [
    "from colorama import init, Fore, Back, Style\n",
    "import os\n",
    "import json\n",
    "import pandas as pd\n",
    "import re\n",
    "from IPython.display import display, HTML\n",
    "\n",
    "#Expand the width of the cells\n",
    "display(HTML(\"<style>.container { width:90% !important; }</style>\"))\n",
    "\n",
    "pd.set_option('display.max_rows', None)\n",
    "pd.set_option('display.max_columns', None)\n",
    "pd.set_option('display.width', None)\n",
    "pd.set_option('display.max_colwidth', None)\n",
    "\n",
    "mem_path = \"/home/secubian/Desktop/Cases/0C-002-memdump.mem\"\n",
    "vol  = f\"vol --offline -f {mem_path}\"\n"
   ]
  },
  {
   "attachments": {},
   "cell_type": "markdown",
   "metadata": {},
   "source": [
    "## Récupération d'informations relatives au prélévement mémoire\n",
    "\n",
    "Cette étape est importante pour la suite de l'investigation.\n",
    "Elle va permettre de vérifier que le profile correspondant au système d'exploitation du prélévement est bien pris en charge par Volatility3. "
   ]
  },
  {
   "cell_type": "code",
   "execution_count": 144,
   "metadata": {},
   "outputs": [
    {
     "name": "stdout",
     "output_type": "stream",
     "text": [
      "Volatility 3 Framework 2.4.0\n"
     ]
    },
    {
     "name": "stderr",
     "output_type": "stream",
     "text": [
      "Progress:  100.00\t\tPDB scanning finished                        \r"
     ]
    },
    {
     "name": "stdout",
     "output_type": "stream",
     "text": [
      "\n",
      "Variable\tValue\n",
      "\n",
      "Kernel Base\t0x82a0f000\n",
      "DTB\t0x185000\n",
      "Symbols\tfile:///home/secubian/.local/lib/python3.9/site-packages/volatility3/symbols/windows/ntkrpamp.pdb/684DA42A30CC450F81C535B4D18944B1-2.json.xz\n",
      "Is64Bit\tFalse\n",
      "IsPAE\tTrue\n",
      "layer_name\t0 WindowsIntelPAE\n",
      "memory_layer\t1 FileLayer\n",
      "KdDebuggerDataBlock\t0x82b39c28\n",
      "NTBuildLab\t7601.17514.x86fre.win7sp1_rtm.10\n",
      "CSDVersion\t1\n",
      "KdVersionBlock\t0x82b39c00\n",
      "Major/Minor\t15.7601\n",
      "MachineType\t332\n",
      "KeNumberProcessors\t1\n",
      "SystemTime\t2019-07-31 13:45:40\n",
      "NtSystemRoot\tC:\\Windows\n",
      "NtProductType\tNtProductWinNt\n",
      "NtMajorVersion\t6\n",
      "NtMinorVersion\t1\n",
      "PE MajorOperatingSystemVersion\t6\n",
      "PE MinorOperatingSystemVersion\t1\n",
      "PE Machine\t332\n",
      "PE TimeDateStamp\tSat Nov 20 08:42:49 2010\n"
     ]
    },
    {
     "data": {
      "text/plain": [
       "0"
      ]
     },
     "execution_count": 144,
     "metadata": {},
     "output_type": "execute_result"
    }
   ],
   "source": [
    "os.system(f\"{ vol } windows.info.Info\")"
   ]
  },
  {
   "attachments": {},
   "cell_type": "markdown",
   "metadata": {},
   "source": [
    "# Extraction des informations pour analyse\n",
    "\n",
    "Cette étape va permettre d'exécuter un certain nombre de modules pour extraire l'ensemble des informations nécessaires à l'investigation de l'analyste."
   ]
  },
  {
   "cell_type": "code",
   "execution_count": 145,
   "metadata": {},
   "outputs": [],
   "source": [
    "volplugins_lst = [\"windows.sessions.Sessions\",\"windows.pslist.PsList\",\"windows.psscan.PsScan\",\"windows.cmdline.CmdLine\",\"windows.netscan.NetScan\",\"windows.callbacks.Callbacks\",\"windows.driverscan.DriverScan\",\"windows.dlllist.DllList\",\"windows.svcscan.SvcScan\",\"windows.handles.Handles\",\"windows.malfind.Malfind\",\"windows.ssdt.SSDT\"]\n",
    "\n",
    "for plugin in volplugins_lst:\n",
    "    # Check if plugin is already executed\n",
    "    if not (os.path.isfile(f\"{ mem_path }_{ plugin }.json\")):\n",
    "        # Execute plugin and save result in json file\n",
    "        os.system( f\"{ vol } -r json  { plugin } > { mem_path }_{ plugin }.json\")\n",
    "\n",
    "    globals()[f\"df_{ plugin.replace('.','_') }\"] = pd.read_json(f\"{ mem_path }_{ plugin }.json\")\n"
   ]
  },
  {
   "attachments": {},
   "cell_type": "markdown",
   "metadata": {},
   "source": [
    "# Analyse des processus en cours d'exection et de leur parent\n",
    "\n",
    "Cette phase permet d'analyser les processus en cours d'exécution lors du prélévement.\n",
    "La première étape consiste donc à analyser la double liste chainée répertoriant les processus au sein du système d'exploitation Microsoft Windows."
   ]
  },
  {
   "cell_type": "code",
   "execution_count": 181,
   "metadata": {},
   "outputs": [],
   "source": [
    "dfsession = df_windows_sessions_Sessions.rename(columns={'Process ID': 'PID'})\n",
    "dfsession[['PID', 'User Name']] \n",
    "\n",
    "df_windows_pslist_PsList_enriched = df_windows_pslist_PsList.merge(dfsession, on='PID', how='left' )\n",
    "dfppid = df_windows_pslist_PsList_enriched[['PID', 'ImageFileName','User Name']].drop_duplicates()\n",
    "dfppid.columns = ['PPID', 'ParentName','ParentUserName']\n",
    "df_windows_pslist_PsList_enriched = df_windows_pslist_PsList_enriched.merge(dfppid, on='PPID', how='left')\n",
    "#df_windows_pslist_PsList_enriched.sort_values(by=['SessionId','PPID','ParentName'])[['SessionId','PID','ImageFileName','User Name','PPID','ParentName','ParentUserName']].head()\n",
    "\n",
    "\n",
    "df_windows_psscan_PsScan_enriched = df_windows_psscan_PsScan.merge(dfsession, on='PID', how='left' )\n",
    "dfppid = df_windows_psscan_PsScan_enriched[['PID', 'ImageFileName','User Name']].drop_duplicates()\n",
    "dfppid.columns = ['PPID', 'ParentName','ParentUserName']\n",
    "df_windows_psscan_PsScan_enriched = df_windows_psscan_PsScan_enriched.merge(dfppid, on='PPID', how='left')\n",
    "#df_windows_psscan_PsScan_enriched.sort_values(by=['SessionId','PPID','ParentName'])[['SessionId','PID','ImageFileName','User Name','PPID','ParentName','ParentUserName']].head()\n",
    "\n"
   ]
  },
  {
   "attachments": {},
   "cell_type": "markdown",
   "metadata": {},
   "source": [
    "## Identification de processus cachés\n",
    "\n",
    "Analyse les différences entre les résultats des plugins PsTree et PsScan.\n",
    "Malheureusement, il est tout à fait possible de masquer une exécution de processus malveillant, en ne l'intégrant pas dans cette liste. Il va donc faloir utiliser le module ```PsScan``` qui a pour objectif de scanner l'ensemble de la mémoire à la recherche de structure EPROCESS, puis comparer les deux résultats."
   ]
  },
  {
   "cell_type": "code",
   "execution_count": 315,
   "metadata": {},
   "outputs": [
    {
     "name": "stdout",
     "output_type": "stream",
     "text": [
      "\u001b[31m[!] Suspicious process hidden in psList for PID: 1876, Filename: RGoEsDNcZhEnl., executed by Username: NaN, with PPID: 1416, ParentFileName: rad5163B.tmp.e executed by: johnoc-PC/johnoc\n",
      "\u001b[31m[!] Suspicious process hidden in psList for PID: 2652, Filename: dllhost.exe, executed by Username: NaN, with PPID: 636, ParentFileName: svchost.exe executed by: WORKGROUP/JOHNOC-PC$\n",
      "\u001b[31m[!] Suspicious process hidden in psList for PID: 4076, Filename: chrome.exe, executed by Username: NaN, with PPID: 724, ParentFileName: chrome.exe executed by: None\n",
      "\u001b[31m[!] Suspicious process hidden in psList for PID: 3412, Filename: dllhost.exe, executed by Username: NaN, with PPID: 636, ParentFileName: svchost.exe executed by: WORKGROUP/JOHNOC-PC$\n",
      "\u001b[31m[!] Suspicious process hidden in psList for PID: 1860, Filename: conhost.exe, executed by Username: NaN, with PPID: 420, ParentFileName: csrss.exe executed by: /SYSTEM\n",
      "\u001b[31m[!] Suspicious process hidden in psList for PID: 4012, Filename: tior.exe, executed by Username: NaN, with PPID: 752, ParentFileName: NaN executed by: NaN\n",
      "\u001b[31m[!] Suspicious process hidden in psList for PID: 3848, Filename: conhost.exe, executed by Username: NaN, with PPID: 420, ParentFileName: csrss.exe executed by: /SYSTEM\n",
      "\u001b[31m[!] Suspicious process hidden in psList for PID: 628, Filename: dllhost.exe, executed by Username: NaN, with PPID: 636, ParentFileName: svchost.exe executed by: WORKGROUP/JOHNOC-PC$\n",
      "\u001b[31m[!] Suspicious process hidden in psList for PID: 2708, Filename: bVwHCYX.exe, executed by Username: NaN, with PPID: 3268, ParentFileName: NaN executed by: NaN\n"
     ]
    }
   ],
   "source": [
    "for proc in df_windows_psscan_PsScan_enriched['PID']:\n",
    "    p_count = df_windows_pslist_PsList[df_windows_pslist_PsList.PID == proc].shape[0]\n",
    "    if p_count == 0 :\n",
    "        procPID = proc\n",
    "        procPPID = df_windows_psscan_PsScan_enriched[df_windows_psscan_PsScan_enriched.PID == proc]['PPID'].to_string(index = False)\n",
    "        procFileName = df_windows_psscan_PsScan_enriched[df_windows_psscan_PsScan_enriched.PID == proc]['ImageFileName'].to_string(index = False)\n",
    "        procUserName = df_windows_psscan_PsScan_enriched[df_windows_psscan_PsScan_enriched.PID == proc]['User Name'].to_string(index = False)\n",
    "        procParentFileName = df_windows_psscan_PsScan_enriched[df_windows_psscan_PsScan_enriched.PID == proc]['ParentName'].to_string(index = False)\n",
    "        procParentUserName = df_windows_psscan_PsScan_enriched[df_windows_psscan_PsScan_enriched.PID == proc]['ParentUserName'].to_string(index = False)\n",
    "        print(Fore.RED + f\"[!] Suspicious process hidden in psList for PID: { procPID }, Filename: { procFileName}, executed by Username: {procUserName}, with PPID: {procPPID}, ParentFileName: {procParentFileName} executed by: {procParentUserName}\")"
   ]
  },
  {
   "attachments": {},
   "cell_type": "markdown",
   "metadata": {},
   "source": [
    "## Recherche des processus systèmes ayant plus occurrences"
   ]
  },
  {
   "attachments": {},
   "cell_type": "markdown",
   "metadata": {},
   "source": [
    "- Définition des processus devant être unique sur un système Microsoft Windows "
   ]
  },
  {
   "cell_type": "code",
   "execution_count": 148,
   "metadata": {},
   "outputs": [],
   "source": [
    "singleprocs = [\"system\",\"wininit.exe\",\"lsass.exe\",\"lsm.exe\",\"services.exe\",\"lsaiso.exe\"]"
   ]
  },
  {
   "attachments": {},
   "cell_type": "markdown",
   "metadata": {},
   "source": [
    "- Lancement de la recherche"
   ]
  },
  {
   "cell_type": "code",
   "execution_count": 149,
   "metadata": {},
   "outputs": [
    {
     "name": "stdout",
     "output_type": "stream",
     "text": [
      "\u001b[32m[✓]No multiple instance(s) of system found\n",
      "\u001b[32m[✓]No multiple instance(s) of wininit.exe found\n",
      "\u001b[32m[✓]No multiple instance(s) of lsass.exe found\n",
      "\u001b[32m[✓]No multiple instance(s) of lsm.exe found\n",
      "\u001b[32m[✓]No multiple instance(s) of services.exe found\n"
     ]
    }
   ],
   "source": [
    "for procs in singleprocs:\n",
    "    p_count = df_windows_pslist_PsList[df_windows_pslist_PsList.ImageFileName.str.lower() == procs].shape[0]\n",
    "    if p_count == 1:\n",
    "        print(Fore.GREEN + \"[✓]No multiple instance(s) of \" + procs + \" found\")\n",
    "    elif p_count > 1:\n",
    "        print(Fore.RED + \"[!]Multiple instance(s) of \" + procs + \" found!\")\n",
    "        print(df_windows_pslist_PsList[df_windows_pslist_PsList.ImageFileName.str.lower() == procs][['PID','ImageFileName','User Name','PPID','ParentName','ParentUserName']].to_string(index = False))\n"
   ]
  },
  {
   "attachments": {},
   "cell_type": "markdown",
   "metadata": {},
   "source": [
    "## Analyse des processus svchost et rundll32"
   ]
  },
  {
   "attachments": {},
   "cell_type": "markdown",
   "metadata": {},
   "source": [
    "Tous les processus svchost et rundll32 possèdent des arguments dans un fonctionnement normal. \\\n",
    "Voici donc la liste des processus n'ayant pas d'argument et de ce fait considérés comme suspects."
   ]
  },
  {
   "cell_type": "code",
   "execution_count": 308,
   "metadata": {},
   "outputs": [
    {
     "name": "stdout",
     "output_type": "stream",
     "text": [
      "\u001b[32m[✓] No svchost.exe or rundll32.exe process identified without commandline arguments\n"
     ]
    }
   ],
   "source": [
    "df_windows_cmdline_CmdLine_enriched = df_windows_cmdline_CmdLine.merge(dfsession, on='PID', how='left' )\n",
    "df_windows_cmdline_CmdLine_enriched = df_windows_cmdline_CmdLine_enriched.rename(columns={'Process_x': 'Process'})\n",
    "\n",
    "noargs = df_windows_cmdline_CmdLine_enriched[df_windows_cmdline_CmdLine_enriched['Args'].str.contains('svchost.exe$|rundll32.exe$', flags=re.IGNORECASE)][['PID','Process','Args','User Name']]\n",
    "if (noargs.empty):\n",
    "    print(Fore.GREEN + \"[✓] No svchost.exe or rundll32.exe process identified without commandline arguments\")\n",
    "else:\n",
    "    print(Fore.RED + \"[!] Some svchost.exe or rundll32.exe without command line was identified!\")\n",
    "    print(noargs.to_string(index = False))\n",
    "    "
   ]
  },
  {
   "attachments": {},
   "cell_type": "markdown",
   "metadata": {},
   "source": [
    "## Analyse des Dlls\n",
    "\n",
    "Affichage de l'ensemble des librairies systèmes chargées à partir de répertoires non habituels."
   ]
  },
  {
   "cell_type": "code",
   "execution_count": 306,
   "metadata": {},
   "outputs": [
    {
     "name": "stdout",
     "output_type": "stream",
     "text": [
      "\u001b[31m[!] Suspicious DLLs identified\n",
      "                                                                                                            Path  PID      Process_x            User Name  PPID   ParentName   ParentUserName\n",
      "C:\\ProgramData\\Microsoft\\Windows Defender\\Definition Updates\\{4A914D27-2C33-4FD8-9CFD-A97728ECCE77}\\mpengine.dll 2896    svchost.exe WORKGROUP/JOHNOC-PC$   512 services.exe          /SYSTEM\n",
      "                                                             C:\\Users\\johnoc\\Documents\\Imager_Lite_3.1.1\\LMS.dll 2108 FTK Imager.exe     johnoc-PC/johnoc   588 explorer.exe johnoc-PC/johnoc\n",
      "                                                        C:\\Users\\johnoc\\Documents\\Imager_Lite_3.1.1\\MSVCP100.dll 2108 FTK Imager.exe     johnoc-PC/johnoc   588 explorer.exe johnoc-PC/johnoc\n",
      "                                                        C:\\Users\\johnoc\\Documents\\Imager_Lite_3.1.1\\MSVCR100.dll 2108 FTK Imager.exe     johnoc-PC/johnoc   588 explorer.exe johnoc-PC/johnoc\n",
      "                                   C:\\Users\\johnoc\\Documents\\Imager_Lite_3.1.1\\boost_date_time-vc100-mt-1_49.dll 2108 FTK Imager.exe     johnoc-PC/johnoc   588 explorer.exe johnoc-PC/johnoc\n",
      "                                      C:\\Users\\johnoc\\Documents\\Imager_Lite_3.1.1\\boost_thread-vc100-mt-1_49.dll 2108 FTK Imager.exe     johnoc-PC/johnoc   588 explorer.exe johnoc-PC/johnoc\n",
      "                                                        C:\\Users\\johnoc\\Documents\\Imager_Lite_3.1.1\\LIBEAY32.dll 2108 FTK Imager.exe     johnoc-PC/johnoc   588 explorer.exe johnoc-PC/johnoc\n",
      "                                                         C:\\Users\\johnoc\\Documents\\Imager_Lite_3.1.1\\cximage.dll 2108 FTK Imager.exe     johnoc-PC/johnoc   588 explorer.exe johnoc-PC/johnoc\n",
      "                                                         C:\\Users\\johnoc\\Documents\\Imager_Lite_3.1.1\\mfc100u.dll 2108 FTK Imager.exe     johnoc-PC/johnoc   588 explorer.exe johnoc-PC/johnoc\n",
      "                                                  C:\\Users\\johnoc\\Documents\\Imager_Lite_3.1.1\\ProfUIS293ad32.dll 2108 FTK Imager.exe     johnoc-PC/johnoc   588 explorer.exe johnoc-PC/johnoc\n",
      "                                                    C:\\Users\\johnoc\\Documents\\Imager_Lite_3.1.1\\adshattrdefs.dll 2108 FTK Imager.exe     johnoc-PC/johnoc   588 explorer.exe johnoc-PC/johnoc\n",
      "                                                          C:\\Users\\johnoc\\Documents\\Imager_Lite_3.1.1\\ad_log.dll 2108 FTK Imager.exe     johnoc-PC/johnoc   588 explorer.exe johnoc-PC/johnoc\n",
      "                                                           C:\\Users\\johnoc\\Documents\\Imager_Lite_3.1.1\\adefs.dll 2108 FTK Imager.exe     johnoc-PC/johnoc   588 explorer.exe johnoc-PC/johnoc\n",
      "                                                      C:\\Users\\johnoc\\Documents\\Imager_Lite_3.1.1\\ad_globals.dll 2108 FTK Imager.exe     johnoc-PC/johnoc   588 explorer.exe johnoc-PC/johnoc\n",
      "                                  C:\\Users\\johnoc\\Documents\\Imager_Lite_3.1.1\\boost_filesystem-vc100-mt-1_49.dll 2108 FTK Imager.exe     johnoc-PC/johnoc   588 explorer.exe johnoc-PC/johnoc\n",
      "                                      C:\\Users\\johnoc\\Documents\\Imager_Lite_3.1.1\\boost_system-vc100-mt-1_49.dll 2108 FTK Imager.exe     johnoc-PC/johnoc   588 explorer.exe johnoc-PC/johnoc\n",
      "                                                        C:\\Users\\johnoc\\Documents\\Imager_Lite_3.1.1\\ADIsoDLL.dll 2108 FTK Imager.exe     johnoc-PC/johnoc   588 explorer.exe johnoc-PC/johnoc\n",
      "                                                       C:\\Users\\johnoc\\Documents\\Imager_Lite_3.1.1\\adencrypt.dll 2108 FTK Imager.exe     johnoc-PC/johnoc   588 explorer.exe johnoc-PC/johnoc\n",
      "                                       C:\\Users\\johnoc\\Documents\\Imager_Lite_3.1.1\\boost_regex-vc100-mt-1_49.dll 2108 FTK Imager.exe     johnoc-PC/johnoc   588 explorer.exe johnoc-PC/johnoc\n",
      "                                                    C:\\Users\\johnoc\\Documents\\Imager_Lite_3.1.1\\adfs_globals.dll 2108 FTK Imager.exe     johnoc-PC/johnoc   588 explorer.exe johnoc-PC/johnoc\n",
      "                                                          C:\\Users\\johnoc\\Documents\\Imager_Lite_3.1.1\\da7zip.dll 2108 FTK Imager.exe     johnoc-PC/johnoc   588 explorer.exe johnoc-PC/johnoc\n",
      "                                                         C:\\Users\\johnoc\\Documents\\Imager_Lite_3.1.1\\icuuc44.dll 2108 FTK Imager.exe     johnoc-PC/johnoc   588 explorer.exe johnoc-PC/johnoc\n",
      "                                                         C:\\Users\\johnoc\\Documents\\Imager_Lite_3.1.1\\icudt44.dll 2108 FTK Imager.exe     johnoc-PC/johnoc   588 explorer.exe johnoc-PC/johnoc\n"
     ]
    }
   ],
   "source": [
    "df_windows_dlllist_DllList_enriched = df_windows_dlllist_DllList.merge(dfsession, on='PID', how='left' )\n",
    "\n",
    "dfppid = df_windows_psscan_PsScan_enriched[['PID','PPID', 'ParentName','ParentUserName']].drop_duplicates()\n",
    "df_windows_dlllist_DllList_enriched = df_windows_dlllist_DllList_enriched.merge(dfppid, on='PID', how='left')\n",
    "\n",
    "df_windows_dlllist_DllList_enriched = df_windows_dlllist_DllList_enriched[['Path','PID','Process_x','User Name','PPID', 'ParentName','ParentUserName']][df_windows_dlllist_DllList_enriched[\"Path\"].str.contains('programdata|users|utilisateurs|temp|tmp', flags=re.IGNORECASE) == True].drop_duplicates()\n",
    "suspdlls = df_windows_dlllist_DllList_enriched[['Path','PID','Process_x','User Name','PPID', 'ParentName','ParentUserName']][df_windows_dlllist_DllList_enriched[\"Path\"].str.contains('.exe$', flags=re.IGNORECASE) == False]\n",
    "if (suspdlls.empty):\n",
    "    print(Fore.GREEN + \"[✓] No Suspicious DLLs identified\")\n",
    "else:\n",
    "    print(Fore.RED + \"[!] Suspicious DLLs identified\")\n",
    "    print(suspdlls.to_string(index = False))"
   ]
  },
  {
   "attachments": {},
   "cell_type": "markdown",
   "metadata": {},
   "source": [
    "## Analyse hooking SSDT"
   ]
  },
  {
   "cell_type": "code",
   "execution_count": 330,
   "metadata": {},
   "outputs": [
    {
     "name": "stdout",
     "output_type": "stream",
     "text": [
      "\u001b[32m[✓]No suspicious SSDT hooking detected\n"
     ]
    }
   ],
   "source": [
    "sus_kernelhook = df_windows_ssdt_SSDT[(df_windows_ssdt_SSDT[\"Module\"].str.match(r\"(ntoskrnl1|win32k)\",case=False) == False)][[\"Address\",\"Module\",\"Symbol\"]]\n",
    "if (sus_kernelhook.empty):\n",
    "    print(Fore.GREEN + \"[✓]No suspicious SSDT hooking detected\")\n",
    "else:\n",
    "    print(Fore.RED + \"[!]Suspicious SSDT hooking detected!\")\n",
    "    print(sus_kernelhook.to_string(index = False))"
   ]
  },
  {
   "attachments": {},
   "cell_type": "markdown",
   "metadata": {},
   "source": [
    "# [TODO] Analyse Handle to detect pipe"
   ]
  },
  {
   "cell_type": "code",
   "execution_count": 334,
   "metadata": {},
   "outputs": [
    {
     "data": {
      "text/html": [
       "<div>\n",
       "<style scoped>\n",
       "    .dataframe tbody tr th:only-of-type {\n",
       "        vertical-align: middle;\n",
       "    }\n",
       "\n",
       "    .dataframe tbody tr th {\n",
       "        vertical-align: top;\n",
       "    }\n",
       "\n",
       "    .dataframe thead th {\n",
       "        text-align: right;\n",
       "    }\n",
       "</style>\n",
       "<table border=\"1\" class=\"dataframe\">\n",
       "  <thead>\n",
       "    <tr style=\"text-align: right;\">\n",
       "      <th></th>\n",
       "      <th>GrantedAccess</th>\n",
       "      <th>HandleValue</th>\n",
       "      <th>Name</th>\n",
       "      <th>Offset</th>\n",
       "      <th>PID</th>\n",
       "      <th>Process</th>\n",
       "      <th>Type</th>\n",
       "      <th>__children</th>\n",
       "    </tr>\n",
       "  </thead>\n",
       "  <tbody>\n",
       "    <tr>\n",
       "      <th>19</th>\n",
       "      <td>1180063</td>\n",
       "      <td>80</td>\n",
       "      <td>\\Device\\HarddiskVolume1\\$Extend\\$RmMetadata\\$TxfLog\\$TxfLogContainer00000000000000000002</td>\n",
       "      <td>2246653280</td>\n",
       "      <td>4</td>\n",
       "      <td>System</td>\n",
       "      <td>File</td>\n",
       "      <td>[]</td>\n",
       "    </tr>\n",
       "    <tr>\n",
       "      <th>20</th>\n",
       "      <td>1179926</td>\n",
       "      <td>84</td>\n",
       "      <td>\\Device\\Mup</td>\n",
       "      <td>2259860184</td>\n",
       "      <td>4</td>\n",
       "      <td>System</td>\n",
       "      <td>File</td>\n",
       "      <td>[]</td>\n",
       "    </tr>\n",
       "    <tr>\n",
       "      <th>21</th>\n",
       "      <td>1180063</td>\n",
       "      <td>88</td>\n",
       "      <td>\\Device\\Tcp</td>\n",
       "      <td>2261945864</td>\n",
       "      <td>4</td>\n",
       "      <td>System</td>\n",
       "      <td>File</td>\n",
       "      <td>[]</td>\n",
       "    </tr>\n",
       "    <tr>\n",
       "      <th>22</th>\n",
       "      <td>1245599</td>\n",
       "      <td>96</td>\n",
       "      <td>\\Device\\clfs\\Device\\HarddiskVolume1\\$Extend\\$RmMetadata\\$TxfLog\\$TxfLog</td>\n",
       "      <td>2268344848</td>\n",
       "      <td>4</td>\n",
       "      <td>System</td>\n",
       "      <td>File</td>\n",
       "      <td>[]</td>\n",
       "    </tr>\n",
       "    <tr>\n",
       "      <th>26</th>\n",
       "      <td>1180063</td>\n",
       "      <td>112</td>\n",
       "      <td>\\Device\\clfsKtmLog</td>\n",
       "      <td>2267835568</td>\n",
       "      <td>4</td>\n",
       "      <td>System</td>\n",
       "      <td>File</td>\n",
       "      <td>[]</td>\n",
       "    </tr>\n",
       "  </tbody>\n",
       "</table>\n",
       "</div>"
      ],
      "text/plain": [
       "    GrantedAccess  HandleValue  \\\n",
       "19        1180063           80   \n",
       "20        1179926           84   \n",
       "21        1180063           88   \n",
       "22        1245599           96   \n",
       "26        1180063          112   \n",
       "\n",
       "                                                                                        Name  \\\n",
       "19  \\Device\\HarddiskVolume1\\$Extend\\$RmMetadata\\$TxfLog\\$TxfLogContainer00000000000000000002   \n",
       "20                                                                               \\Device\\Mup   \n",
       "21                                                                               \\Device\\Tcp   \n",
       "22                   \\Device\\clfs\\Device\\HarddiskVolume1\\$Extend\\$RmMetadata\\$TxfLog\\$TxfLog   \n",
       "26                                                                        \\Device\\clfsKtmLog   \n",
       "\n",
       "        Offset  PID Process  Type __children  \n",
       "19  2246653280    4  System  File         []  \n",
       "20  2259860184    4  System  File         []  \n",
       "21  2261945864    4  System  File         []  \n",
       "22  2268344848    4  System  File         []  \n",
       "26  2267835568    4  System  File         []  "
      ]
     },
     "execution_count": 334,
     "metadata": {},
     "output_type": "execute_result"
    }
   ],
   "source": [
    "df_windows_handles_Handles[(df_windows_handles_Handles[\"Type\"] == \"File\")].head()"
   ]
  },
  {
   "attachments": {},
   "cell_type": "markdown",
   "metadata": {},
   "source": [
    "# [TODO]  Syscall analysis"
   ]
  },
  {
   "attachments": {},
   "cell_type": "markdown",
   "metadata": {},
   "source": [
    "# [TODO] Network Analysis"
   ]
  }
 ],
 "metadata": {
  "kernelspec": {
   "display_name": "Python 3",
   "language": "python",
   "name": "python3"
  },
  "language_info": {
   "codemirror_mode": {
    "name": "ipython",
    "version": 3
   },
   "file_extension": ".py",
   "mimetype": "text/x-python",
   "name": "python",
   "nbconvert_exporter": "python",
   "pygments_lexer": "ipython3",
   "version": "3.9.2"
  },
  "orig_nbformat": 4,
  "vscode": {
   "interpreter": {
    "hash": "916dbcbb3f70747c44a77c7bcd40155683ae19c65e1c03b4aa3499c5328201f1"
   }
  }
 },
 "nbformat": 4,
 "nbformat_minor": 2
}
