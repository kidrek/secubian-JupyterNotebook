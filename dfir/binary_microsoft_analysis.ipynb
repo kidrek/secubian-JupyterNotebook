{
 "cells": [
  {
   "cell_type": "markdown",
   "metadata": {},
   "source": [
    "# Analyse de Binaire Microsoft Windows"
   ]
  },
  {
   "attachments": {},
   "cell_type": "markdown",
   "metadata": {},
   "source": [
    "Nous allons dans un premier temps charger les modules python nécessaires à l'analyse."
   ]
  },
  {
   "cell_type": "code",
   "execution_count": 1,
   "metadata": {},
   "outputs": [
    {
     "name": "stdout",
     "output_type": "stream",
     "text": [
      "A Portable Executable representation.\n",
      "\n",
      "    This class provides access to most of the information in a PE file.\n",
      "\n",
      "    It expects to be supplied the name of the file to load or PE data\n",
      "    to process and an optional argument 'fast_load' (False by default)\n",
      "    which controls whether to load all the directories information,\n",
      "    which can be quite time consuming.\n",
      "\n",
      "    pe = pefile.PE('module.dll')\n",
      "    pe = pefile.PE(name='module.dll')\n",
      "\n",
      "    would load 'module.dll' and process it. If the data is already\n",
      "    available in a buffer the same can be achieved with:\n",
      "\n",
      "    pe = pefile.PE(data=module_dll_data)\n",
      "\n",
      "    The \"fast_load\" can be set to a default by setting its value in the\n",
      "    module itself by means, for instance, of a \"pefile.fast_load = True\".\n",
      "    That will make all the subsequent instances not to load the\n",
      "    whole PE structure. The \"full_load\" method can be used to parse\n",
      "    the missing data at a later stage.\n",
      "\n",
      "    Basic headers information will be available in the attributes:\n",
      "\n",
      "    DOS_HEADER\n",
      "    NT_HEADERS\n",
      "    FILE_HEADER\n",
      "    OPTIONAL_HEADER\n",
      "\n",
      "    All of them will contain among their attributes the members of the\n",
      "    corresponding structures as defined in WINNT.H\n",
      "\n",
      "    The raw data corresponding to the header (from the beginning of the\n",
      "    file up to the start of the first section) will be available in the\n",
      "    instance's attribute 'header' as a string.\n",
      "\n",
      "    The sections will be available as a list in the 'sections' attribute.\n",
      "    Each entry will contain as attributes all the structure's members.\n",
      "\n",
      "    Directory entries will be available as attributes (if they exist):\n",
      "    (no other entries are processed at this point)\n",
      "\n",
      "    DIRECTORY_ENTRY_IMPORT (list of ImportDescData instances)\n",
      "    DIRECTORY_ENTRY_EXPORT (ExportDirData instance)\n",
      "    DIRECTORY_ENTRY_RESOURCE (ResourceDirData instance)\n",
      "    DIRECTORY_ENTRY_DEBUG (list of DebugData instances)\n",
      "    DIRECTORY_ENTRY_BASERELOC (list of BaseRelocationData instances)\n",
      "    DIRECTORY_ENTRY_TLS\n",
      "    DIRECTORY_ENTRY_BOUND_IMPORT (list of BoundImportData instances)\n",
      "\n",
      "    The following dictionary attributes provide ways of mapping different\n",
      "    constants. They will accept the numeric value and return the string\n",
      "    representation and the opposite, feed in the string and get the\n",
      "    numeric constant:\n",
      "\n",
      "    DIRECTORY_ENTRY\n",
      "    IMAGE_CHARACTERISTICS\n",
      "    SECTION_CHARACTERISTICS\n",
      "    DEBUG_TYPE\n",
      "    SUBSYSTEM_TYPE\n",
      "    MACHINE_TYPE\n",
      "    RELOCATION_TYPE\n",
      "    RESOURCE_TYPE\n",
      "    LANG\n",
      "    SUBLANG\n",
      "    \n"
     ]
    }
   ],
   "source": [
    "# https://github.com/fr0gger/jupyter-collection/blob/main/10_pythonlib_for_RE/10_Python_Lib_for_Re.ipynb\n",
    "\n",
    "import pefile\n",
    "\n",
    "exeFile = \"/home/secubian/Desktop/Cases/exe/exe_f797a34828089feb29e7f77d31f184b335d7958755d385fad50d69fdbd3660d2.exe\"\n",
    "exe = pefile.PE(exeFile)\n",
    "print(exe.__doc__)"
   ]
  }
 ],
 "metadata": {
  "kernelspec": {
   "display_name": "Python 3",
   "language": "python",
   "name": "python3"
  },
  "language_info": {
   "codemirror_mode": {
    "name": "ipython",
    "version": 3
   },
   "file_extension": ".py",
   "mimetype": "text/x-python",
   "name": "python",
   "nbconvert_exporter": "python",
   "pygments_lexer": "ipython3",
   "version": "3.9.2"
  },
  "orig_nbformat": 4,
  "vscode": {
   "interpreter": {
    "hash": "916dbcbb3f70747c44a77c7bcd40155683ae19c65e1c03b4aa3499c5328201f1"
   }
  }
 },
 "nbformat": 4,
 "nbformat_minor": 2
}
