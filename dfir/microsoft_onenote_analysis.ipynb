{
 "cells": [
  {
   "attachments": {},
   "cell_type": "markdown",
   "metadata": {},
   "source": [
    "# Analyse OneNote Microsoft File\n",
    "\n",
    "Les dernières campagnes de Phishing ont évolué. \\\n",
    "Ces dernières années, seuls les fichiers de la suite Microsoft Office tels que Excel, Powerpoint et Word étaient concernés par ce mode opératoire. \\\n",
    "Désormais les campagnes de Phishing exploitent les documents OneNote et leur capacité d'intégrer du code."
   ]
  },
  {
   "cell_type": "code",
   "execution_count": null,
   "metadata": {},
   "outputs": [],
   "source": [
    "from colorama import init, Fore, Back, Style\n",
    "from defang import defang\n",
    "import msticpy as mp\n",
    "import pandas as pd\n",
    "import msticpy.sectools as sectools\n",
    "import os\n",
    "\n",
    "mp.init_notebook(globals(), verbosity=0)\n",
    "ti = mp.TILookup()\n",
    "ioc_extractor = sectools.IoCExtract()\n",
    "\n",
    "# Chemin du fichier à analyser\n",
    "oneNoteFile = {}\n",
    "oneNoteFile['path'] = \"/home/secubian/Desktop/Cases/Microsoft_Office/onenot_2623024aba1ee994dcb82e937a8beb59abbebf51b6aa4cde8434bb56458b47da.one\"\n",
    "\n",
    "# Download requirement tool\n",
    "os.system('wget -O onedump.py https://raw.githubusercontent.com/DidierStevens/Beta/master/onedump.py 1>/dev/null 2>&1')\n"
   ]
  },
  {
   "attachments": {},
   "cell_type": "markdown",
   "metadata": {},
   "source": [
    "## Recherche de fichier exécutable caché au sein du fichier analysé\n",
    "\n",
    "Nous nous baserons dans un premier temps sur l'outil de DidierStevens **pecheck** pour identifier tout binaire contenu dans le fichier d'origine."
   ]
  },
  {
   "cell_type": "code",
   "execution_count": null,
   "metadata": {},
   "outputs": [],
   "source": [
    "os.system(f\"python3 /home/secubian/Desktop/Tools/DFIR/DidierStevensSuite/pecheck.py -l P {oneNoteFile['path']}\")"
   ]
  },
  {
   "attachments": {},
   "cell_type": "markdown",
   "metadata": {},
   "source": [
    "## Extraction des fichiers contenus dans un fichier OneNote\n",
    "\n",
    "Le dernier outil publié par Didier Stevens permet d'analyser des documents OneNote. \\\n",
    "Il identifie tout les fichiers inclus, en spécifiant un identifiant, le type de fichier etc.."
   ]
  },
  {
   "cell_type": "code",
   "execution_count": null,
   "metadata": {},
   "outputs": [],
   "source": [
    "os.system(f\"python3 onedump.py {oneNoteFile['path']}\")"
   ]
  },
  {
   "attachments": {},
   "cell_type": "markdown",
   "metadata": {},
   "source": [
    "## Analyse d'un objet spécifique contenu dans le fichier d'origine\n",
    "\n",
    "Une fois l'identification des fichiers présents effectuée, il est tout à fait possible d'en extraire leur contenu en spécifiant la variable **embeddedFileID** ci-dessous. \\\n",
    "L'objectif ici est d'identifier tout code source suspect comprenant potentiellement des observables réseaux (nom de domaine, adresse ip, ou urls)."
   ]
  },
  {
   "cell_type": "code",
   "execution_count": null,
   "metadata": {},
   "outputs": [],
   "source": [
    "embeddedFileID = 1\n",
    "os.system(f\"python3 onedump.py -s {embeddedFileID} {oneNoteFile['path']}\")"
   ]
  }
 ],
 "metadata": {
  "kernelspec": {
   "display_name": "Python 3",
   "language": "python",
   "name": "python3"
  },
  "language_info": {
   "codemirror_mode": {
    "name": "ipython",
    "version": 3
   },
   "file_extension": ".py",
   "mimetype": "text/x-python",
   "name": "python",
   "nbconvert_exporter": "python",
   "pygments_lexer": "ipython3",
   "version": "3.9.2"
  },
  "orig_nbformat": 4,
  "vscode": {
   "interpreter": {
    "hash": "916dbcbb3f70747c44a77c7bcd40155683ae19c65e1c03b4aa3499c5328201f1"
   }
  }
 },
 "nbformat": 4,
 "nbformat_minor": 2
}
