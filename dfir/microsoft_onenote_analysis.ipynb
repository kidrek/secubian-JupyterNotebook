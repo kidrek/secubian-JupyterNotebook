{
 "cells": [
  {
   "attachments": {},
   "cell_type": "markdown",
   "metadata": {},
   "source": [
    "# Analyse OneNote Microsoft File"
   ]
  },
  {
   "cell_type": "code",
   "execution_count": 2,
   "metadata": {},
   "outputs": [
    {
     "data": {
      "text/html": [
       "<p style=''><font color='orange'><h3>Notebook setup completed with some warnings.</h3></p>"
      ],
      "text/plain": [
       "<IPython.core.display.HTML object>"
      ]
     },
     "metadata": {},
     "output_type": "display_data"
    },
    {
     "data": {
      "text/html": [
       "<p style=''>One or more configuration items were missing or set incorrectly.</p>"
      ],
      "text/plain": [
       "<IPython.core.display.HTML object>"
      ]
     },
     "metadata": {},
     "output_type": "display_data"
    },
    {
     "data": {
      "text/html": [
       "<p style=''>Please run the <i>Getting Started Guide for Azure Sentinel ML Notebooks</i> notebook. and the <a href='https://msticpy.readthedocs.io/en/latest/getting_started/msticpyconfig.html'>msticpy configuration guide</a>.</p>"
      ],
      "text/plain": [
       "<IPython.core.display.HTML object>"
      ]
     },
     "metadata": {},
     "output_type": "display_data"
    },
    {
     "data": {
      "text/html": [
       "<p style=''>This notebook may still run but with reduced functionality.</p>"
      ],
      "text/plain": [
       "<IPython.core.display.HTML object>"
      ]
     },
     "metadata": {},
     "output_type": "display_data"
    },
    {
     "name": "stderr",
     "output_type": "stream",
     "text": [
      "--2023-03-18 09:10:01--  https://raw.githubusercontent.com/DidierStevens/Beta/master/onedump.py\n",
      "Résolution de raw.githubusercontent.com (raw.githubusercontent.com)… 185.199.110.133, 185.199.111.133, 185.199.108.133, ...\n",
      "Connexion à raw.githubusercontent.com (raw.githubusercontent.com)|185.199.110.133|:443… connecté.\n",
      "requête HTTP transmise, en attente de la réponse… 200 OK\n",
      "Taille : 75940 (74K) [text/plain]\n",
      "Sauvegarde en : « onedump.py »\n",
      "\n",
      "     0K .......... .......... .......... .......... .......... 67% 4,64M 0s\n",
      "    50K .......... .......... ....                            100% 28,1M=0,01s\n",
      "\n",
      "2023-03-18 09:10:01 (6,37 MB/s) — « onedump.py » sauvegardé [75940/75940]\n",
      "\n"
     ]
    },
    {
     "data": {
      "text/plain": [
       "0"
      ]
     },
     "execution_count": 2,
     "metadata": {},
     "output_type": "execute_result"
    }
   ],
   "source": [
    "from colorama import init, Fore, Back, Style\n",
    "from defang import defang\n",
    "import msticpy as mp\n",
    "import pandas as pd\n",
    "import msticpy.sectools as sectools\n",
    "import os\n",
    "\n",
    "mp.init_notebook(globals(), verbosity=0)\n",
    "ti = mp.TILookup()\n",
    "ioc_extractor = sectools.IoCExtract()\n",
    "\n",
    "# Chemin du fichier à analyser\n",
    "oneNoteFile = {}\n",
    "oneNoteFile['path'] = \"/home/secubian/Desktop/Cases/Microsoft_Office/onenot_2623024aba1ee994dcb82e937a8beb59abbebf51b6aa4cde8434bb56458b47da.one\"\n",
    "\n",
    "# Download requirement\n",
    "os.system('wget https://raw.githubusercontent.com/DidierStevens/Beta/master/onedump.py')\n"
   ]
  },
  {
   "attachments": {},
   "cell_type": "markdown",
   "metadata": {},
   "source": [
    "## Extraction des fichiers contenus dans un fichier OneNote\n",
    "\n",
    "Le dernier outil publié par Didier Stevens permet d'analyser des documents OneNote pour identifier tous les fichiers inclus."
   ]
  },
  {
   "cell_type": "code",
   "execution_count": 3,
   "metadata": {},
   "outputs": [
    {
     "name": "stdout",
     "output_type": "stream",
     "text": [
      "File: /home/secubian/Desktop/Cases/Microsoft_Office/onenot_2623024aba1ee994dcb82e937a8beb59abbebf51b6aa4cde8434bb56458b47da.one\n",
      " 1: 0x000117e8 Set  53657420 0x0000017d f6fc09e4cfb121172bc5428849ca110a\n",
      " 2: 0x00011ac0 .PNG 89504e47 0x00000296 81fd12c4ba87adca9e5e6622bb4db599\n",
      " 3: 0x000122d8 .PNG 89504e47 0x0000c9f8 f127c89687de91b2b242e3a5a73c39d4\n"
     ]
    },
    {
     "data": {
      "text/plain": [
       "0"
      ]
     },
     "execution_count": 3,
     "metadata": {},
     "output_type": "execute_result"
    }
   ],
   "source": [
    "os.system(f\"python3 onedump.py {oneNoteFile['path']}\")"
   ]
  },
  {
   "attachments": {},
   "cell_type": "markdown",
   "metadata": {},
   "source": [
    "## Analyse d'une section spécifique\n",
    "\n",
    "Une fois l'identification des fichiers présents effectuée, il est tout à fait possible d'en extraire leur contenu."
   ]
  },
  {
   "cell_type": "code",
   "execution_count": 8,
   "metadata": {},
   "outputs": [
    {
     "name": "stdout",
     "output_type": "stream",
     "text": [
      "File: /home/secubian/Desktop/Cases/Microsoft_Office/onenot_2623024aba1ee994dcb82e937a8beb59abbebf51b6aa4cde8434bb56458b47da.one\n",
      "00000000: 89 50 4E 47 0D 0A 1A 0A  00 00 00 0D 49 48 44 52  .PNG........IHDR\n",
      "00000010: 00 00 00 28 00 00 00 28  08 06 00 00 00 8C FE B8  ...(...(........\n",
      "00000020: 6D 00 00 00 01 73 52 47  42 00 AE CE 1C E9 00 00  m....sRGB.......\n",
      "00000030: 00 09 70 48 59 73 00 00  12 74 00 00 12 74 01 DE  ..pHYs...t...t..\n",
      "00000040: 66 1F 78 00 00 02 3B 49  44 41 54 58 47 DD 58 01  f.x...;IDATXG.X.\n",
      "00000050: 72 84 20 0C 94 4E FF A5  3F 3B FD 99 BE AC 65 39  r. ..N..?;....e9\n",
      "00000060: E2 E5 90 40 08 3A 5E CB  0C A3 A2 40 D8 65 93 A0  ...@.:^....@.e..\n",
      "00000070: 1B 92 32 CF F3 4F DA 76  C5 B3 9F C7 99 C6 85 81  ..2..O.v........\n",
      "00000080: 57 97 08 82 0A 88 2F D3  2A 4E E8 E4 8D C4 28 55  W...../.*N....(U\n",
      "00000090: 23 6F 33 50 BB C6 DB 0C  9C A6 69 60 28 8A 48 DE  #o3P......i`(.H.\n",
      "000000A0: 66 E0 38 8E 03 19 59 A2  FB 36 03 41 31 19 99 A0  f.8...Y..6.A1...\n",
      "000000B0: F9 C6 FE 41 EA 50 D8 E3  F1 10 B7 C8 B2 2C DA ED  ...A.P.......,..\n",
      "000000C0: F3 F6 1D 1F 13 63 44 D4  A4 B1 76 BB 6E 45 D0 B4  .....cD...v.nE..\n",
      "000000D0: D2 92 1F 0C FE CB 3B 49  54 5E 4A 6D EB BA 42 00  ......;IT^Jm..B.\n",
      "000000E0: A1 D6 0A FB 76 B7 FD 5B  BB 0A D0 02 9A E6 48 71  ....v..[......Hq\n",
      "000000F0: 2E 0C A0 CD EF 8F 01 D7  75 DB C2 D0 6C 7F 0D CE  ........u...l...\n",
      "00000100: 3D 7B 61 8D E6 92 43 90  90 AB 21 80 F7 98 9D A3  ={a...C...!.....\n",
      "00000110: 86 BE 78 E6 55 42 B3 0B  41 AC D9 55 04 02 F4 80  ..x.UB..A..U....\n",
      "00000120: 1C 47 0D F7 69 F1 86 04  34 35 48 7E BC 48 9A 0C  .G..i...45H~.H..\n",
      "00000130: 04 42 A5 6A 4B 4F CA BB  51 2D 12 0C A3 A1 F8 29  .B.jKO..Q-.....)\n",
      "00000140: 8D 57 C9 51 DC 25 14 49  24 92 40 B8 F3 E0 02 D1  .W.Q.%.I$.@.....\n",
      "00000150: 08 2A FD C6 2C 12 B8 97  E0 FD 11 61 32 42 E1 D4  .*..,......a2B..\n",
      "00000160: 8E 10 4A 14 41 17 52 91  84 A6 3D 68 F6 5D 67 76  ..J.A.R...=h.]gv\n",
      "00000170: 94 22 09 B5 F3 A8 41 F4  E6 DA C8 EF 69 22 08 51  .\"....A.....i\".Q\n",
      "00000180: 6D A6 18 00 10 CD 50 31  17 0C A7 97 EE 1D D4 EE  m.....P1........\n",
      "00000190: D3 29 94 16 9F A7 02 BA  76 26 C1 7B 8E 26 45 0F  .)......v&.{.&E.\n",
      "000001A0: 8E 66 DA 46 C8 D4 84 D3  85 20 AD 8E D2 26 88 26  .f.F..... ...&.&\n",
      "000001B0: C4 5D 26 9A 1D 41 06 05  A1 69 15 CE FF 11 49 8E  .]&..A...i....I.\n",
      "000001C0: 9E B3 85 93 A3 B8 1B C1  90 62 C5 4A F7 52 1B 52  .........b.J.R.R\n",
      "000001D0: 7C 54 4E 77 4D 18 97 A7  FC 21 B5 47 16 86 50 19  |TNwM....!.G..P.\n",
      "000001E0: AD A1 8C 27 CD 66 B6 98  09 B1 4F 8F F6 D7 32 EA  ...'.f....O...2.\n",
      "000001F0: 92 12 49 C9 69 3E 18 00  66 1D 25 55 5F 42 71 8D  ..I.i>..f.%U_Bq.\n",
      "00000200: A2 D3 DF 97 22 49 FD 54  F1 CA A6 4B FE F2 32 04  ....\"I.T...K..2.\n",
      "00000210: 69 1F A5 FE 0E CF 52 2E  98 13 4E 17 AA 5A 04 D3  i.....R...N..Z..\n",
      "00000220: C8 41 D1 03 D7 C3 1E 8C  FB AF 16 9F 73 7B B0 49  .A..........s{.I\n",
      "00000230: C5 88 1E 52 02 9A A2 02  57 82 02 15 D3 3D F5 95  ...R....W....=..\n",
      "00000240: CE 22 39 15 77 FB C1 2E  BA 2C 9D 6B C9 02 F3 CB  .\"9.w....,.k....\n",
      "00000250: FB 81 5C DB 66 49 16 9A  11 8C 47 5F 4A 01 9B AE  ..\\.fI....G_J...\n",
      "00000260: 16 C0 9A 0D B4 4C D2 D3  27 2B 12 AD 10 7A 26 96  .....L..'+...z&.\n",
      "00000270: FA C6 B9 FF CE DF AD 9C  7F ED F8 B3 73 1A A6 BB  ............s...\n",
      "00000280: 5D BF AA 4B 86 F8 B2 64  F3 A4 00 00 00 00 49 45  ]..K...d......IE\n",
      "00000290: 4E 44 AE 42 60 82                                 ND.B`.\n"
     ]
    },
    {
     "data": {
      "text/plain": [
       "0"
      ]
     },
     "execution_count": 8,
     "metadata": {},
     "output_type": "execute_result"
    }
   ],
   "source": [
    "embeddedFileID = 1\n",
    "os.system(f\"python3 onedump.py -s {embeddedFileID} {oneNoteFile['path']}\")"
   ]
  }
 ],
 "metadata": {
  "kernelspec": {
   "display_name": "Python 3",
   "language": "python",
   "name": "python3"
  },
  "language_info": {
   "codemirror_mode": {
    "name": "ipython",
    "version": 3
   },
   "file_extension": ".py",
   "mimetype": "text/x-python",
   "name": "python",
   "nbconvert_exporter": "python",
   "pygments_lexer": "ipython3",
   "version": "3.9.2"
  },
  "orig_nbformat": 4,
  "vscode": {
   "interpreter": {
    "hash": "916dbcbb3f70747c44a77c7bcd40155683ae19c65e1c03b4aa3499c5328201f1"
   }
  }
 },
 "nbformat": 4,
 "nbformat_minor": 2
}
