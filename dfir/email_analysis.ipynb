{
 "cells": [
  {
   "attachments": {},
   "cell_type": "markdown",
   "metadata": {},
   "source": [
    "# Analyse d'un email suspect\n",
    "\n",
    "Le vecteur initial d'intrusion le plus courant dans un incident cyber est un mail de phishing. \\\n",
    "C'est pour cela qu'il est très important de pouvoir analyser facilement un email reçu afin d'identifier très facilement un mail légitime d'un mail malveillant.\n",
    "\n",
    "Il existe plusieurs format de mail \".msg\" et \".eml\". \\\n",
    "Les outils pour réaliser les analyses sont différents. Nous allons donc créer des sections distinctes.\n",
    "\n",
    "Voici quelques ressources utilisées : \n",
    "- https://www.intezer.com/blog/incident-response/automate-analysis-phishing-email-files/\n",
    "\n",
    "\n",
    "Ce playbook a pour objectif d'extraire et analyser les en-têtes des Emails pour répondre aux questions suivantes : \n",
    "- Quand a été envoyé ce mail ?\n",
    "- Quelle l'@ip du serveur SMTP à l'origine de l'envoi ?\n",
    "- Quelle est l'adresse email de l'expéditeur ?\n",
    "- Quelle est l'adresse email de la personne destinataire du mail ?\n",
    "- Est-ce que le contenu est malveillant (url, pièce jointe)?\n",
    "\n",
    "\n",
    "Pour ce faire, voici les plus importants :\n",
    "- Expéditeur du mail, plusieurs valeurs permettent de l'identifier. Si ces valeurs diffèrent, nous sommes très certainement face à une tentative d'usurpation d'identité.\n",
    "    - **From**\n",
    "    - **envelope-from**\n",
    "    - **Return-Path**, **reply-to**, correspond à l'adresse mail à laquelle une réponse au mail sera envoyée;\n",
    "    - **smtp.mailfrom**\n",
    "    - **smtp.pra**, \n",
    "    - **x-sender**\n",
    "- Informations relatives à la sécurité :\n",
    "    - **x-spam status**, affiche une qualification du mail "
   ]
  },
  {
   "cell_type": "code",
   "execution_count": null,
   "metadata": {},
   "outputs": [],
   "source": [
    "# Load python modules\n",
    "from colorama import init, Fore, Back, Style\n",
    "from datetime import datetime\n",
    "from defang import defang\n",
    "import eml_parser\n",
    "import json\n",
    "import msticpy as mp\n",
    "import os\n",
    "import pandas as pd\n",
    "import msticpy.sectools as sectools\n",
    "import re\n",
    "import magic\n",
    "from msg_parser import MsOxMessage\n",
    " \n",
    "\n",
    "#Expand the width of the cells\n",
    "from IPython.display import display, HTML\n",
    "display(HTML(\"<style>.container { width:90% !important; }</style>\"))\n",
    "\n",
    "pd.set_option('display.max_rows', None)\n",
    "pd.set_option('display.max_columns', None)\n",
    "pd.set_option('display.width', None)\n",
    "pd.set_option('display.max_colwidth', None)\n",
    "\n",
    "!export MSTICPYCONFIG=./msticpyconfig.yaml\n",
    "mp.init_notebook(globals(), verbosity=0)\n",
    "ti = mp.TILookup()\n",
    "ioc_extractor = sectools.IoCExtract()\n",
    "\n",
    "# Regex \n",
    "regex_email = r\"\\b[a-zA-Z0-9._%+-]+@[a-zA-Z0-9.-]+\\.[a-zA-Z]{2,}\\b\"\n",
    "regex_message_id = r\"[^@]+@([^'>]+)\"\n",
    "regex_url = r\"((https?|ftp|ssh|mailto):\\/\\/[a-zA-Z0-9\\/:%_+.#?!@&=-]+)\"\n",
    "\n",
    "# Observables\n",
    "observables_lst = []\n",
    "\n",
    "# Chemin du fichier EML ou MSG à analyser\n",
    "emailFile = {}\n",
    "emailFile['path'] = \"/home/secubian/Documents/Cases/payloads_and_dumps/email_eml/QUEIXA_CONTRA_SI.eml\"  \n"
   ]
  },
  {
   "attachments": {},
   "cell_type": "markdown",
   "metadata": {},
   "source": [
    "# Determine the file type\n",
    "\n",
    "Ce controle permet d'identifier s'il s'agit d'un fichier EML ou MSG Outlook, car les outils d'analyse sont différents."
   ]
  },
  {
   "cell_type": "code",
   "execution_count": null,
   "metadata": {},
   "outputs": [],
   "source": [
    "import os.path\n",
    "if os.path.exists(emailFile['path']):\n",
    "    fileType = magic.Magic().id_filename(emailFile['path'])\n",
    "    if \"Microsoft Outlook Message\" in fileType and \".msg\" in emailFile['path']:\n",
    "        print(\"This is a MSG file\")\n",
    "        emailType = \"msg\"\n",
    "    elif \"text\" in fileType and \".eml\" in emailFile['path']:\n",
    "        print(\"This is an EML file\")\n",
    "        emailType = \"eml\"\n",
    "    else:\n",
    "        print(\"File Type not supported!\")\n",
    "else:\n",
    "    print(f\"File [{emailFile['path']}] doesn't exist\")"
   ]
  },
  {
   "attachments": {},
   "cell_type": "markdown",
   "metadata": {},
   "source": [
    "## Extraction d'observables utils\n",
    "\n",
    "Que le mail soit au format EML ou MSG, il est toujours interessant d'extraire les observables du type Email, URLs, présents dans le corps du mail. \\\n",
    "Une fois extraits, nous pourrons les rechercher dans les bases de connaissances des menaces."
   ]
  },
  {
   "cell_type": "code",
   "execution_count": null,
   "metadata": {},
   "outputs": [],
   "source": [
    "# https://enjoylifescience.com/2020/11/05/analyzing-emails-in-python/\n",
    "from email import policy\n",
    "from email.parser import BytesParser\n",
    "\n",
    "with open(emailFile['path'], 'rb') as fp:\n",
    "    name = fp.name  # Get file name\n",
    "    msg = BytesParser(policy=policy.default).parse(fp)\n",
    "body_str = msg.get_body(preferencelist=('html','plain')).get_content()\n",
    "\n",
    "# URLs research\n",
    "urls_lst = []\n",
    "matches = re.finditer(regex_url, body_str, re.MULTILINE)\n",
    "for matchNum, match in enumerate(matches, start=1):\n",
    "    urls_lst.append(match.groups()[0])\n",
    "    observables_lst.append(match.groups()[0])\n",
    "if len(urls_lst) > 0:\n",
    "    urls_lst = set(urls_lst)\n",
    "    print(Fore.RED + f\"Some urls has been found : {urls_lst}\")\n",
    "\n",
    "# Emails research\n",
    "emails_lst = []\n",
    "matches = re.finditer(regex_email, body_str, re.MULTILINE)\n",
    "for matchNum, match in enumerate(matches, start=1):\n",
    "    emails_lst.append(match.group())\n",
    "    observables_lst.append(match.group())\n",
    "if len(emails_lst) > 0:\n",
    "    emails_lst = set(emails_lst)\n",
    "    print(Fore.RED + f\"Some emails has been found : {emails_lst}\")"
   ]
  },
  {
   "attachments": {},
   "cell_type": "markdown",
   "metadata": {},
   "source": [
    "## Analyse des mails au format EML\n",
    "\n",
    "La première étape consiste à extraire les informations utiles telles que les entêtes. \\\n",
    "Ces informations seront placées dans des variables pour être analysées ci-dessous."
   ]
  },
  {
   "cell_type": "code",
   "execution_count": null,
   "metadata": {},
   "outputs": [],
   "source": [
    "mail_headers = {}\n",
    "headers = {}\n",
    "\n",
    "eml = eml_parser.parser.decode_email(emailFile['path'], include_attachment_data=True)\n",
    "headers = eml['header']\n",
    "mail_headers['From'] = headers['from']\n",
    "mail_headers['Subject'] = headers['subject']\n",
    "observables_lst.append(mail_headers['From'])\n",
    "\n",
    "print(Fore.RED + f\"Le mail semble avoir été envoyé par [{mail_headers['From']}] \\navec le sujet suivant : [{mail_headers['Subject']}]\")"
   ]
  },
  {
   "attachments": {},
   "cell_type": "markdown",
   "metadata": {},
   "source": [
    "### Analyse de l'expéditeur\n",
    "\n",
    "Il est facile de falcifier l'adresse mail à l'origine de l'envoi du mail. \\\n",
    "Sans rentrer dans les détails, nous allons analyser les entêtes comportant l'adresse mail de l'expéditeur. \\\n",
    "Si l'analyse recense plus d'une adresse mail, alors nous sommes potentiellement face à une usurpation d'identité."
   ]
  },
  {
   "cell_type": "code",
   "execution_count": null,
   "metadata": {},
   "outputs": [],
   "source": [
    "# Analyse senders adresses\n",
    "senders_headers = ['from','envelope-from','smtp.mailfrom','smtp.pra','reply-to','return-path','x-sender']\n",
    "senders_email = []\n",
    "match_from = None\n",
    "\n",
    "for sender in senders_headers:\n",
    "    if sender in headers['header']:\n",
    "        match_from = re.search(regex_email, headers['header'][sender][0])\n",
    "    if sender in headers:\n",
    "        match_from = re.search(regex_email, headers[sender])\n",
    "    if match_from is not None:\n",
    "        senders_email.append(match_from.group())\n",
    "        observables_lst.append(match_from.group())\n",
    "\n",
    "if len(senders_email) > 1: senders_email = set(senders_email)\n",
    "\n",
    "if (mail_headers['From'] in str(senders_email)) and len(senders_email) == 1:\n",
    "    print(Fore.GREEN + \"[✓] No Potentially identity usurpation\")\n",
    "    print(Fore.GREEN + f\"[✓] Only one email address has been identified : {mail_headers['From']}\")\n",
    "else:\n",
    "    print(Fore.RED + \"[!] Potentially identity usurpation during headers analysis (from, envelope-from, x-sender, smtp.mailfrom, return-path, reply-to)\")\n",
    "    print(f\"Email addresses specified in From value : {mail_headers['From']}\")\n",
    "    print(f\"All email addresses identified in headers : {senders_email}\")"
   ]
  },
  {
   "attachments": {},
   "cell_type": "markdown",
   "metadata": {},
   "source": [
    "### Analyse de/des destinataire(s) du mail\n",
    "\n",
    "En cas d'incident de sécurité, il est opportun de connaitre l'ensemble des personnes ayant reçu le mail malveillant pour réaliser le confinement de l'attaque (isolation du poste de travail, exécution d'un scan antivirus, etc...)"
   ]
  },
  {
   "cell_type": "code",
   "execution_count": null,
   "metadata": {},
   "outputs": [],
   "source": [
    "# Analyse \"to\" adresses\n",
    "to_headers = ['to','delivered-to','envelope-to','received_foremail']\n",
    "to_email = []\n",
    "match_to = None\n",
    "\n",
    "for sender in to_headers:\n",
    "    if sender in headers['header'] and len(headers['header'][sender][0]) > 0:\n",
    "        match_to = re.search(regex_email, headers['header'][sender][0])\n",
    "    else:\n",
    "        if sender in headers and len(headers[sender]) > 0:\n",
    "            match_to = re.search(regex_email, headers[sender][0])\n",
    "\n",
    "    if match_to is not None:\n",
    "        to_email.append(match_to.group())\n",
    "\n",
    "if len(to_email) > 1: to_email = set(to_email)\n",
    "\n",
    "print(f\"Email has been delivered to : {to_email}\")"
   ]
  },
  {
   "attachments": {},
   "cell_type": "markdown",
   "metadata": {},
   "source": [
    "### Analyse de l'entête \"Message ID\"\n",
    "\n",
    "Il peut être observé durant l'analyse de l'entête \"Message ID\" un nom de domaine différent de celui présent dans l'adresse mail de l'expéditeur. Cette situation peut aider à identifier un mail malveillant."
   ]
  },
  {
   "cell_type": "code",
   "execution_count": null,
   "metadata": {},
   "outputs": [],
   "source": [
    "if 'message-id' in headers['header']:\n",
    "    result = re.search(regex_message_id, str(headers['header']['message-id']))\n",
    "    message_id_domain = result.group(1)\n",
    "    observables_lst.append(message_id_domain)\n",
    "if message_id_domain not in mail_headers['From']:\n",
    "    print(Fore.RED + f\"[!] Domain in Message-ID ({message_id_domain}) doesn't equal with 'From' email address domain ({mail_headers['From']})\")\n",
    "else:\n",
    "    print(Fore.GREEN + f\"[✓] Message-ID domain ({message_id_domain}) is similar with 'From' email address domain ({mail_headers['From']})\")"
   ]
  },
  {
   "attachments": {},
   "cell_type": "markdown",
   "metadata": {},
   "source": [
    "### Analyse des serveurs ayant émis le mail\n",
    "La prochaine étape consiste à identifier le serveur ayant émis le mail."
   ]
  },
  {
   "cell_type": "code",
   "execution_count": null,
   "metadata": {},
   "outputs": [],
   "source": [
    "email_servers_ips_lst = []\n",
    "\n",
    "if headers['received'][len(headers['received'])-1]['by'][0]:\n",
    "    email_servers_ips_lst.append(headers['received'][len(headers['received'])-1]['by'][0])\n",
    "    observables_lst.append(headers['received'][len(headers['received'])-1]['by'][0])\n",
    "\n",
    "if len(email_servers_ips_lst) > 0:\n",
    "    print(Fore.GREEN + f\"Email was sent by : {email_servers_ips_lst}\")\n",
    "else:\n",
    "    print(Fore.RED + f\"[!] There is an issue in  headers analyse.\")\n"
   ]
  },
  {
   "attachments": {},
   "cell_type": "markdown",
   "metadata": {},
   "source": [
    "### Analyse de la durée nécessaire à l'envoi du mail\n",
    "\n",
    "Un mail n'a besoin que de quelques secondes pour transiter entre le client de messagerie de l'expéditeur et le serveur de messagerie du destinataire. \\\n",
    "Il est donc plutot facile d'identifier des mails envoyés à des groupes de diffusion, ou spam en masse qui demande plus de temps de traitement aux serveurs intermédiaires durant le transite du mail. Nous avons décidé ici d'établir un seuil à 60 secondes."
   ]
  },
  {
   "cell_type": "code",
   "execution_count": null,
   "metadata": {},
   "outputs": [],
   "source": [
    "from datetime import timezone\n",
    "# Analyse the delta between the sending of the email by the sender and its reception by the recipient. \n",
    "mail_date_sent = headers['date'].replace(tzinfo=timezone.utc)\n",
    "mail_date_received = headers['received'][0]['date'].replace(tzinfo=timezone.utc)\n",
    "delta = mail_date_received - mail_date_sent\n",
    "\n",
    "print(f\"Sending date : {mail_date_sent}\")\n",
    "print(f\"Receiving date : {mail_date_received}\")\n",
    "\n",
    "if delta.total_seconds() > 60:\n",
    "    print(Fore.RED + f\"[!] It seems to be a SPAM : {delta.total_seconds()} seconds \")\n",
    "else:\n",
    "    print(Fore.GREEN + f\"[✓] It seems to be a Legit mail : {delta.total_seconds()} seconds \")\n",
    "    \n",
    "mail_headers['mail_time_delay (seconds)'] = delta.total_seconds()"
   ]
  },
  {
   "attachments": {},
   "cell_type": "markdown",
   "metadata": {},
   "source": [
    "### Extraction des pièces jointes\n",
    "\n",
    "L'analyse du fichier EML continue en réalisant une extraction des pièces jointes. \\\n",
    "Ces dernières peuvent contenir du code malveillant. Il est donc nécessaire d'être vigilant.\n",
    "\n",
    "Une des premières actions pourrait être l'analyse des pièces jointes via un antivirus, ou rechercher leur hash."
   ]
  },
  {
   "cell_type": "code",
   "execution_count": null,
   "metadata": {},
   "outputs": [],
   "source": [
    "import base64\n",
    "outpath = f\"{emailFile['path']}_attachments/\"\n",
    "if 'attachment' in eml:\n",
    "    if len(eml['attachment']) > 0:\n",
    "        for attachment in eml['attachment']:\n",
    "            filename = attachment['filename']\n",
    "            filename = os.path.join(outpath, filename)\n",
    "            if not os.path.exists(os.path.dirname(filename)):\n",
    "                try:\n",
    "                    os.makedirs(os.path.dirname(filename))\n",
    "                except OSError as exc:  # Guard against race condition\n",
    "                    if exc.errno != errno.EEXIST:\n",
    "                        raise\n",
    "\n",
    "            print(Fore.RED + f\"[!] Writing attachment: {filename}\")\n",
    "\n",
    "            with open(filename, 'wb') as a_out:\n",
    "                a_out.write(base64.b64decode(attachment['raw']))\n",
    "    else:\n",
    "        print(Fore.GREEN + f\"[✓] No attachment included\")\n",
    "else:\n",
    "    print(Fore.GREEN + f\"[✓] No attachment included\")"
   ]
  },
  {
   "attachments": {},
   "cell_type": "markdown",
   "metadata": {},
   "source": [
    "La commande ci-dessous va générer les empreintes numériques des fichiers extraits. \\\n",
    "Il est tout à fait possible à l'issue de réaliser une recherche en sources ouvertes de ces valeurs (ex: https://www.virustotal.com/gui/home/search)"
   ]
  },
  {
   "cell_type": "code",
   "execution_count": null,
   "metadata": {},
   "outputs": [],
   "source": [
    "outpath_hash = outpath.replace(' ','\\ ')\n",
    "!hashdeep -r $outpath_hash"
   ]
  },
  {
   "attachments": {},
   "cell_type": "markdown",
   "metadata": {},
   "source": [
    "## Analyse des mails au format MSG Outlook\n",
    "\n",
    "La première étape consiste à extraire les informations utiles telles que les entêtes. \\\n",
    "Ces informations seront placées dans des variables pour être analysées ci-dessous."
   ]
  },
  {
   "cell_type": "code",
   "execution_count": null,
   "metadata": {},
   "outputs": [],
   "source": [
    "import extract_msg\n",
    "\n",
    "mail_headers = {}\n",
    "headers = {}\n",
    "\n",
    "email_msg = extract_msg.openMsg(emailFile['path'])\n",
    "headers = json.loads(json.dumps(email_msg.headerDict))\n",
    "mail_headers['From'] = headers['From']\n",
    "mail_headers['Subject'] = headers['Subject']\n",
    "mail_headers['To'] = headers['To']\n",
    "observables_lst.append(mail_headers['From'])\n",
    "\n",
    "print(Fore.RED + f\"Le mail semble avoir été envoyé par [{mail_headers['From']}] \\navec le sujet suivant : [{mail_headers['Subject']}]\")\n"
   ]
  },
  {
   "attachments": {},
   "cell_type": "markdown",
   "metadata": {},
   "source": [
    "### Analyse de l'expéditeur\n",
    "\n",
    "Il est facile de falcifier l'adresse mail à l'origine de l'envoi du mail. \\\n",
    "Sans rentrer dans les détails, nous allons analyser les entêtes comportant l'adresse mail de l'expéditeur. \\\n",
    "Si l'analyse recense plus d'une adresse mail, alors nous sommes potentiellement face à une usurpation d'identité."
   ]
  },
  {
   "cell_type": "code",
   "execution_count": null,
   "metadata": {},
   "outputs": [],
   "source": [
    "# Analyse senders adresses\n",
    "senders_email = []\n",
    "senders_headers = ['From','envelope-from','smtp.mailfrom','smtp.pra','reply-to','return-path','x-sender']\n",
    "\n",
    "regex = [\n",
    "            {\"name\":\"From (envelope-from)\", \"value\":r'envelope-from=\\\"([^;,]+)\\\"', \"regexGroupID\":0},\n",
    "            {\"name\":\"From (smtp.mailfrom)\", \"value\":r'smtp.mailfrom=([^;,]+)', \"regexGroupID\":0},\n",
    "            {\"name\":\"From (smtp.mailfrom)\", \"value\":r'smtp.mfrom=([^;,]+)', \"regexGroupID\":0},\n",
    "            {\"name\":\"From (smtp.pra)\", \"value\":r'smtp.pra=([^;,]+)', \"regexGroupID\":0},\n",
    "            {\"name\":\"From (return-path)\", \"value\":r'Return-Path[^\\:]+: ([^\\\\\\r,;]+)', \"regexGroupID\":0},\n",
    "            #{\"name\":\"From (return-path)\", \"value\":r'Return-Path: ([^\\\\\\r]+)', \"regexGroupID\":0},\n",
    "            {\"name\":\"From (x-sender)\", \"value\":r'X-Sender: ([^\\\\\\r]+)', \"regexGroupID\":0},\n",
    "            {\"name\":\"From (reply-to)\", \"value\":r'Reply-To: ([^\\\\\\r]+)', \"regexGroupID\":0},  # A valider\n",
    "        ]\n",
    "\n",
    "for r in regex:\n",
    "    result = re.search(r['value'], str(headers))\n",
    "    if result is not None:\n",
    "        match = re.search(regex_email, result.group(1))\n",
    "        if match is not None:\n",
    "            senders_email.append(match.group())\n",
    "            observables_lst.append(match.group())\n",
    "\n",
    "senders_email = list(set(senders_email))\n",
    "\n",
    "\n",
    "# Extract email from From header\n",
    "match_email_from = re.search(regex_email, mail_headers['From'])\n",
    "match_email_from = match_email_from.group()\n",
    "\n",
    "if (match_email_from in str(senders_email)) and len(senders_email) == 1:\n",
    "    print(Fore.GREEN + \"[✓] No Potentially identity usurpation\")\n",
    "    print(Fore.GREEN + f\"[✓] Only one email address has been identified : {mail_headers['From']}\")\n",
    "else:\n",
    "    print(Fore.RED + \"[!] Potentially identity usurpation during headers analysis (from, envelope-from, x-sender, smtp.mailfrom, return-path)\")\n",
    "    print(f\"Email addresses specified in From value : {mail_headers['From']}\")\n",
    "    print(f\"All email addresses identified in headers : {senders_email}\")\n",
    "\n"
   ]
  },
  {
   "attachments": {},
   "cell_type": "markdown",
   "metadata": {},
   "source": [
    "### Analyse de l'entête \"Message ID\"\n",
    "\n",
    "Il peut être observé durant l'analyse de l'entête \"Message ID\" un nom de domaine différent de celui présent dans l'adresse mail de l'expéditeur. Cette situation peut aider à identifier un mail malveillant."
   ]
  },
  {
   "cell_type": "code",
   "execution_count": null,
   "metadata": {},
   "outputs": [],
   "source": [
    "regex_message_id = r\"<[^@]+@([^>]+)>\"\n",
    "\n",
    "result = re.search(regex_message_id, headers['Message-ID'])\n",
    "message_id_domain = result.group(1)\n",
    "if message_id_domain not in mail_headers['From']:\n",
    "    print(Fore.RED + f\"[!] Domain in Message-ID ({message_id_domain}) doesn't equal with 'From' email address domain ({mail_headers['From']})\")\n",
    "else:\n",
    "    print(Fore.GREEN + f\"[✓] Message-ID domain ({message_id_domain}) is similar with 'From' email address domain ({mail_headers['From']})\")\n"
   ]
  },
  {
   "attachments": {},
   "cell_type": "markdown",
   "metadata": {},
   "source": [
    "### Analyse des serveurs ayant émis le mail\n",
    "La prochaine étape consiste à identifier le serveur ayant émis le mail."
   ]
  },
  {
   "cell_type": "code",
   "execution_count": null,
   "metadata": {},
   "outputs": [],
   "source": [
    "email_servers_lst = []\n",
    "regex_senders_email_server = [\n",
    "            {\"name\":\"X-Source-IP\", \"value\":r'X-Source-IP[^\\:]+: ([^\\\\\\r,;]+)', \"regexGroupID\":1},\n",
    "            {\"name\":\"X-Source-Sender\", \"value\":r'X-Source-Sender[^\\:]+: ([^\\\\\\r,;]+)', \"regexGroupID\":1},\n",
    "            {\"name\":\"X-SenderID\", \"value\":r'X-SenderID[^\\:]+: ([^\\\\\\r,;]+)', \"regexGroupID\":1},\n",
    "        ]\n",
    "\n",
    "for r in regex_senders_email_server:\n",
    "    result = re.search(r['value'], str(headers))\n",
    "    if result is not None:\n",
    "        email_servers_lst.append(result.group(r['regexGroupID']).replace(\"'\",\"\"))\n",
    "        observables_lst.append(result.group(r['regexGroupID']).replace(\"'\",\"\"))\n",
    "\n",
    "email_servers_lst = list(set(email_servers_lst))\n",
    "\n",
    "\n",
    "if len(email_servers_lst) > 0:\n",
    "    print(Fore.GREEN + f\"Email was sent by servers : {email_servers_lst}\")\n",
    "else:\n",
    "    print(Fore.RED + f\"[!] There is an issue in  headers analyse.\")\n"
   ]
  },
  {
   "attachments": {},
   "cell_type": "markdown",
   "metadata": {},
   "source": [
    "### Analyse de la durée nécessaire à l'envoi du mail\n",
    "\n",
    "Un mail n'a besoin que de quelques secondes pour transiter entre le client de messagerie de l'expéditeur et le serveur de messagerie du destinataire. \\\n",
    "Il est donc plutot facile d'identifier des mails envoyés à des groupes de diffusion, ou spam en masse qui demande plus de temps de traitement aux serveurs intermédiaires durant le transite du mail. Nous avons décidé ici d'établir un seuil à 60 secondes."
   ]
  },
  {
   "cell_type": "code",
   "execution_count": null,
   "metadata": {},
   "outputs": [],
   "source": [
    "# Analyse the delta between the sending of the email by the sender and its reception by the recipient. \n",
    "delta = email_msg.receivedTime - datetime.strptime(email_msg.date, '%a, %d %b %Y %H:%M:%S %z')\n",
    "if delta.total_seconds() > 60:\n",
    "    print(Fore.RED + f\"[!] It seems to be a SPAM : {delta.total_seconds()} seconds \")\n",
    "else:\n",
    "    print(Fore.GREEN + f\"[✓] It seems to be a Legit mail : {delta.total_seconds()} seconds \")\n",
    "    \n",
    "mail_headers['mail_time_delay (seconds)'] = delta.total_seconds()"
   ]
  },
  {
   "attachments": {},
   "cell_type": "markdown",
   "metadata": {},
   "source": [
    "### Analyse de l'outil ayant envoyé le mail\n",
    "\n",
    "Comme pour les requetes HTTP avec l'en-tête \"User-Agent\", certains clients de messagerie laissent leur empreinte lors de l'envoi. \\\n",
    "Cette empreinte peut se trouver dans l'en-tête : \"X-Mailer\"."
   ]
  },
  {
   "cell_type": "code",
   "execution_count": null,
   "metadata": {},
   "outputs": [],
   "source": [
    "if 'X-Mailer' in headers:\n",
    "    print(Fore.RED + f\"[!] L'outil utilisé pour l'envoi du mail est : {headers['X-Mailer']}\")\n",
    "else:\n",
    "    print(Fore.GREEN + f\"[✓] L'outil utilisé pour l'envoi du mail n'a pas pu être identifié.\")\n"
   ]
  },
  {
   "attachments": {},
   "cell_type": "markdown",
   "metadata": {},
   "source": [
    "## Analyse en Threat Intel des observables identifiés\n",
    "\n",
    "La dernière étape est commune aux deux types de fichiers EML, et MSG. \\\n",
    "Elle consiste à rechercher dans les bases de connaissance de Threat Intel, les observables identifiés durant toute l'analyse des en-têtes."
   ]
  },
  {
   "cell_type": "code",
   "execution_count": null,
   "metadata": {},
   "outputs": [],
   "source": [
    "# Retrieve all observables list and concat them in one DataFrame\n",
    "df_emails_servers_ips = pd.DataFrame(email_servers_lst, columns=['servers'])\n",
    "df_urls = pd.DataFrame(urls_lst, columns=['servers'])\n",
    "df_observables_lst = pd.DataFrame(observables_lst, columns=['servers'])\n",
    "resource = [df_emails_servers_ips, df_urls, df_observables_lst]\n",
    "df_observable = pd.concat(resource)\n",
    "\n",
    "# Analyse all observable and extract domains,ips,urls\n",
    "df_observable = ioc_extractor.extract(data = df_observable, columns=['servers'])\n",
    "df_observable = df_observable.drop_duplicates(subset=['Observable'])\n",
    "\n",
    "# Research observables in theat intel database\n",
    "df_observable_ti = ti.lookup_iocs(data=df_observable, ioc_col=\"Observable\", providers=[\"VirusTotal\", \"OTX\"])\n",
    "df_observable_ti = pd.json_normalize(data=df_observable_ti[['Ioc','Provider','Details']].to_dict(orient='records'))\n",
    "\n",
    "if (df_observable_ti.empty):\n",
    "    print(Fore.GREEN + \"[✓] No Potentially Suspicious Network connections identified\")\n",
    "else:\n",
    "    print(Fore.RED + \"[!] Potentially Suspicious Network connections identified\")\n",
    "    display(df_observable_ti.sort_values(by=\"Details.pulse_count\", ascending=False))"
   ]
  }
 ],
 "metadata": {
  "kernelspec": {
   "display_name": "Python 3",
   "language": "python",
   "name": "python3"
  },
  "language_info": {
   "codemirror_mode": {
    "name": "ipython",
    "version": 3
   },
   "file_extension": ".py",
   "mimetype": "text/x-python",
   "name": "python",
   "nbconvert_exporter": "python",
   "pygments_lexer": "ipython3",
   "version": "3.9.2"
  },
  "orig_nbformat": 4,
  "vscode": {
   "interpreter": {
    "hash": "916dbcbb3f70747c44a77c7bcd40155683ae19c65e1c03b4aa3499c5328201f1"
   }
  }
 },
 "nbformat": 4,
 "nbformat_minor": 2
}
