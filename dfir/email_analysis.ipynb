{
 "cells": [
  {
   "attachments": {},
   "cell_type": "markdown",
   "metadata": {},
   "source": [
    "# Analyse d'un email suspect\n",
    "\n",
    "Le vecteur initial d'intrusion le plus courant dans un incident cyber est un mail de phishing. \\\n",
    "C'est pour cela qu'il est très important de pouvoir analyser facilement un email reçu afin d'identifier très facilement un mail légitime d'un mail malveillant.\n",
    "\n",
    "Il existe plusieurs format de mail \".msg\" et \".eml\". \\\n",
    "Les outils pour réaliser les analyses sont différents. Nous allons donc créer des sections distinctes."
   ]
  },
  {
   "cell_type": "code",
   "execution_count": 1,
   "metadata": {},
   "outputs": [
    {
     "name": "stderr",
     "output_type": "stream",
     "text": [
      "You are using python-magic, though this module requires file-magic. Disabling magic usage due to incompatibilities.\n"
     ]
    },
    {
     "data": {
      "text/html": [
       "<style>.container { width:90% !important; }</style>"
      ],
      "text/plain": [
       "<IPython.core.display.HTML object>"
      ]
     },
     "metadata": {},
     "output_type": "display_data"
    },
    {
     "data": {
      "text/html": [
       "<p style=''><font color='orange'><h3>Notebook setup completed with some warnings.</h3></p>"
      ],
      "text/plain": [
       "<IPython.core.display.HTML object>"
      ]
     },
     "metadata": {},
     "output_type": "display_data"
    },
    {
     "data": {
      "text/html": [
       "<p style=''>One or more configuration items were missing or set incorrectly.</p>"
      ],
      "text/plain": [
       "<IPython.core.display.HTML object>"
      ]
     },
     "metadata": {},
     "output_type": "display_data"
    },
    {
     "data": {
      "text/html": [
       "<p style=''>Please run the <i>Getting Started Guide for Azure Sentinel ML Notebooks</i> notebook. and the <a href='https://msticpy.readthedocs.io/en/latest/getting_started/msticpyconfig.html'>msticpy configuration guide</a>.</p>"
      ],
      "text/plain": [
       "<IPython.core.display.HTML object>"
      ]
     },
     "metadata": {},
     "output_type": "display_data"
    },
    {
     "data": {
      "text/html": [
       "<p style=''>This notebook may still run but with reduced functionality.</p>"
      ],
      "text/plain": [
       "<IPython.core.display.HTML object>"
      ]
     },
     "metadata": {},
     "output_type": "display_data"
    }
   ],
   "source": [
    "from colorama import init, Fore, Back, Style\n",
    "from datetime import datetime\n",
    "from defang import defang\n",
    "import eml_parser\n",
    "import msticpy as mp\n",
    "import os\n",
    "import pandas as pd\n",
    "import msticpy.sectools as sectools\n",
    "import re\n",
    "import magic\n",
    "from msg_parser import MsOxMessage\n",
    " \n",
    "\n",
    "#Expand the width of the cells\n",
    "from IPython.display import display, HTML\n",
    "display(HTML(\"<style>.container { width:90% !important; }</style>\"))\n",
    "\n",
    "pd.set_option('display.max_rows', None)\n",
    "pd.set_option('display.max_columns', None)\n",
    "pd.set_option('display.width', None)\n",
    "pd.set_option('display.max_colwidth', None)\n",
    "\n",
    "mp.init_notebook(globals(), verbosity=0)\n",
    "ti = mp.TILookup()\n",
    "ioc_extractor = sectools.IoCExtract()\n",
    "\n",
    "# Chemin du fichier à analyser\n",
    "emailFile = {}\n",
    "emailFile['path'] = \"/home/secubian/Documents/Documentation/JupyterNotebook/payloads_and_dumps/eml/QUEIXA CONTRA SI.eml\"  \n",
    "emailFile['path'] = \"/home/secubian/Documents/Documentation/JupyterNotebook/payloads_and_dumps/msg/file_msg_apt29.msg\"  \n"
   ]
  },
  {
   "attachments": {},
   "cell_type": "markdown",
   "metadata": {},
   "source": [
    "# Determine the file type\n",
    "\n",
    "Ce controle permet d'identifier s'il s'agit d'un fichier EML ou MSG Outlook, car les outils d'analyse sont différents."
   ]
  },
  {
   "cell_type": "code",
   "execution_count": 2,
   "metadata": {},
   "outputs": [
    {
     "name": "stdout",
     "output_type": "stream",
     "text": [
      "This is a MSG file\n"
     ]
    }
   ],
   "source": [
    "fileType = magic.Magic().id_filename(emailFile['path'])\n",
    "\n",
    "if \"Microsoft Outlook Message\" in fileType and \".msg\" in emailFile['path']:\n",
    "    print(\"This is a MSG file\")\n",
    "    emailType = \"msg\"\n",
    "elif \"text\" in fileType and \".eml\" in emailFile['path']:\n",
    "    print(\"This is an EML file\")\n",
    "    emailType = \"eml\"\n",
    "else:\n",
    "    print(\"File Type not supported!\")\n"
   ]
  },
  {
   "attachments": {},
   "cell_type": "markdown",
   "metadata": {},
   "source": [
    "## Analyse des mails au format EML\n",
    "\n",
    "La première étape consiste à extraire les informations utiles telles que les entêtes. \\\n",
    "Ces informations seront placées dans des variables pour être analysées ci-dessous."
   ]
  },
  {
   "cell_type": "code",
   "execution_count": 4,
   "metadata": {},
   "outputs": [],
   "source": [
    "recipient_header=['recipients']\n",
    "sender_headers=['SenderEmailAddress','SenderName','SenderSearchKey','SenderSmtpAddress','SentRepresentingSmtpAddress']\n",
    "subject_header=['Subject']\n",
    "mail_headers = {}\n",
    "headers = {}\n",
    "\n",
    "eml = eml_parser.parser.decode_email(emailFile['path'], include_attachment_data=True)\n",
    "headers = eml['header']\n",
    "mail_headers['From'] = headers['from']\n",
    "mail_headers['Subject'] = headers['subject']"
   ]
  },
  {
   "attachments": {},
   "cell_type": "markdown",
   "metadata": {},
   "source": [
    "### Analyse de l'expéditeur\n",
    "\n",
    "Il est facile de falcifier l'adresse mail à l'origine de l'envoi du mail. \\\n",
    "Sans rentrer dans les détails, nous allons analyser les entêtes comportant l'adresse mail de l'expéditeur. \\\n",
    "Si l'analyse recense plus d'une adresse mail, alors nous sommes potentiellement face à une usurpation d'identité."
   ]
  },
  {
   "cell_type": "code",
   "execution_count": 5,
   "metadata": {},
   "outputs": [
    {
     "name": "stdout",
     "output_type": "stream",
     "text": [
      "\u001b[32m[✓] No Potentially identity usurpation\n",
      "\u001b[32m[✓] Only one email address has been identified : direccao.gouv@gmail.com\n"
     ]
    }
   ],
   "source": [
    "# Analyse senders adresses\n",
    "senders_headers = ['from','envelope-from','smtp.mailfrom','smtp.pra','return-path','x-sender']\n",
    "senders_email = []\n",
    "\n",
    "for sender in senders_headers:\n",
    "    if sender in headers:\n",
    "        senders_email.append(headers[sender])\n",
    "\n",
    "if len(senders_email) > 1: senders_email = set(senders_email)\n",
    "\n",
    "if (mail_headers['From'] in str(senders_email)) and len(senders_email) == 1:\n",
    "    print(Fore.GREEN + \"[✓] No Potentially identity usurpation\")\n",
    "    print(Fore.GREEN + f\"[✓] Only one email address has been identified : {mail_headers['From']}\")\n",
    "else:\n",
    "    print(Fore.RED + \"[!] Potentially identity usurpation during headers analysis (from, envelope-from, x-sender, smtp.mailfrom, return-path)\")\n",
    "    print(f\"Email addresses specified in From value : {mail_headers['From']}\")\n",
    "    print(f\"All email addresses identified in headers : {senders_email}\")\n"
   ]
  },
  {
   "attachments": {},
   "cell_type": "markdown",
   "metadata": {},
   "source": [
    "### Analyse de l'entête \"Message ID\"\n",
    "\n",
    "Il peut être observé durant l'analyse de l'entête \"Message ID\" un nom de domaine différent de celui présent dans l'adresse mail de l'expéditeur. Cette situation peut aider à identifier un mail malveillant."
   ]
  },
  {
   "cell_type": "code",
   "execution_count": 21,
   "metadata": {},
   "outputs": [
    {
     "name": "stdout",
     "output_type": "stream",
     "text": [
      "\u001b[31m[!] Domain in Message-ID (mail.gmail.com) doesn't equal with 'From' email address domain (direccao.gouv@gmail.com)\n"
     ]
    }
   ],
   "source": [
    "regex_message_id = r\"[^@]+@([^'>]+)\"\n",
    "result = re.search(regex_message_id, str(headers['header']['message-id']))\n",
    "message_id_domain = result.group(1)\n",
    "if message_id_domain not in mail_headers['From']:\n",
    "    print(Fore.RED + f\"[!] Domain in Message-ID ({message_id_domain}) doesn't equal with 'From' email address domain ({mail_headers['From']})\")\n",
    "else:\n",
    "    print(Fore.GREEN + f\"[✓] Message-ID domain ({message_id_domain}) is similar with 'From' email address domain ({mail_headers['From']})\")\n"
   ]
  },
  {
   "attachments": {},
   "cell_type": "markdown",
   "metadata": {},
   "source": [
    "### Analyse de la durée nécessaire à l'envoi du mail\n",
    "\n",
    "Un mail n'a besoin que de quelques secondes pour transiter entre le client de messagerie de l'expéditeur et le serveur de messagerie du destinataire. \\\n",
    "Il est donc plutot facile d'identifier des mails envoyés à des groupes de diffusion, ou spam en masse qui demande plus de temps de traitement aux serveurs intermédiaires durant le transite du mail. Nous avons décidé ici d'établir un seuil à 60 secondes."
   ]
  },
  {
   "cell_type": "code",
   "execution_count": 60,
   "metadata": {},
   "outputs": [
    {
     "name": "stdout",
     "output_type": "stream",
     "text": [
      "\u001b[32m[✓] It seems to be a Legit mail : 2.0 seconds \n"
     ]
    }
   ],
   "source": [
    "# Analyse the delta between the sending of the email by the sender and its reception by the recipient. \n",
    "mail_date_sent = headers['received'][len(headers['received'])-1]['date']\n",
    "mail_date_received = headers['received'][0]['date']\n",
    "delta = mail_date_received - mail_date_sent\n",
    "\n",
    "if delta.total_seconds() > 60:\n",
    "    print(Fore.RED + f\"[!] It seems to be a SPAM : {delta.total_seconds()} seconds \")\n",
    "else:\n",
    "    print(Fore.GREEN + f\"[✓] It seems to be a Legit mail : {delta.total_seconds()} seconds \")\n",
    "    \n",
    "mail_headers['mail_time_delay (seconds)'] = delta.total_seconds()"
   ]
  },
  {
   "attachments": {},
   "cell_type": "markdown",
   "metadata": {},
   "source": [
    "### Extraction des pièces jointes\n",
    "\n",
    "L'analyse du fichier EML continue en réalisant une extraction des pièces jointes. \\\n",
    "Ces dernières peuvent contenir du code malveillant. Il est donc nécessaire d'être vigilant.\n",
    "\n",
    "Une des premières actions pourrait être l'analyse des pièces jointes via un antivirus, ou rechercher leur hash."
   ]
  },
  {
   "cell_type": "code",
   "execution_count": 88,
   "metadata": {},
   "outputs": [
    {
     "name": "stdout",
     "output_type": "stream",
     "text": [
      "\u001b[31m[!] Writing attachment: /home/secubian/Documents/Documentation/JupyterNotebook/payloads_and_dumps/eml/QUEIXA CONTRA SI.eml_attachments/Europol.jpg\n"
     ]
    }
   ],
   "source": [
    "import base64\n",
    "outpath = f\"{emailFile['path']}_attachments/\"\n",
    "if len(eml['attachment']) > 0:\n",
    "    for attachment in eml['attachment']:\n",
    "\n",
    "        filename = attachment['filename']\n",
    "\n",
    "        filename = os.path.join(outpath, filename)\n",
    "        if not os.path.exists(os.path.dirname(filename)):\n",
    "            try:\n",
    "                os.makedirs(os.path.dirname(filename))\n",
    "            except OSError as exc:  # Guard against race condition\n",
    "                if exc.errno != errno.EEXIST:\n",
    "                    raise\n",
    "\n",
    "        print(Fore.RED + f\"[!] Writing attachment: {filename}\")\n",
    "\n",
    "        with open(filename, 'wb') as a_out:\n",
    "            a_out.write(base64.b64decode(attachment['raw']))\n",
    "else:\n",
    "    print(Fore.GREEN + f\"[✓] No attachment included\")"
   ]
  },
  {
   "attachments": {},
   "cell_type": "markdown",
   "metadata": {},
   "source": [
    "La commande ci-dessous va générer les empreintes numériques des fichiers extraits. \\\n",
    "Il est tout à fait possible à l'issue de réaliser une recherche en sources ouvertes de ces valeurs (ex: https://www.virustotal.com/gui/home/search)"
   ]
  },
  {
   "cell_type": "code",
   "execution_count": 98,
   "metadata": {},
   "outputs": [
    {
     "name": "stdout",
     "output_type": "stream",
     "text": [
      "%%%% HASHDEEP-1.0\n",
      "%%%% size,md5,sha256,filename\n",
      "## Invoked from: /home/secubian/Documents/Documentation/JupyterNotebook/dfir\n",
      "## $ hashdeep -r /home/secubian/Documents/Documentation/JupyterNotebook/payloads_and_dumps/eml/QUEIXA CONTRA SI.eml_attachments/\n",
      "## \n",
      "529330,662bd359219f0429fbd304df0c14645b,0ccc53558bf35b59c52cc938b68ddc0d359bc6c9aff6afbf39f2df87104328cc,/home/secubian/Documents/Documentation/JupyterNotebook/payloads_and_dumps/eml/QUEIXA CONTRA SI.eml_attachments/Europol.jpg\n"
     ]
    }
   ],
   "source": [
    "outpath_hash = outpath.replace(' ','\\ ')\n",
    "!hashdeep -r $outpath_hash"
   ]
  },
  {
   "attachments": {},
   "cell_type": "markdown",
   "metadata": {},
   "source": [
    "## Analyse des mails au format MSG Outlook\n",
    "\n"
   ]
  },
  {
   "cell_type": "code",
   "execution_count": null,
   "metadata": {},
   "outputs": [],
   "source": [
    "\"\"\"\n",
    "#!pip3 install extract-msg\n",
    "import extract_msg\n",
    "import json\n",
    "import re\n",
    "\n",
    "f = emailFile['path']  # Replace with yours\n",
    "msg = extract_msg.Message(f)\n",
    "msg_sender = msg.sender\n",
    "msg_date = msg.date\n",
    "msg_subj = msg.subject\n",
    "msg_message = msg.body\n",
    "\n",
    "#print('Sender: {}'.format(msg_sender))\n",
    "#print('Sent On: {}'.format(msg_date))\n",
    "#print('Subject: {}'.format(msg_subj))\n",
    "#print('Body: {}'.format(msg_message))\n",
    "headers = json.loads(json.dumps(msg.headerDict))\n",
    "#headers['Received-SPF']\n",
    "#headers['User-Agent']\n",
    "\n",
    "def runRegexList(reg, data, options=\"\"):\n",
    "    results = []\n",
    "    matches = re.finditer(reg, data, options)\n",
    "    for matchNum, match in enumerate(matches, start=1):\n",
    "        for groupNum in range(1, len(match.groups())):\n",
    "            groupNum = groupNum + 1\n",
    "            results.append(match.group(groupNum))\n",
    "    return results\n",
    "\n",
    "## Extraction des entêtes liées à l'expéditeur du mail\n",
    "headersFrom = []\n",
    "regexEmail = r\"(envelope-from=.|x-sender=.|smtp.mailfrom=)([^<\\s\\r\\n)\\\"':;]+@[^>\\s\\r\\n)\\\"';,]+)\"\n",
    "#headersFrom.append(runRegex(regexEmail, str(headers['From']), re.MULTILINE))\n",
    "headersFrom.append(runRegexList(regexEmail, str(msg.headerDict), re.MULTILINE))\n",
    "headersFrom\n",
    "\"\"\"\n",
    "\n"
   ]
  },
  {
   "cell_type": "code",
   "execution_count": 38,
   "metadata": {},
   "outputs": [
    {
     "data": {
      "text/plain": [
       "'Cancelliere governo.it <info@cesmoscan.org>'"
      ]
     },
     "execution_count": 38,
     "metadata": {},
     "output_type": "execute_result"
    }
   ],
   "source": [
    "recipient_header=['recipients']\n",
    "sender_headers=['SenderEmailAddress','SenderName','SenderSearchKey','SenderSmtpAddress','SentRepresentingSmtpAddress']\n",
    "subject_header=['Subject']\n",
    "mail_headers = {}\n",
    "headers = {}\n",
    "\n",
    "import chardet\n",
    "msg = extract_msg.openMsg(emailFile['path'])\n",
    "msg_obj = MsOxMessage(emailFile['path'])\n",
    "\n",
    "body_encoding = chardet.detect(msg.htmlBody)['encoding']\n",
    "body_html = msg.htmlBody.decode(body_encoding) if msg.htmlBody else ''\n",
    "\n",
    "headers = msg_obj.header_dict\n",
    "#json_string = msg_obj.get_message_as_json()\n",
    "msg_properties_dict = msg_obj.get_properties()\n",
    "headers_raw = msg_properties_dict['TransportMessageHeaders']\n",
    "\n",
    "mail_headers['From'] = headers['From'][0]\n",
    "mail_headers['Subject'] = headers['Subject']\n",
    "#mail_headers['Attachments'] = headers['attachments']\n",
    "\n",
    "mail_headers['From']"
   ]
  },
  {
   "attachments": {},
   "cell_type": "markdown",
   "metadata": {},
   "source": [
    "### Analyse de l'expéditeur\n",
    "\n",
    "Il est facile de falcifier l'adresse mail à l'origine de l'envoi du mail. \\\n",
    "Sans rentrer dans les détails, nous allons analyser les entêtes comportant l'adresse mail de l'expéditeur. \\\n",
    "Si l'analyse recense plus d'une adresse mail, alors nous sommes potentiellement face à une usurpation d'identité."
   ]
  },
  {
   "cell_type": "code",
   "execution_count": 37,
   "metadata": {},
   "outputs": [
    {
     "name": "stdout",
     "output_type": "stream",
     "text": [
      "\u001b[31m[!] Potentially identity usurpation during headers analysis (from, envelope-from, x-sender, smtp.mailfrom, return-path)\n",
      "Email addresses specified in From value : Cancelliere governo.it <info@cesmoscan.org>\n",
      "All email addresses identified in headers : ['info@cesmoscan.org']\n"
     ]
    }
   ],
   "source": [
    "# Analyse senders adresses\n",
    "senders_email = []\n",
    "regex = [\n",
    "            {\"name\":\"From (envelope-from)\", \"value\":r'envelope-from=\\\"([^;]+)\\\"', \"regexGroupID\":0},\n",
    "            {\"name\":\"From (smtp.mailfrom)\", \"value\":r'smtp.mailfrom=([^;]+)', \"regexGroupID\":0},\n",
    "            {\"name\":\"From (smtp.pra)\", \"value\":r'smtp.pra=([^;]+)', \"regexGroupID\":0},\n",
    "            {\"name\":\"From (return-path)\", \"value\":r'Return-Path: ([^\\\\\\r]+)', \"regexGroupID\":0},\n",
    "            {\"name\":\"From (x-sender)\", \"value\":r'X-Sender: ([^\\\\\\r]+)', \"regexGroupID\":0},\n",
    "        ]\n",
    "\n",
    "for r in regex:\n",
    "    result = re.search(r['value'], str(headers_raw))\n",
    "    try:\n",
    "        senders_email.append(result.group(1))\n",
    "    except:\n",
    "        pass\n",
    "\n",
    "senders_email = list(set(senders_email))\n",
    "if (mail_headers['From'] in str(senders_email)) and len(senders_email) == 1:\n",
    "    print(Fore.GREEN + \"[✓] No Potentially identity usurpation\")\n",
    "    print(Fore.GREEN + f\"[✓] Only one email address has been identified : {mail_headers['From']}\")\n",
    "else:\n",
    "    print(Fore.RED + \"[!] Potentially identity usurpation during headers analysis (from, envelope-from, x-sender, smtp.mailfrom, return-path)\")\n",
    "    print(f\"Email addresses specified in From value : {mail_headers['From']}\")\n",
    "    print(f\"All email addresses identified in headers : {senders_email}\")\n",
    "\n"
   ]
  },
  {
   "attachments": {},
   "cell_type": "markdown",
   "metadata": {},
   "source": [
    "### Analyse de l'entête \"Message ID\"\n",
    "\n",
    "Il peut être observé durant l'analyse de l'entête \"Message ID\" un nom de domaine différent de celui présent dans l'adresse mail de l'expéditeur. Cette situation peut aider à identifier un mail malveillant."
   ]
  },
  {
   "cell_type": "code",
   "execution_count": 7,
   "metadata": {},
   "outputs": [
    {
     "name": "stdout",
     "output_type": "stream",
     "text": [
      "\u001b[32m[✓] Message-ID domain (cesmoscan.org) is similar with 'From' email address domain (info@cesmoscan.org)\n"
     ]
    }
   ],
   "source": [
    "regex_message_id = r\"Message-ID:\\s<[^@]+@([^>]+)>\"\n",
    "result = re.search(regex_message_id, headers)\n",
    "message_id_domain = result.group(1)\n",
    "if message_id_domain not in mail_headers['From']:\n",
    "    print(Fore.RED + f\"[!] Domain in Message-ID ({message_id_domain}) doesn't equal with 'From' email address domain ({mail_headers['From']})\")\n",
    "else:\n",
    "    print(Fore.GREEN + f\"[✓] Message-ID domain ({message_id_domain}) is similar with 'From' email address domain ({mail_headers['From']})\")\n"
   ]
  },
  {
   "attachments": {},
   "cell_type": "markdown",
   "metadata": {},
   "source": [
    "### Analyse de la durée nécessaire à l'envoi du mail\n",
    "\n",
    "Un mail n'a besoin que de quelques secondes pour transiter entre le client de messagerie de l'expéditeur et le serveur de messagerie du destinataire. \\\n",
    "Il est donc plutot facile d'identifier des mails envoyés à des groupes de diffusion, ou spam en masse qui demande plus de temps de traitement aux serveurs intermédiaires durant le transite du mail. Nous avons décidé ici d'établir un seuil à 60 secondes."
   ]
  },
  {
   "cell_type": "code",
   "execution_count": 8,
   "metadata": {},
   "outputs": [
    {
     "name": "stdout",
     "output_type": "stream",
     "text": [
      "\u001b[31m[!] It seems to be a SPAM : 75.0 seconds \n"
     ]
    }
   ],
   "source": [
    "# Analyse the delta between the sending of the email by the sender and its reception by the recipient. \n",
    "regex = r\"Received: from[^;]+;\\s(\\S{3},\\s\\d{0,2}\\s\\S{3}[^:]+\\d{0,2}:\\d{0,2}:\\d{0,2}\\s\\+\\d{4})\"\n",
    "matches = re.finditer(regex, headers, re.MULTILINE)\n",
    "\n",
    "mail_transfert_date = []\n",
    "for matchNum, match in enumerate(matches, start=1):\n",
    "    for groupNum in range(0, len(match.groups())):\n",
    "        groupNum = groupNum + 1        \n",
    "        mail_transfert_date.append(datetime.strptime(match.group(groupNum).replace('\\r\\n',''), '%a, %d %b %Y %H:%M:%S %z'))\n",
    "\n",
    "mail_transfert_date_youngest = min(mail_transfert_date)\n",
    "mail_transfert_date_oldest = max(mail_transfert_date)\n",
    "\n",
    "delta = mail_transfert_date_oldest - mail_transfert_date_youngest\n",
    "if delta.total_seconds() > 60:\n",
    "    print(Fore.RED + f\"[!] It seems to be a SPAM : {delta.total_seconds()} seconds \")\n",
    "else:\n",
    "    print(Fore.GREEN + f\"[✓] It seems to be a Legit mail : {delta.total_seconds()} seconds \")\n",
    "    \n",
    "mail_headers['mail_time_delay (seconds)'] = delta.total_seconds()"
   ]
  }
 ],
 "metadata": {
  "kernelspec": {
   "display_name": "Python 3",
   "language": "python",
   "name": "python3"
  },
  "language_info": {
   "codemirror_mode": {
    "name": "ipython",
    "version": 3
   },
   "file_extension": ".py",
   "mimetype": "text/x-python",
   "name": "python",
   "nbconvert_exporter": "python",
   "pygments_lexer": "ipython3",
   "version": "3.9.2"
  },
  "orig_nbformat": 4,
  "vscode": {
   "interpreter": {
    "hash": "916dbcbb3f70747c44a77c7bcd40155683ae19c65e1c03b4aa3499c5328201f1"
   }
  }
 },
 "nbformat": 4,
 "nbformat_minor": 2
}
