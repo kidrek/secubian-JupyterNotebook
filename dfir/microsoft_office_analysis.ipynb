{
 "cells": [
  {
   "cell_type": "markdown",
   "metadata": {},
   "source": [
    "# Analyse de document Microsoft Office\n",
    "\n",
    "Plusieurs types de fichiers sont disponibles au sein de la suite Microsoft Office :\n",
    "- les **documents OLE**, que nous connaissons tous : \n",
    "  - **Excel** : \".xls\"\n",
    "  - **Powerpoint** : \".ppt\"\n",
    "  - **Word** : \".doc\"\n",
    "- les **documents Office Open XML \"OOXML\"** correspondent à des archives de documents XML (documents compressés). Ce type de document, standardisé via l'ISO/IEC 29500, a été introduit dans la suite Microsoft Office pour la première fois dans la version 2010. \n",
    "  - **Excel** : \".xlsx\"\n",
    "  - **Powerpoint** : \".pptx\"\n",
    "  - **Word** : \".docx\"\n",
    "- les documents RTF, ayant pour extension \".rtf\""
   ]
  },
  {
   "cell_type": "code",
   "execution_count": null,
   "metadata": {},
   "outputs": [],
   "source": [
    "from colorama import init, Fore, Back, Style\n",
    "from defang import defang\n",
    "import msticpy as mp\n",
    "import os\n",
    "import pandas as pd\n",
    "import msticpy.sectools as sectools\n",
    "\n",
    "#Expand the width of the cells\n",
    "from IPython.display import display, HTML\n",
    "display(HTML(\"<style>.container { width:90% !important; }</style>\"))\n",
    "\n",
    "pd.set_option('display.max_rows', None)\n",
    "pd.set_option('display.max_columns', None)\n",
    "pd.set_option('display.width', None)\n",
    "pd.set_option('display.max_colwidth', None)\n",
    "\n",
    "mp.init_notebook(globals(), verbosity=0)\n",
    "ti = mp.TILookup()\n",
    "ioc_extractor = sectools.IoCExtract()\n",
    "\n",
    "# Chemin du fichier à analyser\n",
    "officeFile = {}\n",
    "officeFile['path'] = \"/home/secubian/Documents/Cases/payloads_and_dumps/cancel_sub_VCP1234567890123.xlsb\"  #https://tria.ge/210610-xr9avxf7f6/\n",
    "\n"
   ]
  },
  {
   "attachments": {},
   "cell_type": "markdown",
   "metadata": {},
   "source": [
    "----\n",
    "Il est interessant dans un premier temps d'analyser les métadonnées du fichier."
   ]
  },
  {
   "cell_type": "code",
   "execution_count": null,
   "metadata": {},
   "outputs": [],
   "source": [
    "os.system(f\"exiftool {officeFile['path']}\")"
   ]
  },
  {
   "attachments": {},
   "cell_type": "markdown",
   "metadata": {},
   "source": [
    "## Analyse des méta données\n",
    "\n",
    "Il est important d'extraire des informations permettant d'obtenir du contexte sur le document, telles que l'auteur, le logiciel utilisé, les signatures numériques (hash). \\\n",
    "La commande utilisée est : ```oleid {filepath}```."
   ]
  },
  {
   "cell_type": "code",
   "execution_count": null,
   "metadata": {},
   "outputs": [],
   "source": [
    "import oletools.oleid\n",
    "oid = oletools.oleid.OleID(officeFile['path'])\n",
    "officeFile['oleid'] = {}\n",
    "indicators = oid.check()\n",
    "for i in indicators:\n",
    "    officeFile['oleid'][i.name] = i.value\n",
    "\n",
    "for indicator in officeFile['oleid']:\n",
    "    try:\n",
    "        displayValue = False\n",
    "        if (isinstance(officeFile['oleid'][indicator],bool) and officeFile['oleid'][indicator]) or (isinstance(officeFile['oleid'][indicator],int) and officeFile['oleid'][indicator]>0) or (officeFile['oleid'][indicator][0:3] == \"Yes\"):\n",
    "            print(Fore.RED + f\"[!] {indicator}: {officeFile['oleid'][indicator]}\")\n",
    "            displayValue = True\n",
    "    except Exception as err:\n",
    "        pass\n",
    "    finally:\n",
    "        if not displayValue: print(Fore.GREEN + f\"[✓] {indicator}: {officeFile['oleid'][indicator]}\")"
   ]
  },
  {
   "attachments": {},
   "cell_type": "markdown",
   "metadata": {},
   "source": [
    "Extraction des signatures numériques (HASH), permettant la recherche dans les bases de Threat Intelligence. \\\n",
    "La commande utilisée sous linux : \n",
    "```\n",
    "md5sum {filepath}\n",
    "sha256sum {filepath}\n",
    "```"
   ]
  },
  {
   "cell_type": "code",
   "execution_count": null,
   "metadata": {},
   "outputs": [],
   "source": [
    "import hashlib\n",
    "officeFile['md5'] = hashlib.md5(officeFile['path'].encode('UTF-8')).hexdigest()\n",
    "officeFile['sha256'] = hashlib.sha256(officeFile['path'].encode('UTF-8')).hexdigest()\n",
    "\n",
    "df_ti = ti.lookup_iocs(data=[officeFile['md5'], officeFile['sha256']], providers=[\"VirusTotal\", \"OTX\"])\n",
    "df_ti = df_ti[df_ti['Result']==True]\n",
    "df_ti = pd.json_normalize(data=df_ti[['Severity','Provider','Ioc','Details']].to_dict(orient='records'))\n",
    "\n",
    "print(Fore.GREEN + \"Microsoft Office file HASH.\")\n",
    "print(Fore.GREEN + f\"[✓] MD5: \\t{officeFile['md5'] } \")\n",
    "print(Fore.GREEN + f\"[✓] SHA256: \\t{officeFile['sha256'] }\")\n",
    "\n",
    "if (df_ti.empty):\n",
    "    print(Fore.GREEN + \"[✓] No Potentially identified as malicious\")\n",
    "else:\n",
    "    print(Fore.RED + \"[!] Potentially identified as malicious\")\n",
    "    display(df_ti)\n"
   ]
  },
  {
   "attachments": {},
   "cell_type": "markdown",
   "metadata": {},
   "source": [
    "## Extraction et Analyse des relations externes au document analysé\n",
    "\n",
    "Si des références externes ont été identifiées dans les métadonnées, l'usage de l'outil **oleobj** devrait permettre d'extraire les url,ip, domaines du document analysé. \\\n",
    "La commande utilisée est : ```oleobj -i {filepath} -l info```"
   ]
  },
  {
   "cell_type": "code",
   "execution_count": null,
   "metadata": {},
   "outputs": [],
   "source": [
    "from oletools import oleobj\n",
    "\n",
    "with open(officeFile['path'], 'rb') as file_handle:\n",
    "    data = file_handle.read()\n",
    "\n",
    "relationships = []\n",
    "if officeFile['oleid']['External Relationships'] > 0:\n",
    "    xml_parser = oleobj.XmlParser(officeFile['path'])\n",
    "    for relationship, target in oleobj.find_external_relationships(xml_parser):\n",
    "        did_dump = True\n",
    "        print(Fore.RED + f\"[!] Found relationship {relationship} with external link {defang(target)}\")\n",
    "        relationships.append(target)\n",
    "        if target.startswith('mhtml:'):\n",
    "            print(\"Potential exploit for CVE-2021-40444\")\n",
    "    for target in oleobj.find_customUI(xml_parser):\n",
    "        did_dump = True\n",
    "        print(Fore.RED + f\"[!]Found customUI tag with external link or VBA macro {defang(target)} (possibly exploiting CVE-2021-42292)\")\n",
    "        relationships.append(target)\n",
    "\n",
    "if not relationships:\n",
    "    print(Fore.GREEN + \"[✓] No relationships found\")"
   ]
  },
  {
   "cell_type": "markdown",
   "metadata": {},
   "source": [
    "\\\n",
    "En fonction du résultat obtenu ci-dessus, une recherche dans les bases de connaissance de menaces peut être pertinente."
   ]
  },
  {
   "cell_type": "code",
   "execution_count": null,
   "metadata": {},
   "outputs": [],
   "source": [
    "pd.set_option('display.max_colwidth', None)\n",
    "\n",
    "if relationships:\n",
    "    df_relationships = pd.DataFrame(relationships, columns = ['relation'])\n",
    "    df_relationships = ioc_extractor.extract(data=df_relationships,columns=['relation'])\n",
    "    df_ti = ti.lookup_iocs(data=df_relationships['Observable'], providers=[\"VirusTotal\", \"OTX\"])\n",
    "    df_ti = df_ti[df_ti['Result']==True]\n",
    "    df_ti = pd.json_normalize(data=df_ti[['Severity','Provider','Ioc','Details']].to_dict(orient='records'))\n",
    "\n",
    "    if (df_ti.empty):\n",
    "        print(Fore.GREEN + \"[✓] No Potentially identified as malicious\")\n",
    "    else:\n",
    "        print(Fore.RED + \"[!] Potentially identified as malicious\")\n",
    "        display(df_ti)\n",
    "else:\n",
    "    print(Fore.GREEN + \"[✓] No relationships found\")"
   ]
  },
  {
   "attachments": {},
   "cell_type": "markdown",
   "metadata": {},
   "source": [
    "## Extraction et Analyse des macros\n",
    "\n",
    "Les macros sont des éléments permettant d'exécuter des morceaux de code à l'ouverture du document ou à lors d'événements bien précis. \\\n",
    "La commande utilisée est : \n",
    "- ```olevba {filepath} ```, pour obtenir une analyse complète et également le code source de la macro\n",
    "- ```olevba -a {filepath} ```, pour obtenir uniquement le résultat de l'analyse\n",
    "- ```olevba --reveal {filepath} ```, pour obtenir uniquement le code source de la macro\n"
   ]
  },
  {
   "cell_type": "code",
   "execution_count": null,
   "metadata": {},
   "outputs": [],
   "source": [
    "# https://github.com/decalage2/oletools/wiki/olevba\n",
    "from oletools.olevba import VBA_Parser, TYPE_OLE, TYPE_OpenXML, TYPE_Word2003_XML, TYPE_MHTML\n",
    "vbaparser = VBA_Parser(officeFile['path'])\n",
    "\n",
    "if vbaparser.detect_vba_macros():\n",
    "    print(Fore.RED + \"[!] VBA Macros found\")\n",
    "    results = vbaparser.analyze_macros()\n",
    "    print(Fore.RED + f\"[!] AutoExec keywords: {vbaparser.nb_autoexec}\")\n",
    "    print(Fore.RED + f\"[!] IOCs: {vbaparser.nb_iocs}\")\n",
    "    print(Fore.RED + f\"[!] Hex obfuscated strings: {vbaparser.nb_hexstrings}\")\n",
    "    print(Fore.RED + f\"[!] Base64 obfuscated strings: {vbaparser.nb_base64strings}\")\n",
    "    print(Fore.RED + f\"[!] Dridex obfuscated strings: {vbaparser.nb_dridexstrings}\")\n",
    "    print(Fore.RED + f\"[!] VBA obfuscated strings: {vbaparser.nb_vbastrings}\")\n",
    "\n",
    "    print(\"\\n\")\n",
    "    print(Fore.RED + f\"[!] Suspicious patterns : {vbaparser.nb_suspicious}\")\n",
    "    for kw_type, keyword, description in results:\n",
    "        print(f\"[{kw_type}] - {keyword} : {description}\")\n",
    "else:\n",
    "    print(Fore.GREEN + \"[✓] No VBA Macros found\")\n"
   ]
  },
  {
   "cell_type": "markdown",
   "metadata": {},
   "source": [
    "Cette tentative se base sur les résultats obtenus précédemments. Si aucune chaine obfusquée n'a été détectée, aucun résultat ne sera obtenu."
   ]
  },
  {
   "cell_type": "code",
   "execution_count": null,
   "metadata": {},
   "outputs": [],
   "source": [
    "# https://github.com/decalage2/oletools/wiki/olevba\n",
    "if vbaparser.nb_hexstrings or vbaparser.nb_base64strings or vbaparser.nb_dridexstrings or vbaparser.nb_vbastrings:\n",
    "    print(Fore.RED + vbaparser.reveal())\n",
    "else:\n",
    "    print(Fore.GREEN + \"[✓] No VBA obfuscated strings found\")"
   ]
  },
  {
   "attachments": {},
   "cell_type": "markdown",
   "metadata": {},
   "source": [
    "Il est possible d'aller plus loin avec **XLMMacroDeobfuscator** en utilisant la commande : \\\n",
    "```xlmdeobfuscator --file {filepath}```."
   ]
  },
  {
   "cell_type": "code",
   "execution_count": null,
   "metadata": {},
   "outputs": [],
   "source": [
    "import os\n",
    "#os.system(f\"xlmdeobfuscator --file {officeFile['path']}\")\n",
    "os.system(f\"xlmdeobfuscator -h\")"
   ]
  },
  {
   "cell_type": "markdown",
   "metadata": {},
   "source": [
    "## Recherche d'élément caché au sein du fichier analysé\n",
    "\n",
    "Nous nous baserons dans un premier temps sur l'outil de DidierStevens **pecheck** pour identifier tout binaire contenu dans le fichier d'origine."
   ]
  },
  {
   "cell_type": "code",
   "execution_count": null,
   "metadata": {},
   "outputs": [],
   "source": [
    "import os\n",
    "os.system(f\"python3 /home/secubian/Documents/Tools/DFIR/DidierStevensSuite/pecheck.py -l P {officeFile['path']}\")"
   ]
  },
  {
   "cell_type": "markdown",
   "metadata": {},
   "source": [
    "Nous listerons dans un second temps les éléments contenus dans le document. \\\n",
    "Il est notamment important de chercher les sections telles que \"x01oLE10nATiVe\". \\\n",
    "source : https://clickallthethings.wordpress.com/2021/03/06/oleobject1-bin-ole10native-shellcode/"
   ]
  },
  {
   "cell_type": "code",
   "execution_count": null,
   "metadata": {},
   "outputs": [],
   "source": [
    "import os\n",
    "os.system(f\"python3 /home/secubian/Documents/Tools/DFIR/DidierStevensSuite/oledump.py --storages -E '%CLSID% %CLSIDDESC%' {officeFile['path']}\")"
   ]
  },
  {
   "attachments": {},
   "cell_type": "markdown",
   "metadata": {},
   "source": [
    "Une fois la section suspecte identifiée, il suffit de la spécifier à l'outil **oledump** afin d'extraire son contenu. \\\n",
    "Voici la commande : ```oledump.py -s {sectionID} {filepath}```"
   ]
  },
  {
   "cell_type": "code",
   "execution_count": null,
   "metadata": {},
   "outputs": [],
   "source": [
    "import os\n",
    "elementID = \"A5\"\n",
    "os.system(f\"python3 /home/secubian/Documents/Tools/DFIR/DidierStevensSuite/oledump.py -s {elementID} {officeFile['path']}\")"
   ]
  },
  {
   "cell_type": "markdown",
   "metadata": {},
   "source": [
    "Il est possible de continuer l'identification via l'outil **Binwalk** à la recherche d'éléments tels que \"/embeddings/\" par exemple."
   ]
  },
  {
   "cell_type": "code",
   "execution_count": null,
   "metadata": {},
   "outputs": [],
   "source": [
    "os.system(f\"binwalk -B {officeFile['path']}\")"
   ]
  },
  {
   "cell_type": "markdown",
   "metadata": {},
   "source": [
    "Une fois les éventuels éléments cachés identifiés, nous utiliserons à nouveau l'outil **binwalk** ou **dd**, pour les extraire. \\\n",
    "Les champs seront saisis de la manière suivante : \n",
    "- if : correspond au fichier d'origine\n",
    "- of : correspond au fichier de sortie\n",
    "- skip : correspond à la valeur de l'élément présente dans la colonne DECIMAL \n",
    "- count : correspond à la taille de l'élément"
   ]
  },
  {
   "cell_type": "code",
   "execution_count": null,
   "metadata": {},
   "outputs": [],
   "source": [
    "os.system(f\"dd if={officeFile['path']} of=./suspicious_file bs=1 skip=6288 count=766549\")"
   ]
  },
  {
   "cell_type": "markdown",
   "metadata": {},
   "source": [
    "Si tel est le cas, il est possible d'aller plus loin en exportant le contenu malveillant au sein d'un fichier dédié pour continuer l'analyse."
   ]
  },
  {
   "cell_type": "code",
   "execution_count": null,
   "metadata": {},
   "outputs": [],
   "source": [
    "os.system(f\"file {officeFile['path']}\")\n",
    "os.system(f\"clamscan {officeFile['path']}\")"
   ]
  }
 ],
 "metadata": {
  "kernelspec": {
   "display_name": "Python 3 (ipykernel)",
   "language": "python",
   "name": "python3"
  },
  "language_info": {
   "codemirror_mode": {
    "name": "ipython",
    "version": 3
   },
   "file_extension": ".py",
   "mimetype": "text/x-python",
   "name": "python",
   "nbconvert_exporter": "python",
   "pygments_lexer": "ipython3",
   "version": "3.9.2"
  },
  "vscode": {
   "interpreter": {
    "hash": "916dbcbb3f70747c44a77c7bcd40155683ae19c65e1c03b4aa3499c5328201f1"
   }
  }
 },
 "nbformat": 4,
 "nbformat_minor": 2
}
