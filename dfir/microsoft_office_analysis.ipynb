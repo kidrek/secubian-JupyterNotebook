{
 "cells": [
  {
   "attachments": {},
   "cell_type": "markdown",
   "metadata": {},
   "source": [
    "# Analyse de document Microsoft Office\n",
    "\n",
    "Plusieurs types de fichiers sont disponibles au sein de la suite Microsoft Office :\n",
    "- les **documents OLE**, que nous connaissons tous : \n",
    "  - **Excel** : \".xls\"\n",
    "  - **Powerpoint** : \".ppt\"\n",
    "  - **Word** : \".doc\"\n",
    "- les **documents Office Open XML \"OOXML\"** correspondent à des archives de documents XML (documents compressés). Ce type de document, standardisé via l'ISO/IEC 29500, a été introduit dans la suite Microsoft Office pour la première fois dans la version 2010. \n",
    "  - **Excel** : \".xlsx\"\n",
    "  - **Powerpoint** : \".pptx\"\n",
    "  - **Word** : \".docx\"\n",
    "- les documents RTF, ayant pour extension \".rtf\""
   ]
  },
  {
   "cell_type": "code",
   "execution_count": 18,
   "metadata": {},
   "outputs": [
    {
     "data": {
      "text/html": [
       "<p style=''><font color='orange'><h3>Notebook setup completed with some warnings.</h3></p>"
      ],
      "text/plain": [
       "<IPython.core.display.HTML object>"
      ]
     },
     "metadata": {},
     "output_type": "display_data"
    },
    {
     "data": {
      "text/html": [
       "<p style=''>One or more configuration items were missing or set incorrectly.</p>"
      ],
      "text/plain": [
       "<IPython.core.display.HTML object>"
      ]
     },
     "metadata": {},
     "output_type": "display_data"
    },
    {
     "data": {
      "text/html": [
       "<p style=''>Please run the <i>Getting Started Guide for Azure Sentinel ML Notebooks</i> notebook. and the <a href='https://msticpy.readthedocs.io/en/latest/getting_started/msticpyconfig.html'>msticpy configuration guide</a>.</p>"
      ],
      "text/plain": [
       "<IPython.core.display.HTML object>"
      ]
     },
     "metadata": {},
     "output_type": "display_data"
    },
    {
     "data": {
      "text/html": [
       "<p style=''>This notebook may still run but with reduced functionality.</p>"
      ],
      "text/plain": [
       "<IPython.core.display.HTML object>"
      ]
     },
     "metadata": {},
     "output_type": "display_data"
    }
   ],
   "source": [
    "from colorama import init, Fore, Back, Style\n",
    "from defang import defang\n",
    "import msticpy as mp\n",
    "import pandas as pd\n",
    "import msticpy.sectools as sectools\n",
    "\n",
    "mp.init_notebook(globals(), verbosity=0)\n",
    "ti = mp.TILookup()\n",
    "ioc_extractor = sectools.IoCExtract()\n",
    "\n",
    "# Chemin du fichier à analyser\n",
    "officeFile = {}\n",
    "officeFile['path'] = \"/home/secubian/Desktop/Cases/Microsoft_Office/onenot_2623024aba1ee994dcb82e937a8beb59abbebf51b6aa4cde8434bb56458b47da.one\"\n",
    "#officeFile['path'] = \"/home/secubian/Desktop/Cases/Microsoft_Office/8ed7befccff98a6acb255f63071a6e6ac1410c1d3b08ce560cac3cfe24572c8e.xlsx\"\n",
    "#officeFile['path'] = \"/home/secubian/Desktop/Cases/Microsoft_Office/eeb7b78972ba051833135c6ba4215c0faf93d5dfe1c5603f74c777b38867646b.xlsx\"\n",
    "#officeFile['path'] = \"/home/secubian/Desktop/Cases/Microsoft_Office/5b0f61b42e9a6c238c7028751bf75c484778219cf88a7c5007c2a49e14351e70.xls\"\n",
    "#officeFile['path'] = \"/home/secubian/Desktop/Cases/Microsoft_Office/04b08125f2348443663ac6b44ed2388af399e5506b4a75dd4a0d02a40734848e.doc\"\n",
    "\n"
   ]
  },
  {
   "attachments": {},
   "cell_type": "markdown",
   "metadata": {},
   "source": [
    "## Analyse des méta données\n",
    "\n",
    "Il est important d'extraire des informations permettant d'obtenir du contexte sur le document, telles que l'auteur, le logiciel utilisé, les signatures numériques (hash). "
   ]
  },
  {
   "cell_type": "code",
   "execution_count": 19,
   "metadata": {},
   "outputs": [
    {
     "name": "stdout",
     "output_type": "stream",
     "text": [
      "\u001b[32m[✓] File format: MS Excel 2007+ Workbook (.xlsx)\n",
      "\u001b[32m[✓] Container format: OpenXML\n",
      "\u001b[32m[✓] Encrypted: False\n",
      "\u001b[32m[✓] VBA Macros: No\n",
      "\u001b[32m[✓] XLM Macros: No\n",
      "\u001b[32m[✓] External Relationships: 0\n",
      "\u001b[32m[✓] ObjectPool: False\n",
      "\u001b[32m[✓] Flash objects: 0\n"
     ]
    }
   ],
   "source": [
    "import oletools.oleid\n",
    "oid = oletools.oleid.OleID(officeFile['path'])\n",
    "officeFile['oleid'] = {}\n",
    "indicators = oid.check()\n",
    "for i in indicators:\n",
    "    officeFile['oleid'][i.name] = i.value\n",
    "\n",
    "for indicator in officeFile['oleid']:\n",
    "    try:\n",
    "        displayValue = False\n",
    "        if (isinstance(officeFile['oleid'][indicator],bool) and officeFile['oleid'][indicator]) or (isinstance(officeFile['oleid'][indicator],int) and officeFile['oleid'][indicator]>0) or (officeFile['oleid'][indicator][0:3] == \"Yes\"):\n",
    "            print(Fore.RED + f\"[!] {indicator}: {officeFile['oleid'][indicator]}\")\n",
    "            displayValue = True\n",
    "    except Exception as err:\n",
    "        pass\n",
    "    finally:\n",
    "        if not displayValue: print(Fore.GREEN + f\"[✓] {indicator}: {officeFile['oleid'][indicator]}\")"
   ]
  },
  {
   "attachments": {},
   "cell_type": "markdown",
   "metadata": {},
   "source": [
    "Extraction des signatures numériques (HASH), permettant la recherche dans les bases de Threat Intelligence."
   ]
  },
  {
   "cell_type": "code",
   "execution_count": 11,
   "metadata": {},
   "outputs": [
    {
     "data": {
      "application/vnd.jupyter.widget-view+json": {
       "model_id": "5498316fcb1e406eb5013c7b315fe0a6",
       "version_major": 2,
       "version_minor": 0
      },
      "text/plain": [
       "Observables processed:   0%|          | 0/4 [00:00<?, ?obs/s]"
      ]
     },
     "metadata": {},
     "output_type": "display_data"
    },
    {
     "name": "stdout",
     "output_type": "stream",
     "text": [
      "\u001b[32mMicrosoft Office file HASH.\n",
      "\u001b[32m[✓] MD5: \tb4cb893de96f04b987441bb9cb163b96 \n",
      "\u001b[32m[✓] SHA256: \t5abf6f88376ebd42b87bbf8c821e336f45c46fb5928b6980a53c2d1d33e0fcdc\n",
      "\u001b[31m[!] Potentially identified as malicious\n"
     ]
    },
    {
     "data": {
      "text/html": [
       "<div>\n",
       "<style scoped>\n",
       "    .dataframe tbody tr th:only-of-type {\n",
       "        vertical-align: middle;\n",
       "    }\n",
       "\n",
       "    .dataframe tbody tr th {\n",
       "        vertical-align: top;\n",
       "    }\n",
       "\n",
       "    .dataframe thead th {\n",
       "        text-align: right;\n",
       "    }\n",
       "</style>\n",
       "<table border=\"1\" class=\"dataframe\">\n",
       "  <thead>\n",
       "    <tr style=\"text-align: right;\">\n",
       "      <th></th>\n",
       "      <th>Severity</th>\n",
       "      <th>Provider</th>\n",
       "      <th>Ioc</th>\n",
       "      <th>Details.pulse_count</th>\n",
       "      <th>Details.sections_available</th>\n",
       "      <th>Details.verbose_msg</th>\n",
       "      <th>Details.response_code</th>\n",
       "      <th>Details.positives</th>\n",
       "      <th>Details.resource</th>\n",
       "      <th>Details.permalink</th>\n",
       "    </tr>\n",
       "  </thead>\n",
       "  <tbody>\n",
       "    <tr>\n",
       "      <th>0</th>\n",
       "      <td>information</td>\n",
       "      <td>OTX</td>\n",
       "      <td>b4cb893de96f04b987441bb9cb163b96</td>\n",
       "      <td>0.0</td>\n",
       "      <td>[general, analysis]</td>\n",
       "      <td>NaN</td>\n",
       "      <td>NaN</td>\n",
       "      <td>NaN</td>\n",
       "      <td>NaN</td>\n",
       "      <td>NaN</td>\n",
       "    </tr>\n",
       "    <tr>\n",
       "      <th>1</th>\n",
       "      <td>information</td>\n",
       "      <td>OTX</td>\n",
       "      <td>5abf6f88376ebd42b87bbf8c821e336f45c46fb5928b6980a53c2d1d33e0fcdc</td>\n",
       "      <td>0.0</td>\n",
       "      <td>[general, analysis]</td>\n",
       "      <td>NaN</td>\n",
       "      <td>NaN</td>\n",
       "      <td>NaN</td>\n",
       "      <td>NaN</td>\n",
       "      <td>NaN</td>\n",
       "    </tr>\n",
       "    <tr>\n",
       "      <th>2</th>\n",
       "      <td>information</td>\n",
       "      <td>VirusTotal</td>\n",
       "      <td>b4cb893de96f04b987441bb9cb163b96</td>\n",
       "      <td>NaN</td>\n",
       "      <td>NaN</td>\n",
       "      <td>The requested resource is not among the finished, queued or pending scans</td>\n",
       "      <td>0.0</td>\n",
       "      <td>0.0</td>\n",
       "      <td>b4cb893de96f04b987441bb9cb163b96</td>\n",
       "      <td>NaN</td>\n",
       "    </tr>\n",
       "    <tr>\n",
       "      <th>3</th>\n",
       "      <td>information</td>\n",
       "      <td>VirusTotal</td>\n",
       "      <td>5abf6f88376ebd42b87bbf8c821e336f45c46fb5928b6980a53c2d1d33e0fcdc</td>\n",
       "      <td>NaN</td>\n",
       "      <td>NaN</td>\n",
       "      <td>The requested resource is not among the finished, queued or pending scans</td>\n",
       "      <td>0.0</td>\n",
       "      <td>0.0</td>\n",
       "      <td>5abf6f88376ebd42b87bbf8c821e336f45c46fb5928b6980a53c2d1d33e0fcdc</td>\n",
       "      <td>NaN</td>\n",
       "    </tr>\n",
       "  </tbody>\n",
       "</table>\n",
       "</div>"
      ],
      "text/plain": [
       "      Severity    Provider  \\\n",
       "0  information         OTX   \n",
       "1  information         OTX   \n",
       "2  information  VirusTotal   \n",
       "3  information  VirusTotal   \n",
       "\n",
       "                                                                Ioc  \\\n",
       "0                                  b4cb893de96f04b987441bb9cb163b96   \n",
       "1  5abf6f88376ebd42b87bbf8c821e336f45c46fb5928b6980a53c2d1d33e0fcdc   \n",
       "2                                  b4cb893de96f04b987441bb9cb163b96   \n",
       "3  5abf6f88376ebd42b87bbf8c821e336f45c46fb5928b6980a53c2d1d33e0fcdc   \n",
       "\n",
       "   Details.pulse_count Details.sections_available  \\\n",
       "0                  0.0        [general, analysis]   \n",
       "1                  0.0        [general, analysis]   \n",
       "2                  NaN                        NaN   \n",
       "3                  NaN                        NaN   \n",
       "\n",
       "                                                         Details.verbose_msg  \\\n",
       "0                                                                        NaN   \n",
       "1                                                                        NaN   \n",
       "2  The requested resource is not among the finished, queued or pending scans   \n",
       "3  The requested resource is not among the finished, queued or pending scans   \n",
       "\n",
       "   Details.response_code  Details.positives  \\\n",
       "0                    NaN                NaN   \n",
       "1                    NaN                NaN   \n",
       "2                    0.0                0.0   \n",
       "3                    0.0                0.0   \n",
       "\n",
       "                                                   Details.resource  \\\n",
       "0                                                               NaN   \n",
       "1                                                               NaN   \n",
       "2                                  b4cb893de96f04b987441bb9cb163b96   \n",
       "3  5abf6f88376ebd42b87bbf8c821e336f45c46fb5928b6980a53c2d1d33e0fcdc   \n",
       "\n",
       "   Details.permalink  \n",
       "0                NaN  \n",
       "1                NaN  \n",
       "2                NaN  \n",
       "3                NaN  "
      ]
     },
     "metadata": {},
     "output_type": "display_data"
    }
   ],
   "source": [
    "import hashlib\n",
    "officeFile['md5'] = hashlib.md5(officeFile['path'].encode('UTF-8')).hexdigest()\n",
    "officeFile['sha256'] = hashlib.sha256(officeFile['path'].encode('UTF-8')).hexdigest()\n",
    "\n",
    "df_ti = ti.lookup_iocs(data=[officeFile['md5'], officeFile['sha256']], providers=[\"VirusTotal\", \"OTX\"])\n",
    "df_ti = df_ti[df_ti['Result']==True]\n",
    "df_ti = pd.json_normalize(data=df_ti[['Severity','Provider','Ioc','Details']].to_dict(orient='records'))\n",
    "\n",
    "print(Fore.GREEN + \"Microsoft Office file HASH.\")\n",
    "print(Fore.GREEN + f\"[✓] MD5: \\t{officeFile['md5'] } \")\n",
    "print(Fore.GREEN + f\"[✓] SHA256: \\t{officeFile['sha256'] }\")\n",
    "\n",
    "if (df_ti.empty):\n",
    "    print(Fore.GREEN + \"[✓] No Potentially identified as malicious\")\n",
    "else:\n",
    "    print(Fore.RED + \"[!] Potentially identified as malicious\")\n",
    "    display(df_ti)\n"
   ]
  },
  {
   "attachments": {},
   "cell_type": "markdown",
   "metadata": {},
   "source": [
    "## Extraction et Analyse des relations externes au document analysé\n",
    "\n",
    "Si des références externes ont été identifiées dans les métadonnées, l'usage de l'outil **oleobj** devrait permettre d'extraire les url,ip, domaines du document analysé."
   ]
  },
  {
   "cell_type": "code",
   "execution_count": 16,
   "metadata": {},
   "outputs": [
    {
     "name": "stdout",
     "output_type": "stream",
     "text": [
      "\u001b[31m[!] Found relationship frame with external link hXXp://104[.]129.4.31/..........W-----W.....W-w---------------W...W...w-----wW-------.---/...-......-W......Ww.......-----wW...w----W.-------------Ww-----.----.w-.wW..wbk\n"
     ]
    }
   ],
   "source": [
    "from oletools import oleobj\n",
    "\n",
    "with open(officeFile['path'], 'rb') as file_handle:\n",
    "    data = file_handle.read()\n",
    "\n",
    "relationships = []\n",
    "if officeFile['oleid']['External Relationships'] > 0:\n",
    "    xml_parser = oleobj.XmlParser(officeFile['path'])\n",
    "    for relationship, target in oleobj.find_external_relationships(xml_parser):\n",
    "        did_dump = True\n",
    "        print(Fore.RED + f\"[!] Found relationship {relationship} with external link {defang(target)}\")\n",
    "        relationships.append(target)\n",
    "        if target.startswith('mhtml:'):\n",
    "            print(\"Potential exploit for CVE-2021-40444\")\n",
    "    for target in oleobj.find_customUI(xml_parser):\n",
    "        did_dump = True\n",
    "        print(Fore.RED + f\"[!]Found customUI tag with external link or VBA macro {defang(target)} (possibly exploiting CVE-2021-42292)\")\n",
    "        relationships.append(target)\n",
    "\n",
    "if not relationships:\n",
    "    print(Fore.GREEN + \"[✓] No relationships found\")"
   ]
  },
  {
   "attachments": {},
   "cell_type": "markdown",
   "metadata": {},
   "source": [
    "\\\n",
    "En fonction du résultat obtenu ci-dessus, une recherche dans les bases de connaissance de menaces peut être pertinente."
   ]
  },
  {
   "cell_type": "code",
   "execution_count": 17,
   "metadata": {},
   "outputs": [
    {
     "data": {
      "application/vnd.jupyter.widget-view+json": {
       "model_id": "718d97d382c84289a4ee244c121d9409",
       "version_major": 2,
       "version_minor": 0
      },
      "text/plain": [
       "Observables processed:   0%|          | 0/4 [00:00<?, ?obs/s]"
      ]
     },
     "metadata": {},
     "output_type": "display_data"
    },
    {
     "name": "stdout",
     "output_type": "stream",
     "text": [
      "\u001b[31m[!] Potentially identified as malicious\n"
     ]
    },
    {
     "data": {
      "text/html": [
       "<div>\n",
       "<style scoped>\n",
       "    .dataframe tbody tr th:only-of-type {\n",
       "        vertical-align: middle;\n",
       "    }\n",
       "\n",
       "    .dataframe tbody tr th {\n",
       "        vertical-align: top;\n",
       "    }\n",
       "\n",
       "    .dataframe thead th {\n",
       "        text-align: right;\n",
       "    }\n",
       "</style>\n",
       "<table border=\"1\" class=\"dataframe\">\n",
       "  <thead>\n",
       "    <tr style=\"text-align: right;\">\n",
       "      <th></th>\n",
       "      <th>Severity</th>\n",
       "      <th>Provider</th>\n",
       "      <th>Ioc</th>\n",
       "      <th>Details.pulse_count</th>\n",
       "      <th>Details.sections_available</th>\n",
       "      <th>Details.verbose_msg</th>\n",
       "      <th>Details.response_code</th>\n",
       "      <th>Details.positives</th>\n",
       "      <th>Details.detected_urls</th>\n",
       "      <th>Details.detected_downloaded_samples</th>\n",
       "      <th>Details.detected_communicating_samples</th>\n",
       "      <th>Details.resource</th>\n",
       "      <th>Details.permalink</th>\n",
       "    </tr>\n",
       "  </thead>\n",
       "  <tbody>\n",
       "    <tr>\n",
       "      <th>0</th>\n",
       "      <td>information</td>\n",
       "      <td>OTX</td>\n",
       "      <td>104.129.4.31</td>\n",
       "      <td>0.0</td>\n",
       "      <td>[general, geo, reputation, url_list, passive_dns, malware, nids_list, http_scans]</td>\n",
       "      <td>NaN</td>\n",
       "      <td>NaN</td>\n",
       "      <td>NaN</td>\n",
       "      <td>NaN</td>\n",
       "      <td>NaN</td>\n",
       "      <td>NaN</td>\n",
       "      <td>NaN</td>\n",
       "      <td>NaN</td>\n",
       "    </tr>\n",
       "    <tr>\n",
       "      <th>1</th>\n",
       "      <td>information</td>\n",
       "      <td>OTX</td>\n",
       "      <td>http://104.129.4.31/..........W-----W.....W-w---------------W...W...w-----wW-------.---/...-.......</td>\n",
       "      <td>0.0</td>\n",
       "      <td>[general, url_list, http_scans, screenshot]</td>\n",
       "      <td>NaN</td>\n",
       "      <td>NaN</td>\n",
       "      <td>NaN</td>\n",
       "      <td>NaN</td>\n",
       "      <td>NaN</td>\n",
       "      <td>NaN</td>\n",
       "      <td>NaN</td>\n",
       "      <td>NaN</td>\n",
       "    </tr>\n",
       "    <tr>\n",
       "      <th>2</th>\n",
       "      <td>high</td>\n",
       "      <td>VirusTotal</td>\n",
       "      <td>104.129.4.31</td>\n",
       "      <td>NaN</td>\n",
       "      <td>NaN</td>\n",
       "      <td>IP address in dataset</td>\n",
       "      <td>1.0</td>\n",
       "      <td>8.0</td>\n",
       "      <td>[https://104.129.4.31/]</td>\n",
       "      <td>[]</td>\n",
       "      <td>[]</td>\n",
       "      <td>NaN</td>\n",
       "      <td>NaN</td>\n",
       "    </tr>\n",
       "    <tr>\n",
       "      <th>3</th>\n",
       "      <td>high</td>\n",
       "      <td>VirusTotal</td>\n",
       "      <td>http://104.129.4.31/..........W-----W.....W-w---------------W...W...w-----wW-------.---/...-.......</td>\n",
       "      <td>NaN</td>\n",
       "      <td>NaN</td>\n",
       "      <td>Scan finished, scan information embedded in this object</td>\n",
       "      <td>1.0</td>\n",
       "      <td>11.0</td>\n",
       "      <td>NaN</td>\n",
       "      <td>NaN</td>\n",
       "      <td>NaN</td>\n",
       "      <td>http://104.129.4.31/..........W-----W.....W-w---------------W...W...w-----wW-------.---/...-.......</td>\n",
       "      <td>https://www.virustotal.com/gui/url/93839f6bd29a19ebcbba84dce8d1a9229df51e837e58fa9f7b9270003f91b...</td>\n",
       "    </tr>\n",
       "  </tbody>\n",
       "</table>\n",
       "</div>"
      ],
      "text/plain": [
       "      Severity    Provider  \\\n",
       "0  information         OTX   \n",
       "1  information         OTX   \n",
       "2         high  VirusTotal   \n",
       "3         high  VirusTotal   \n",
       "\n",
       "                                                                                                   Ioc  \\\n",
       "0                                                                                         104.129.4.31   \n",
       "1  http://104.129.4.31/..........W-----W.....W-w---------------W...W...w-----wW-------.---/...-.......   \n",
       "2                                                                                         104.129.4.31   \n",
       "3  http://104.129.4.31/..........W-----W.....W-w---------------W...W...w-----wW-------.---/...-.......   \n",
       "\n",
       "   Details.pulse_count  \\\n",
       "0                  0.0   \n",
       "1                  0.0   \n",
       "2                  NaN   \n",
       "3                  NaN   \n",
       "\n",
       "                                                          Details.sections_available  \\\n",
       "0  [general, geo, reputation, url_list, passive_dns, malware, nids_list, http_scans]   \n",
       "1                                        [general, url_list, http_scans, screenshot]   \n",
       "2                                                                                NaN   \n",
       "3                                                                                NaN   \n",
       "\n",
       "                                       Details.verbose_msg  \\\n",
       "0                                                      NaN   \n",
       "1                                                      NaN   \n",
       "2                                    IP address in dataset   \n",
       "3  Scan finished, scan information embedded in this object   \n",
       "\n",
       "   Details.response_code  Details.positives    Details.detected_urls  \\\n",
       "0                    NaN                NaN                      NaN   \n",
       "1                    NaN                NaN                      NaN   \n",
       "2                    1.0                8.0  [https://104.129.4.31/]   \n",
       "3                    1.0               11.0                      NaN   \n",
       "\n",
       "  Details.detected_downloaded_samples Details.detected_communicating_samples  \\\n",
       "0                                 NaN                                    NaN   \n",
       "1                                 NaN                                    NaN   \n",
       "2                                  []                                     []   \n",
       "3                                 NaN                                    NaN   \n",
       "\n",
       "                                                                                      Details.resource  \\\n",
       "0                                                                                                  NaN   \n",
       "1                                                                                                  NaN   \n",
       "2                                                                                                  NaN   \n",
       "3  http://104.129.4.31/..........W-----W.....W-w---------------W...W...w-----wW-------.---/...-.......   \n",
       "\n",
       "                                                                                     Details.permalink  \n",
       "0                                                                                                  NaN  \n",
       "1                                                                                                  NaN  \n",
       "2                                                                                                  NaN  \n",
       "3  https://www.virustotal.com/gui/url/93839f6bd29a19ebcbba84dce8d1a9229df51e837e58fa9f7b9270003f91b...  "
      ]
     },
     "metadata": {},
     "output_type": "display_data"
    }
   ],
   "source": [
    "if relationship:\n",
    "    df_relationships = pd.DataFrame(relationships, columns = ['relation'])\n",
    "    df_relationships = ioc_extractor.extract(data=df_relationships,columns=['relation'])\n",
    "    df_ti = ti.lookup_iocs(data=df_relationships['Observable'], providers=[\"VirusTotal\", \"OTX\"])\n",
    "    df_ti = df_ti[df_ti['Result']==True]\n",
    "    df_ti = pd.json_normalize(data=df_ti[['Severity','Provider','Ioc','Details']].to_dict(orient='records'))\n",
    "\n",
    "    if (df_ti.empty):\n",
    "        print(Fore.GREEN + \"[✓] No Potentially identified as malicious\")\n",
    "    else:\n",
    "        print(Fore.RED + \"[!] Potentially identified as malicious\")\n",
    "        display(df_ti)\n",
    "else:\n",
    "    print(Fore.GREEN + \"[✓] No relationships found\")"
   ]
  },
  {
   "attachments": {},
   "cell_type": "markdown",
   "metadata": {},
   "source": [
    "## Extraction et Analyse des macros\n",
    "\n",
    "Les macros sont des éléments permettant d'exécuter des morceaux de code à l'ouverture du document ou à lors d'événements bien précis."
   ]
  },
  {
   "cell_type": "code",
   "execution_count": 7,
   "metadata": {},
   "outputs": [
    {
     "name": "stdout",
     "output_type": "stream",
     "text": [
      "\u001b[32m[✓] No VBA Macros found\n"
     ]
    }
   ],
   "source": [
    "# https://github.com/decalage2/oletools/wiki/olevba\n",
    "from oletools.olevba import VBA_Parser, TYPE_OLE, TYPE_OpenXML, TYPE_Word2003_XML, TYPE_MHTML\n",
    "vbaparser = VBA_Parser(officeFile['path'])\n",
    "\n",
    "if vbaparser.detect_vba_macros():\n",
    "    print(Fore.RED + \"[!] VBA Macros found\")\n",
    "    results = vbaparser.analyze_macros()\n",
    "    print(Fore.RED + f\"[!] AutoExec keywords: {vbaparser.nb_autoexec}\")\n",
    "    print(Fore.RED + f\"[!] IOCs: {vbaparser.nb_iocs}\")\n",
    "    print(Fore.RED + f\"[!] Hex obfuscated strings: {vbaparser.nb_hexstrings}\")\n",
    "    print(Fore.RED + f\"[!] Base64 obfuscated strings: {vbaparser.nb_base64strings}\")\n",
    "    print(Fore.RED + f\"[!] Dridex obfuscated strings: {vbaparser.nb_dridexstrings}\")\n",
    "    print(Fore.RED + f\"[!] VBA obfuscated strings: {vbaparser.nb_vbastrings}\")\n",
    "\n",
    "    print(\"\\n\")\n",
    "    print(Fore.RED + f\"[!] Suspicious patterns : {vbaparser.nb_suspicious}\")\n",
    "    for kw_type, keyword, description in results:\n",
    "        #print('type=%s - keyword=%s - description=%s' % (kw_type, keyword, description))\n",
    "        print(f\"[{kw_type}] - {keyword} : {description}\")\n",
    "else:\n",
    "    print(Fore.GREEN + \"[✓] No VBA Macros found\")\n"
   ]
  },
  {
   "attachments": {},
   "cell_type": "markdown",
   "metadata": {},
   "source": [
    "Cette tentative se base sur les résultats obtenus précédemments. Si aucune chaine obfusquée n'a été détectée, aucun résultat ne sera obtenu."
   ]
  },
  {
   "cell_type": "code",
   "execution_count": 8,
   "metadata": {},
   "outputs": [
    {
     "name": "stdout",
     "output_type": "stream",
     "text": [
      "\u001b[32m[✓] No VBA obfuscated strings found\n"
     ]
    }
   ],
   "source": [
    "# https://github.com/decalage2/oletools/wiki/olevba\n",
    "if vbaparser.nb_hexstrings or vbaparser.nb_base64strings or vbaparser.nb_dridexstrings or vbaparser.nb_vbastrings:\n",
    "    print()\n",
    "    print(Fore.RED + vbaparser.reveal())\n",
    "else:\n",
    "    print(Fore.GREEN + \"[✓] No VBA obfuscated strings found\")"
   ]
  }
 ],
 "metadata": {
  "kernelspec": {
   "display_name": "Python 3",
   "language": "python",
   "name": "python3"
  },
  "language_info": {
   "codemirror_mode": {
    "name": "ipython",
    "version": 3
   },
   "file_extension": ".py",
   "mimetype": "text/x-python",
   "name": "python",
   "nbconvert_exporter": "python",
   "pygments_lexer": "ipython3",
   "version": "3.9.2"
  },
  "orig_nbformat": 4,
  "vscode": {
   "interpreter": {
    "hash": "916dbcbb3f70747c44a77c7bcd40155683ae19c65e1c03b4aa3499c5328201f1"
   }
  }
 },
 "nbformat": 4,
 "nbformat_minor": 2
}
