{
 "cells": [
  {
   "attachments": {},
   "cell_type": "markdown",
   "metadata": {},
   "source": [
    "# PCAP Analysis\n",
    "\n",
    "Sources : \n",
    "- https://adriangcoder.medium.com/pandas-tricks-and-tips-a7b87c3748ea\n",
    "- https://www.stamus-networks.com/blog/jupyter-playbooks-for-suricata-part-3"
   ]
  },
  {
   "attachments": {},
   "cell_type": "markdown",
   "metadata": {},
   "source": [
    "\n",
    "\n",
    "Certains outils ont été spécialement développés pour analyser le traffic réseau et détecter à travers des règles définies, un comportement malveillant/suspect.\n"
   ]
  },
  {
   "cell_type": "code",
   "execution_count": 1,
   "metadata": {},
   "outputs": [
    {
     "data": {
      "text/html": [
       "<p style=''><font color='orange'><h3>Notebook setup completed with some warnings.</h3></p>"
      ],
      "text/plain": [
       "<IPython.core.display.HTML object>"
      ]
     },
     "metadata": {},
     "output_type": "display_data"
    },
    {
     "data": {
      "text/html": [
       "<p style=''>One or more configuration items were missing or set incorrectly.</p>"
      ],
      "text/plain": [
       "<IPython.core.display.HTML object>"
      ]
     },
     "metadata": {},
     "output_type": "display_data"
    },
    {
     "data": {
      "text/html": [
       "<p style=''>Please run the <i>Getting Started Guide for Azure Sentinel ML Notebooks</i> notebook. and the <a href='https://msticpy.readthedocs.io/en/latest/getting_started/msticpyconfig.html'>msticpy configuration guide</a>.</p>"
      ],
      "text/plain": [
       "<IPython.core.display.HTML object>"
      ]
     },
     "metadata": {},
     "output_type": "display_data"
    },
    {
     "data": {
      "text/html": [
       "<p style=''>This notebook may still run but with reduced functionality.</p>"
      ],
      "text/plain": [
       "<IPython.core.display.HTML object>"
      ]
     },
     "metadata": {},
     "output_type": "display_data"
    },
    {
     "data": {
      "text/html": [
       "<style>.container { width:90% !important; }</style>"
      ],
      "text/plain": [
       "<IPython.core.display.HTML object>"
      ]
     },
     "metadata": {},
     "output_type": "display_data"
    }
   ],
   "source": [
    "import json\n",
    "import pandas as pd\n",
    "from pandas import json_normalize\n",
    "import numpy as np\n",
    "import matplotlib.pyplot as plt\n",
    "import seaborn as sns\n",
    "import plotly.express as px\n",
    "import plotly.graph_objects as go\n",
    "%matplotlib inline\n",
    "import re\n",
    "from IPython.display import display, HTML\n",
    "\n",
    "import ipaddress as ip\n",
    "from msticpy.transform.iocextract import IoCExtract\n",
    "# Instantiate an IoCExtract object\n",
    "#from msticpy.transform import IoCExtract\n",
    "ioc_extractor = IoCExtract()\n",
    "\n",
    "import msticpy as mp\n",
    "mp.init_notebook(globals(), verbosity=0)\n",
    "ti = mp.TILookup()\n",
    "ioc_extract = IoCExtract()\n",
    "\n",
    "#Expand the width of the cells\n",
    "display(HTML(\"<style>.container { width:90% !important; }</style>\"))\n",
    "\n",
    "pd.set_option('display.max_rows', None)\n",
    "pd.set_option('display.max_columns', None)\n",
    "pd.set_option('display.width', None)\n",
    "pd.set_option('display.max_colwidth', None)\n",
    "\n",
    "def ip_type(string):\n",
    "    if ip.ip_address(string).is_private:\n",
    "        return 'Private'\n",
    "    elif ip.ip_address(string).is_multicast:\n",
    "        return 'Multicast'\n",
    "    elif ip.ip_address(string).is_reserved:\n",
    "        return 'Reserved'\n",
    "    elif ip.ip_address(string).is_loopback:\n",
    "        return 'Loopback'\n",
    "    elif ip.ip_address(string).is_global:\n",
    "        return 'Public'\n",
    "    elif ip.ip_address(string).is_link_local:\n",
    "        return 'Link local'\n",
    "\n",
    "\n",
    "\n",
    "# Chemin du fichier à analyser\n",
    "pcapFile = {}\n",
    "pcapFile_path = \"/home/kidrek/Downloads/challenge-files/challenge-files/infection-traffic.pcap\"\n",
    "\n"
   ]
  },
  {
   "attachments": {},
   "cell_type": "markdown",
   "metadata": {},
   "source": [
    "## Analyse rapide du PCAP via Tshark\n",
    "\n",
    "Il est possible de parcourir facilement le contenu d'un fichier PCAP grâce à l'outil : **tshark**, une version console de l'outil **wireshark**.\n",
    "\n",
    "```\n",
    "# Read all pcap file \n",
    "$ tshark -r {pcap_filepath}\n",
    "\n",
    "# Read all pcap file without resolve domain name \n",
    "$ tshark -nr {pcap_filepath}\n",
    "```\n",
    "\n"
   ]
  },
  {
   "attachments": {},
   "cell_type": "markdown",
   "metadata": {},
   "source": [
    "Affichage des conversations **TCP** présentes au sein du PCAP"
   ]
  },
  {
   "cell_type": "code",
   "execution_count": 2,
   "metadata": {},
   "outputs": [
    {
     "name": "stdout",
     "output_type": "stream",
     "text": [
      "================================================================================\n",
      "TCP Conversations\n",
      "Filter:<No Filter>\n",
      "                                                           |       <-      | |       ->      | |     Total     |    Relative    |   Duration   |\n",
      "                                                           | Frames  Bytes | | Frames  Bytes | | Frames  Bytes |      Start     |              |\n",
      "10.6.2.103:57600           <-> 194.5.249.46:443              1385 1,982kB       884 64kB         2269 2,046kB      76.535252000        68.9587\n",
      "10.6.2.103:57594           <-> 172.67.169.59:80               548 778kB         317 22kB          865 800kB         8.578007000        63.0912\n",
      "10.6.2.103:57614           <-> 38.135.122.194:8080            410 41kB          436 188kB         846 229kB       571.503808000        33.4358\n",
      "10.6.2.103:57592           <-> 45.142.213.105:80              402 573kB         284 20kB          686 593kB         0.193640000         2.8731\n",
      "10.6.2.103:57593           <-> 65.8.218.70:443                183 252kB          90 5,755bytes     273 258kB         7.335177000        64.3388\n",
      "10.6.2.103:57601           <-> 185.33.85.35:443                32 4,002bytes      29 2,638bytes      61 6,640bytes    77.309635000       586.2304\n",
      "10.6.2.103:57602           <-> 185.33.85.35:443                15 3,407bytes      20 5,595bytes      35 9,002bytes    77.776531000        85.5775\n",
      "10.6.2.103:57597           <-> 194.5.249.46:443                14 3,106bytes      13 1,919bytes      27 5,025bytes    72.878155000        69.2331\n",
      "10.6.2.103:57599           <-> 194.5.249.46:443                12 2,496bytes      10 2,295bytes      22 4,791bytes    76.535258000        66.1805\n",
      "10.6.2.103:57595           <-> 185.33.85.35:443                10 2,386bytes      10 1,144bytes      20 3,530bytes    13.384999000        68.7856\n",
      "10.6.2.103:57609           <-> 38.135.122.194:8080              8 522bytes       10 639bytes       18 1,161bytes   534.534514000       157.2711\n",
      "10.6.2.103:57603           <-> 185.33.85.35:443                 7 2,119bytes       8 960bytes       15 3,079bytes   374.829959000        60.8954\n",
      "10.6.2.103:57623           <-> 185.33.85.35:443                 6 2,065bytes       6 840bytes       12 2,905bytes   675.760620000         0.8622\n",
      "================================================================================\n"
     ]
    }
   ],
   "source": [
    "!tshark -nr $pcapFile_path -q -z conv,tcp"
   ]
  },
  {
   "attachments": {},
   "cell_type": "markdown",
   "metadata": {},
   "source": [
    "Affichage des conversations **UDP** présentes au sein du PCAP"
   ]
  },
  {
   "cell_type": "code",
   "execution_count": 3,
   "metadata": {},
   "outputs": [
    {
     "name": "stdout",
     "output_type": "stream",
     "text": [
      "================================================================================\n",
      "UDP Conversations\n",
      "Filter:<No Filter>\n",
      "                                                           |       <-      | |       ->      | |     Total     |    Relative    |   Duration   |\n",
      "                                                           | Frames  Bytes | | Frames  Bytes | | Frames  Bytes |      Start     |              |\n",
      "10.6.2.103:57692           <-> 10.6.2.1:53                      1 94bytes         1 78bytes         2 172bytes      0.000000000         0.1778\n",
      "10.6.2.103:62832           <-> 10.6.2.1:53                      1 168bytes        1 74bytes         2 242bytes      7.268986000         0.0485\n",
      "10.6.2.103:64801           <-> 10.6.2.1:53                      1 108bytes        1 76bytes         2 184bytes      8.509279000         0.0666\n",
      "10.6.2.103:51737           <-> 10.6.2.1:53                      1 90bytes         1 74bytes         2 164bytes     13.295954000         0.0864\n",
      "10.6.2.103:60527           <-> 10.6.2.1:53                      1 92bytes         1 76bytes         2 168bytes     72.785911000         0.0905\n",
      "10.6.2.103:65245           <-> 10.6.2.1:53                      1 90bytes         1 74bytes         2 164bytes     77.243965000         0.0650\n",
      "10.6.2.103:54222           <-> 10.6.2.1:53                      1 90bytes         1 74bytes         2 164bytes     77.687111000         0.0878\n",
      "10.6.2.103:54815           <-> 10.6.2.1:53                      1 90bytes         1 74bytes         2 164bytes    675.694370000         0.0514\n",
      "================================================================================\n"
     ]
    }
   ],
   "source": [
    "!tshark -nr $pcapFile_path -q -z conv,udp"
   ]
  },
  {
   "attachments": {},
   "cell_type": "markdown",
   "metadata": {},
   "source": [
    "Il est possible d'aller plus loin via l'usage de filtres.\n",
    "\n",
    "* Filter on HTTP method\n"
   ]
  },
  {
   "cell_type": "code",
   "execution_count": 4,
   "metadata": {},
   "outputs": [
    {
     "name": "stdout",
     "output_type": "stream",
     "text": [
      "    6   0.377723   10.6.2.103 → 45.142.213.105 HTTP 616 GET /adda/T/5xBOnOkAQixWY7/JQNizzLtuT6BVV0xRecCKVVHAAR6PkgGrIPN/sose5?user=anRsIkfbv&time=0qobcg4DyUX11ZLF5yHrIevFn&page=1K2n8iJ&i9y9SwJu=yVaCtZ9s0gUfn&q=hj9xWh4I6PDdXOPDey&id=Vr4pf&user=mHMoD292T&search=uZVgg21LyVRFdD2FABGZvQlnkM90&q=Dwc1s67MbWC24TGoOjMXC HTTP/1.1 \n",
      "  966   8.610776   10.6.2.103 → 172.67.169.59 HTTP 334 GET / HTTP/1.1 \n"
     ]
    }
   ],
   "source": [
    "!tshark  -nr $pcapFile_path -Y \"http.request.method==GET\""
   ]
  },
  {
   "attachments": {},
   "cell_type": "markdown",
   "metadata": {},
   "source": [
    "* Show all User-Agent"
   ]
  },
  {
   "cell_type": "code",
   "execution_count": 5,
   "metadata": {},
   "outputs": [
    {
     "name": "stdout",
     "output_type": "stream",
     "text": [
      "10.6.2.103,45.142.213.105\tMozilla/4.0 (compatible; MSIE 7.0; Windows NT 10.0; WOW64; Trident/7.0; .NET4.0C; .NET4.0E; .NET CLR 2.0.50727; .NET CLR 3.0.30729; .NET CLR 3.5.30729)\n"
     ]
    }
   ],
   "source": [
    "!tshark -nr $pcapFile_path -Y \"http.user_agent\" -Tfields -e ip.addr -e http.user_agent "
   ]
  },
  {
   "attachments": {},
   "cell_type": "markdown",
   "metadata": {},
   "source": [
    "\n",
    "source : https://jsur.in/post/2020-02-19-tshark-cheatsheet\n"
   ]
  },
  {
   "attachments": {},
   "cell_type": "markdown",
   "metadata": {},
   "source": [
    "## Analyse du PCAP via Suricata\n",
    "\n",
    "Une fois l'analyse rapide terminée, il est important de faire appel à des moteurs de détection type NIDS, spécialisé Réseau, tel que **Suricata**. \n",
    "Avant de débuter l'analyse du pcap, il est indispensable de mettre à jour les règles de détection ```suricata-update```."
   ]
  },
  {
   "cell_type": "code",
   "execution_count": 6,
   "metadata": {},
   "outputs": [
    {
     "name": "stdout",
     "output_type": "stream",
     "text": [
      "\u001b[32m12/6/2023 -- 17:40:48\u001b[0m - <\u001b[1;33mNotice\u001b[0m> - \u001b[33mThis is Suricata version 6.0.1 RELEASE running in USER mode\u001b[0m\n",
      "\u001b[32m12/6/2023 -- 17:40:48\u001b[0m - <\u001b[33mInfo\u001b[0m> - CPUs/cores online: 8\u001b[0m\n",
      "\u001b[32m12/6/2023 -- 17:40:48\u001b[0m - <\u001b[33mInfo\u001b[0m> - fast output device (regular) initialized: fast.log\u001b[0m\n",
      "\u001b[32m12/6/2023 -- 17:40:48\u001b[0m - <\u001b[33mInfo\u001b[0m> - eve-log output device (regular) initialized: eve.json\u001b[0m\n",
      "\u001b[32m12/6/2023 -- 17:40:48\u001b[0m - <\u001b[33mInfo\u001b[0m> - stats output device (regular) initialized: stats.log\u001b[0m\n",
      "\u001b[32m12/6/2023 -- 17:41:00\u001b[0m - <\u001b[33mInfo\u001b[0m> - 1 rule files processed. 34088 rules successfully loaded, 0 rules failed\u001b[0m\n",
      "\u001b[32m12/6/2023 -- 17:41:00\u001b[0m - <\u001b[33mInfo\u001b[0m> - Threshold config parsed: 0 rule(s) found\u001b[0m\n",
      "\u001b[32m12/6/2023 -- 17:41:01\u001b[0m - <\u001b[33mInfo\u001b[0m> - 34091 signatures processed. 1270 are IP-only rules, 5214 are inspecting packet payload, 27407 inspect application layer, 104 are decoder event only\u001b[0m\n",
      "\u001b[32m12/6/2023 -- 17:41:50\u001b[0m - <\u001b[33mInfo\u001b[0m> - Using unix socket file '/var/run/suricata-command.socket'\u001b[0m\n",
      "\u001b[32m12/6/2023 -- 17:41:50\u001b[0m - <\u001b[31mWarning\u001b[0m> - [\u001b[33mERRCODE\u001b[0m: \u001b[31mSC_ERR_INITIALIZATION\u001b[0m(\u001b[33m45\u001b[0m)] - \u001b[31mUnix socket: UNIX socket bind(/var/run/suricata-command.socket) error: Address already in use\u001b[0m\n",
      "\u001b[32m12/6/2023 -- 17:41:50\u001b[0m - <\u001b[31mWarning\u001b[0m> - [\u001b[33mERRCODE\u001b[0m: \u001b[31mSC_ERR_INITIALIZATION\u001b[0m(\u001b[33m45\u001b[0m)] - \u001b[31mUnable to create unix command socket\u001b[0m\n",
      "\u001b[32m12/6/2023 -- 17:41:50\u001b[0m - <\u001b[1;33mNotice\u001b[0m> - \u001b[33mall 9 packet processing threads, 4 management threads initialized, engine started.\u001b[0m\n",
      "\u001b[32m12/6/2023 -- 17:41:50\u001b[0m - <\u001b[33mInfo\u001b[0m> - Starting file run for /home/kidrek/Downloads/challenge-files/challenge-files/infection-traffic.pcap\u001b[0m\n",
      "\u001b[32m12/6/2023 -- 17:41:50\u001b[0m - <\u001b[33mInfo\u001b[0m> - No packets with invalid checksum, assuming checksum offloading is NOT used\u001b[0m\n",
      "\u001b[32m12/6/2023 -- 17:41:50\u001b[0m - <\u001b[33mInfo\u001b[0m> - pcap file /home/kidrek/Downloads/challenge-files/challenge-files/infection-traffic.pcap end of file reached (pcap err code 0)\u001b[0m\n",
      "\u001b[32m12/6/2023 -- 17:41:50\u001b[0m - <\u001b[1;33mNotice\u001b[0m> - \u001b[33mSignal Received.  Stopping engine.\u001b[0m\n",
      "\u001b[32m12/6/2023 -- 17:41:50\u001b[0m - <\u001b[33mInfo\u001b[0m> - time elapsed 0.127s\u001b[0m\n",
      "\u001b[32m12/6/2023 -- 17:41:50\u001b[0m - <\u001b[1;33mNotice\u001b[0m> - \u001b[33mPcap-file module read 1 files, 5165 packets, 3967078 bytes\u001b[0m\n",
      "\u001b[32m12/6/2023 -- 17:41:50\u001b[0m - <\u001b[33mInfo\u001b[0m> - Alerts: 19\u001b[0m\n",
      "\u001b[32m12/6/2023 -- 17:41:50\u001b[0m - <\u001b[33mInfo\u001b[0m> - cleaning up signature grouping structure... complete\u001b[0m\n"
     ]
    }
   ],
   "source": [
    "LOGDIR = \"/tmp/suricata/logs\"\n",
    "!rm -rf $LOGDIR 2>/dev/null; mkdir -p $LOGDIR\n",
    "\n",
    "# Update rules\n",
    "!sudo suricata-update 1>/dev/null\n",
    "\n",
    "# Start analyse\n",
    "!suricata -S /var/lib/suricata/rules/suricata.rules -r $pcapFile_path -l $LOGDIR -v "
   ]
  },
  {
   "attachments": {},
   "cell_type": "markdown",
   "metadata": {},
   "source": [
    "Si Suricata identifie à travers ses règles des indicateurs de compromissions, alors le nombre d'alerte devrait être supérieur à 0. \n",
    "\n",
    "Si tel est le cas, ces alertes sont consultables au sein du fichier eve.json ou fast.log. \\\n",
    "Les étapes suivantes considèrent que des alertes ont été générées. L'action initiale consiste donc à parcourir le fichier **eve.json** et le charger dans un dataFrame pour analyser plus facilement les données qu'il contient.\n",
    "\n"
   ]
  },
  {
   "cell_type": "code",
   "execution_count": 7,
   "metadata": {},
   "outputs": [],
   "source": [
    "# Load nested eve.json in dataFrame\n",
    "with open(f\"{ LOGDIR }/eve.json\", \"r\") as eveFile:\n",
    "    df_suricata = pd.json_normalize([\n",
    "        json.loads(line) for line in eveFile\n",
    "    ], max_level=1)\n",
    "\n",
    "df_suricata['flow_id'] = df_suricata['flow_id'].fillna(0).astype(int)\n",
    "df_suricata['alert.signature_id'] = df_suricata['alert.signature_id'].fillna(0).astype(int)\n",
    "df_suricata['dest_port'] = df_suricata['dest_port'].fillna(0).astype(int)\n",
    "df_suricata['src_port'] = df_suricata['src_port'].fillna(0).astype(int)\n",
    "\n",
    "df_suricata['flow.start'] = pd.to_datetime(df_suricata['flow.start'], format='%Y-%m-%d %H:%M:%S')\n",
    "df_suricata['timestamp'] = pd.to_datetime(df_suricata['timestamp'], format='%Y-%m-%d %H:%M:%S')"
   ]
  },
  {
   "attachments": {},
   "cell_type": "markdown",
   "metadata": {},
   "source": [
    "### Qualification des alertes recensées par Suricata\n",
    "\n"
   ]
  },
  {
   "cell_type": "code",
   "execution_count": 8,
   "metadata": {},
   "outputs": [
    {
     "data": {
      "text/html": [
       "<div>\n",
       "<style scoped>\n",
       "    .dataframe tbody tr th:only-of-type {\n",
       "        vertical-align: middle;\n",
       "    }\n",
       "\n",
       "    .dataframe tbody tr th {\n",
       "        vertical-align: top;\n",
       "    }\n",
       "\n",
       "    .dataframe thead th {\n",
       "        text-align: right;\n",
       "    }\n",
       "</style>\n",
       "<table border=\"1\" class=\"dataframe\">\n",
       "  <thead>\n",
       "    <tr style=\"text-align: right;\">\n",
       "      <th></th>\n",
       "      <th>alert.severity</th>\n",
       "      <th>alert.signature_id</th>\n",
       "      <th>alert.signature</th>\n",
       "      <th>src_ip</th>\n",
       "      <th>src_port</th>\n",
       "      <th>dest_ip</th>\n",
       "      <th>dest_port</th>\n",
       "      <th>proto</th>\n",
       "      <th>app_proto</th>\n",
       "      <th>flow.start</th>\n",
       "      <th>flow_id</th>\n",
       "      <th>flow.bytes_toserver</th>\n",
       "      <th>flow.bytes_toclient</th>\n",
       "    </tr>\n",
       "  </thead>\n",
       "  <tbody>\n",
       "    <tr>\n",
       "      <th>4</th>\n",
       "      <td>3.0</td>\n",
       "      <td>2014520</td>\n",
       "      <td>ET INFO EXE - Served Attached HTTP</td>\n",
       "      <td>45.142.213.105</td>\n",
       "      <td>80</td>\n",
       "      <td>10.6.2.103</td>\n",
       "      <td>57592</td>\n",
       "      <td>TCP</td>\n",
       "      <td>http</td>\n",
       "      <td>2021-06-02 20:49:58.445041+00:00</td>\n",
       "      <td>900886284388977</td>\n",
       "      <td>2002.0</td>\n",
       "      <td>44462.0</td>\n",
       "    </tr>\n",
       "    <tr>\n",
       "      <th>5</th>\n",
       "      <td>2.0</td>\n",
       "      <td>2023883</td>\n",
       "      <td>ET DNS Query to a *.top domain - Likely Hostile</td>\n",
       "      <td>10.6.2.103</td>\n",
       "      <td>51737</td>\n",
       "      <td>10.6.2.1</td>\n",
       "      <td>53</td>\n",
       "      <td>UDP</td>\n",
       "      <td>dns</td>\n",
       "      <td>2021-06-02 20:50:11.547355+00:00</td>\n",
       "      <td>612749814225435</td>\n",
       "      <td>74.0</td>\n",
       "      <td>0.0</td>\n",
       "    </tr>\n",
       "    <tr>\n",
       "      <th>6</th>\n",
       "      <td>2.0</td>\n",
       "      <td>2023883</td>\n",
       "      <td>ET DNS Query to a *.top domain - Likely Hostile</td>\n",
       "      <td>10.6.2.103</td>\n",
       "      <td>60527</td>\n",
       "      <td>10.6.2.1</td>\n",
       "      <td>53</td>\n",
       "      <td>UDP</td>\n",
       "      <td>dns</td>\n",
       "      <td>2021-06-02 20:51:11.037312+00:00</td>\n",
       "      <td>2000084384321984</td>\n",
       "      <td>76.0</td>\n",
       "      <td>0.0</td>\n",
       "    </tr>\n",
       "    <tr>\n",
       "      <th>11</th>\n",
       "      <td>2.0</td>\n",
       "      <td>2027871</td>\n",
       "      <td>ET INFO Observed DNS Query to .fit TLD</td>\n",
       "      <td>10.6.2.103</td>\n",
       "      <td>65245</td>\n",
       "      <td>10.6.2.1</td>\n",
       "      <td>53</td>\n",
       "      <td>UDP</td>\n",
       "      <td>dns</td>\n",
       "      <td>2021-06-02 20:51:15.495366+00:00</td>\n",
       "      <td>2243162353667846</td>\n",
       "      <td>74.0</td>\n",
       "      <td>0.0</td>\n",
       "    </tr>\n",
       "    <tr>\n",
       "      <th>26</th>\n",
       "      <td>2.0</td>\n",
       "      <td>2023883</td>\n",
       "      <td>ET DNS Query to a *.top domain - Likely Hostile</td>\n",
       "      <td>10.6.2.103</td>\n",
       "      <td>64801</td>\n",
       "      <td>10.6.2.1</td>\n",
       "      <td>53</td>\n",
       "      <td>UDP</td>\n",
       "      <td>dns</td>\n",
       "      <td>2021-06-02 20:50:06.760680+00:00</td>\n",
       "      <td>2249694994406248</td>\n",
       "      <td>76.0</td>\n",
       "      <td>0.0</td>\n",
       "    </tr>\n",
       "    <tr>\n",
       "      <th>30</th>\n",
       "      <td>2.0</td>\n",
       "      <td>2023882</td>\n",
       "      <td>ET INFO HTTP Request to a *.top domain</td>\n",
       "      <td>10.6.2.103</td>\n",
       "      <td>57594</td>\n",
       "      <td>172.67.169.59</td>\n",
       "      <td>80</td>\n",
       "      <td>TCP</td>\n",
       "      <td>http</td>\n",
       "      <td>2021-06-02 20:50:06.829408+00:00</td>\n",
       "      <td>1414169236514784</td>\n",
       "      <td>520.0</td>\n",
       "      <td>3765.0</td>\n",
       "    </tr>\n",
       "    <tr>\n",
       "      <th>36</th>\n",
       "      <td>2.0</td>\n",
       "      <td>2023883</td>\n",
       "      <td>ET DNS Query to a *.top domain - Likely Hostile</td>\n",
       "      <td>10.6.2.103</td>\n",
       "      <td>54815</td>\n",
       "      <td>10.6.2.1</td>\n",
       "      <td>53</td>\n",
       "      <td>UDP</td>\n",
       "      <td>dns</td>\n",
       "      <td>2021-06-02 21:01:13.945771+00:00</td>\n",
       "      <td>758009946533483</td>\n",
       "      <td>74.0</td>\n",
       "      <td>0.0</td>\n",
       "    </tr>\n",
       "    <tr>\n",
       "      <th>45</th>\n",
       "      <td>2.0</td>\n",
       "      <td>2023883</td>\n",
       "      <td>ET DNS Query to a *.top domain - Likely Hostile</td>\n",
       "      <td>10.6.2.103</td>\n",
       "      <td>54222</td>\n",
       "      <td>10.6.2.1</td>\n",
       "      <td>53</td>\n",
       "      <td>UDP</td>\n",
       "      <td>dns</td>\n",
       "      <td>2021-06-02 20:51:15.938512+00:00</td>\n",
       "      <td>403632155742736</td>\n",
       "      <td>74.0</td>\n",
       "      <td>0.0</td>\n",
       "    </tr>\n",
       "    <tr>\n",
       "      <th>3</th>\n",
       "      <td>1.0</td>\n",
       "      <td>2018959</td>\n",
       "      <td>ET POLICY PE EXE or DLL Windows file download HTTP</td>\n",
       "      <td>45.142.213.105</td>\n",
       "      <td>80</td>\n",
       "      <td>10.6.2.103</td>\n",
       "      <td>57592</td>\n",
       "      <td>TCP</td>\n",
       "      <td>http</td>\n",
       "      <td>2021-06-02 20:49:58.445041+00:00</td>\n",
       "      <td>900886284388977</td>\n",
       "      <td>2002.0</td>\n",
       "      <td>44462.0</td>\n",
       "    </tr>\n",
       "    <tr>\n",
       "      <th>29</th>\n",
       "      <td>1.0</td>\n",
       "      <td>2032086</td>\n",
       "      <td>ET MALWARE Win32/IcedID Request Cookie</td>\n",
       "      <td>10.6.2.103</td>\n",
       "      <td>57594</td>\n",
       "      <td>172.67.169.59</td>\n",
       "      <td>80</td>\n",
       "      <td>TCP</td>\n",
       "      <td>http</td>\n",
       "      <td>2021-06-02 20:50:06.829408+00:00</td>\n",
       "      <td>1414169236514784</td>\n",
       "      <td>520.0</td>\n",
       "      <td>3765.0</td>\n",
       "    </tr>\n",
       "    <tr>\n",
       "      <th>33</th>\n",
       "      <td>1.0</td>\n",
       "      <td>2037841</td>\n",
       "      <td>ET MALWARE W32.DarkVNC Variant Checkin</td>\n",
       "      <td>10.6.2.103</td>\n",
       "      <td>57609</td>\n",
       "      <td>38.135.122.194</td>\n",
       "      <td>8080</td>\n",
       "      <td>TCP</td>\n",
       "      <td>NaN</td>\n",
       "      <td>2021-06-02 20:58:52.785915+00:00</td>\n",
       "      <td>1263102386306555</td>\n",
       "      <td>193.0</td>\n",
       "      <td>66.0</td>\n",
       "    </tr>\n",
       "  </tbody>\n",
       "</table>\n",
       "</div>"
      ],
      "text/plain": [
       "    alert.severity  alert.signature_id  \\\n",
       "4              3.0             2014520   \n",
       "5              2.0             2023883   \n",
       "6              2.0             2023883   \n",
       "11             2.0             2027871   \n",
       "26             2.0             2023883   \n",
       "30             2.0             2023882   \n",
       "36             2.0             2023883   \n",
       "45             2.0             2023883   \n",
       "3              1.0             2018959   \n",
       "29             1.0             2032086   \n",
       "33             1.0             2037841   \n",
       "\n",
       "                                       alert.signature          src_ip  \\\n",
       "4                   ET INFO EXE - Served Attached HTTP  45.142.213.105   \n",
       "5      ET DNS Query to a *.top domain - Likely Hostile      10.6.2.103   \n",
       "6      ET DNS Query to a *.top domain - Likely Hostile      10.6.2.103   \n",
       "11              ET INFO Observed DNS Query to .fit TLD      10.6.2.103   \n",
       "26     ET DNS Query to a *.top domain - Likely Hostile      10.6.2.103   \n",
       "30              ET INFO HTTP Request to a *.top domain      10.6.2.103   \n",
       "36     ET DNS Query to a *.top domain - Likely Hostile      10.6.2.103   \n",
       "45     ET DNS Query to a *.top domain - Likely Hostile      10.6.2.103   \n",
       "3   ET POLICY PE EXE or DLL Windows file download HTTP  45.142.213.105   \n",
       "29              ET MALWARE Win32/IcedID Request Cookie      10.6.2.103   \n",
       "33              ET MALWARE W32.DarkVNC Variant Checkin      10.6.2.103   \n",
       "\n",
       "    src_port         dest_ip  dest_port proto app_proto  \\\n",
       "4         80      10.6.2.103      57592   TCP      http   \n",
       "5      51737        10.6.2.1         53   UDP       dns   \n",
       "6      60527        10.6.2.1         53   UDP       dns   \n",
       "11     65245        10.6.2.1         53   UDP       dns   \n",
       "26     64801        10.6.2.1         53   UDP       dns   \n",
       "30     57594   172.67.169.59         80   TCP      http   \n",
       "36     54815        10.6.2.1         53   UDP       dns   \n",
       "45     54222        10.6.2.1         53   UDP       dns   \n",
       "3         80      10.6.2.103      57592   TCP      http   \n",
       "29     57594   172.67.169.59         80   TCP      http   \n",
       "33     57609  38.135.122.194       8080   TCP       NaN   \n",
       "\n",
       "                         flow.start           flow_id  flow.bytes_toserver  \\\n",
       "4  2021-06-02 20:49:58.445041+00:00   900886284388977               2002.0   \n",
       "5  2021-06-02 20:50:11.547355+00:00   612749814225435                 74.0   \n",
       "6  2021-06-02 20:51:11.037312+00:00  2000084384321984                 76.0   \n",
       "11 2021-06-02 20:51:15.495366+00:00  2243162353667846                 74.0   \n",
       "26 2021-06-02 20:50:06.760680+00:00  2249694994406248                 76.0   \n",
       "30 2021-06-02 20:50:06.829408+00:00  1414169236514784                520.0   \n",
       "36 2021-06-02 21:01:13.945771+00:00   758009946533483                 74.0   \n",
       "45 2021-06-02 20:51:15.938512+00:00   403632155742736                 74.0   \n",
       "3  2021-06-02 20:49:58.445041+00:00   900886284388977               2002.0   \n",
       "29 2021-06-02 20:50:06.829408+00:00  1414169236514784                520.0   \n",
       "33 2021-06-02 20:58:52.785915+00:00  1263102386306555                193.0   \n",
       "\n",
       "    flow.bytes_toclient  \n",
       "4               44462.0  \n",
       "5                   0.0  \n",
       "6                   0.0  \n",
       "11                  0.0  \n",
       "26                  0.0  \n",
       "30               3765.0  \n",
       "36                  0.0  \n",
       "45                  0.0  \n",
       "3               44462.0  \n",
       "29               3765.0  \n",
       "33                 66.0  "
      ]
     },
     "metadata": {},
     "output_type": "display_data"
    }
   ],
   "source": [
    "df_suricata_alert = df_suricata[(df_suricata.event_type == \"alert\") & (df_suricata['alert.category'].str.contains('Not Suspicious') == False)][['alert.severity','alert.signature_id','alert.signature','src_ip','src_port','dest_ip','dest_port','proto','app_proto','flow.start','flow_id','flow.bytes_toserver','flow.bytes_toclient']].sort_values(by=['alert.severity'], ascending=False)\n",
    "display(df_suricata_alert)"
   ]
  },
  {
   "attachments": {},
   "cell_type": "markdown",
   "metadata": {},
   "source": [
    "Une fois les alertes qualifiées, nous allons réaliser une extraction des IOCs potentiellement présents dans le PCAP et les rechercher dans des bases de connaissances de la menace."
   ]
  },
  {
   "cell_type": "code",
   "execution_count": 9,
   "metadata": {},
   "outputs": [
    {
     "data": {
      "application/vnd.jupyter.widget-view+json": {
       "model_id": "26bc7c7c8b064af5b30ab2ca3e21e8bc",
       "version_major": 2,
       "version_minor": 0
      },
      "text/plain": [
       "Observables processed:   0%|          | 0/30 [00:00<?, ?obs/s]"
      ]
     },
     "metadata": {},
     "output_type": "display_data"
    },
    {
     "data": {
      "text/html": [
       "<div>\n",
       "<style scoped>\n",
       "    .dataframe tbody tr th:only-of-type {\n",
       "        vertical-align: middle;\n",
       "    }\n",
       "\n",
       "    .dataframe tbody tr th {\n",
       "        vertical-align: top;\n",
       "    }\n",
       "\n",
       "    .dataframe thead th {\n",
       "        text-align: right;\n",
       "    }\n",
       "</style>\n",
       "<table border=\"1\" class=\"dataframe\">\n",
       "  <thead>\n",
       "    <tr style=\"text-align: right;\">\n",
       "      <th></th>\n",
       "      <th>Ioc</th>\n",
       "      <th>Provider</th>\n",
       "      <th>Details.pulse_count</th>\n",
       "      <th>Details.names</th>\n",
       "      <th>Details.references</th>\n",
       "    </tr>\n",
       "  </thead>\n",
       "  <tbody>\n",
       "    <tr>\n",
       "      <th>6</th>\n",
       "      <td>194.5.249.46</td>\n",
       "      <td>OTX</td>\n",
       "      <td>11</td>\n",
       "      <td>[Tracking IcedID Servers, test, test, test, test, test, TOR Nodes, Log4j Scanning Hosts, TA551 IcedID C2 Infrastructure (Suspected), ThreatFox2020604, Melting Ice – Tracking IcedID Servers with a few simple steps]</td>\n",
       "      <td>[[https://research.checkpoint.com/2021/melting-ice-tracking-icedid-servers-with-a-few-simple-steps/], [], [], [], [], [], [], [Log4j Scanning Hosts.pdf], [], [https://threatfox.abuse.ch/export/json/recent/], [https://research.checkpoint.com/2021/melting-ice-tracking-icedid-servers-with-a-few-simple-steps/]]</td>\n",
       "    </tr>\n",
       "    <tr>\n",
       "      <th>7</th>\n",
       "      <td>185.33.85.35</td>\n",
       "      <td>OTX</td>\n",
       "      <td>8</td>\n",
       "      <td>[Tracking IcedID Servers, Log4J Exploit, Log4j Scanning Hosts, TA551 IcedID C2 Infrastructure (Suspected), ThreatFox2020604, Melting Ice – Tracking IcedID Servers with a few simple steps, Team Cymru tacks BokBot infrastructure, TA551 (Shathak) pushes IcedID (Bokbot) - List of indicators - May 2021]</td>\n",
       "      <td>[[https://research.checkpoint.com/2021/melting-ice-tracking-icedid-servers-with-a-few-simple-steps/], [], [Log4j Scanning Hosts.pdf], [], [https://threatfox.abuse.ch/export/json/recent/], [https://research.checkpoint.com/2021/melting-ice-tracking-icedid-servers-with-a-few-simple-steps/], [https://team-cymru.com/blog/2021/05/19/tracking-bokbot-infrastructure/], [https://github.com/pan-unit42/tweets/blob/master/2021-05-17-TA551-IOCs-for-IcedID.txt, https://twitter.com/Unit42_Intel/status/1394659804329693186?s=20]]</td>\n",
       "    </tr>\n",
       "    <tr>\n",
       "      <th>10</th>\n",
       "      <td>38.135.122.194</td>\n",
       "      <td>OTX</td>\n",
       "      <td>6</td>\n",
       "      <td>[asdAS, Conti Ransomware (12 May 2021), Conti Ransomware IOCs, Conti IOC CyberLab, Additional Conti IOCs - May 2021, Conti Ransomware IOCs - May 2021]</td>\n",
       "      <td>[[], [https://thedfirreport.com/2021/05/12/conti-ransomware/], [], [], [https://twitter.com/TheDFIRReport/status/1392443471357779970], [https://thedfirreport.com/2021/05/12/conti-ransomware/]]</td>\n",
       "    </tr>\n",
       "    <tr>\n",
       "      <th>0</th>\n",
       "      <td>coursemcclurez.com</td>\n",
       "      <td>OTX</td>\n",
       "      <td>5</td>\n",
       "      <td>[Malware - Malware Domain Feed V2 - November 03 2020, Malware - Malware Domain Feed V2 - November 03 2020, TA551 domains, NewDom-1-20210530, TA551 - IcedID - IOCs - April, May &amp; June 2021 Campaign]</td>\n",
       "      <td>[[], [], [https://raw.githubusercontent.com/hpthreatresearch/iocs/main/TA551/domains.txt, https://threatresearch.ext.hp.com/detecting-ta551-domains/], [], [https://docs.google.com/spreadsheets/d/1N7YSoS5nXYHLnGNrJdCDP40wMmTLHG5X5lbM2EW8UOY/edit#gid=0]]</td>\n",
       "    </tr>\n",
       "    <tr>\n",
       "      <th>3</th>\n",
       "      <td>fimlubindu.top</td>\n",
       "      <td>OTX</td>\n",
       "      <td>5</td>\n",
       "      <td>[Tracking BokBot (IcedID) Infrastructure, MacOS EvilQuest - Unpacked, Threatfox 20210527, Team Cymru tacks BokBot infrastructure, TA551 (Shathak) pushes IcedID (Bokbot) - List of indicators - May 2021]</td>\n",
       "      <td>[[https://team-cymru.com/blog/2021/05/19/tracking-bokbot-infrastructure/, https://github.com/team-cymru/iocs/tree/master/bokbot], [], [https://threatfox.abuse.ch/export/json/recent/], [https://team-cymru.com/blog/2021/05/19/tracking-bokbot-infrastructure/], [https://github.com/pan-unit42/tweets/blob/master/2021-05-17-TA551-IOCs-for-IcedID.txt, https://twitter.com/Unit42_Intel/status/1394659804329693186?s=20]]</td>\n",
       "    </tr>\n",
       "    <tr>\n",
       "      <th>5</th>\n",
       "      <td>kilodaser4.fit</td>\n",
       "      <td>OTX</td>\n",
       "      <td>2</td>\n",
       "      <td>[ThreatFox2020604, TA551 (Shathak) pushes IcedID (Bokbot) - List of indicators - May 2021]</td>\n",
       "      <td>[[https://threatfox.abuse.ch/export/json/recent/], [https://github.com/pan-unit42/tweets/blob/master/2021-05-17-TA551-IOCs-for-IcedID.txt, https://twitter.com/Unit42_Intel/status/1394659804329693186?s=20]]</td>\n",
       "    </tr>\n",
       "    <tr>\n",
       "      <th>1</th>\n",
       "      <td>65.8.218.70</td>\n",
       "      <td>OTX</td>\n",
       "      <td>1</td>\n",
       "      <td>[MacOS EvilQuest - Unpacked]</td>\n",
       "      <td>[[]]</td>\n",
       "    </tr>\n",
       "    <tr>\n",
       "      <th>4</th>\n",
       "      <td>extrimefigim.top</td>\n",
       "      <td>OTX</td>\n",
       "      <td>1</td>\n",
       "      <td>[Threatfox 20210527]</td>\n",
       "      <td>[[https://threatfox.abuse.ch/export/json/recent/]]</td>\n",
       "    </tr>\n",
       "    <tr>\n",
       "      <th>11</th>\n",
       "      <td>arhannexa5.top</td>\n",
       "      <td>OTX</td>\n",
       "      <td>1</td>\n",
       "      <td>[ThreatFox2020604]</td>\n",
       "      <td>[[https://threatfox.abuse.ch/export/json/recent/]]</td>\n",
       "    </tr>\n",
       "    <tr>\n",
       "      <th>2</th>\n",
       "      <td>45.142.213.105</td>\n",
       "      <td>OTX</td>\n",
       "      <td>0</td>\n",
       "      <td>NaN</td>\n",
       "      <td>NaN</td>\n",
       "    </tr>\n",
       "    <tr>\n",
       "      <th>8</th>\n",
       "      <td>supplementik.top</td>\n",
       "      <td>OTX</td>\n",
       "      <td>0</td>\n",
       "      <td>NaN</td>\n",
       "      <td>NaN</td>\n",
       "    </tr>\n",
       "    <tr>\n",
       "      <th>9</th>\n",
       "      <td>172.67.169.59</td>\n",
       "      <td>OTX</td>\n",
       "      <td>0</td>\n",
       "      <td>NaN</td>\n",
       "      <td>NaN</td>\n",
       "    </tr>\n",
       "    <tr>\n",
       "      <th>12</th>\n",
       "      <td>aws.amazon.com</td>\n",
       "      <td>OTX</td>\n",
       "      <td>0</td>\n",
       "      <td>NaN</td>\n",
       "      <td>NaN</td>\n",
       "    </tr>\n",
       "  </tbody>\n",
       "</table>\n",
       "</div>"
      ],
      "text/plain": [
       "                   Ioc Provider  Details.pulse_count  \\\n",
       "6         194.5.249.46      OTX                   11   \n",
       "7         185.33.85.35      OTX                    8   \n",
       "10      38.135.122.194      OTX                    6   \n",
       "0   coursemcclurez.com      OTX                    5   \n",
       "3       fimlubindu.top      OTX                    5   \n",
       "5       kilodaser4.fit      OTX                    2   \n",
       "1          65.8.218.70      OTX                    1   \n",
       "4     extrimefigim.top      OTX                    1   \n",
       "11      arhannexa5.top      OTX                    1   \n",
       "2       45.142.213.105      OTX                    0   \n",
       "8     supplementik.top      OTX                    0   \n",
       "9        172.67.169.59      OTX                    0   \n",
       "12      aws.amazon.com      OTX                    0   \n",
       "\n",
       "                                                                                                                                                                                                                                                                                                  Details.names  \\\n",
       "6                                                                                         [Tracking IcedID Servers, test, test, test, test, test, TOR Nodes, Log4j Scanning Hosts, TA551 IcedID C2 Infrastructure (Suspected), ThreatFox2020604, Melting Ice – Tracking IcedID Servers with a few simple steps]   \n",
       "7   [Tracking IcedID Servers, Log4J Exploit, Log4j Scanning Hosts, TA551 IcedID C2 Infrastructure (Suspected), ThreatFox2020604, Melting Ice – Tracking IcedID Servers with a few simple steps, Team Cymru tacks BokBot infrastructure, TA551 (Shathak) pushes IcedID (Bokbot) - List of indicators - May 2021]   \n",
       "10                                                                                                                                                       [asdAS, Conti Ransomware (12 May 2021), Conti Ransomware IOCs, Conti IOC CyberLab, Additional Conti IOCs - May 2021, Conti Ransomware IOCs - May 2021]   \n",
       "0                                                                                                         [Malware - Malware Domain Feed V2 - November 03 2020, Malware - Malware Domain Feed V2 - November 03 2020, TA551 domains, NewDom-1-20210530, TA551 - IcedID - IOCs - April, May & June 2021 Campaign]   \n",
       "3                                                                                                     [Tracking BokBot (IcedID) Infrastructure, MacOS EvilQuest - Unpacked, Threatfox 20210527, Team Cymru tacks BokBot infrastructure, TA551 (Shathak) pushes IcedID (Bokbot) - List of indicators - May 2021]   \n",
       "5                                                                                                                                                                                                                    [ThreatFox2020604, TA551 (Shathak) pushes IcedID (Bokbot) - List of indicators - May 2021]   \n",
       "1                                                                                                                                                                                                                                                                                  [MacOS EvilQuest - Unpacked]   \n",
       "4                                                                                                                                                                                                                                                                                          [Threatfox 20210527]   \n",
       "11                                                                                                                                                                                                                                                                                           [ThreatFox2020604]   \n",
       "2                                                                                                                                                                                                                                                                                                           NaN   \n",
       "8                                                                                                                                                                                                                                                                                                           NaN   \n",
       "9                                                                                                                                                                                                                                                                                                           NaN   \n",
       "12                                                                                                                                                                                                                                                                                                          NaN   \n",
       "\n",
       "                                                                                                                                                                                                                                                                                                                                                                                                                                                                                                                       Details.references  \n",
       "6                                                                                                                                                                                                                    [[https://research.checkpoint.com/2021/melting-ice-tracking-icedid-servers-with-a-few-simple-steps/], [], [], [], [], [], [], [Log4j Scanning Hosts.pdf], [], [https://threatfox.abuse.ch/export/json/recent/], [https://research.checkpoint.com/2021/melting-ice-tracking-icedid-servers-with-a-few-simple-steps/]]  \n",
       "7   [[https://research.checkpoint.com/2021/melting-ice-tracking-icedid-servers-with-a-few-simple-steps/], [], [Log4j Scanning Hosts.pdf], [], [https://threatfox.abuse.ch/export/json/recent/], [https://research.checkpoint.com/2021/melting-ice-tracking-icedid-servers-with-a-few-simple-steps/], [https://team-cymru.com/blog/2021/05/19/tracking-bokbot-infrastructure/], [https://github.com/pan-unit42/tweets/blob/master/2021-05-17-TA551-IOCs-for-IcedID.txt, https://twitter.com/Unit42_Intel/status/1394659804329693186?s=20]]  \n",
       "10                                                                                                                                                                                                                                                                                                                                       [[], [https://thedfirreport.com/2021/05/12/conti-ransomware/], [], [], [https://twitter.com/TheDFIRReport/status/1392443471357779970], [https://thedfirreport.com/2021/05/12/conti-ransomware/]]  \n",
       "0                                                                                                                                                                                                                                                                            [[], [], [https://raw.githubusercontent.com/hpthreatresearch/iocs/main/TA551/domains.txt, https://threatresearch.ext.hp.com/detecting-ta551-domains/], [], [https://docs.google.com/spreadsheets/d/1N7YSoS5nXYHLnGNrJdCDP40wMmTLHG5X5lbM2EW8UOY/edit#gid=0]]  \n",
       "3                                                                                                            [[https://team-cymru.com/blog/2021/05/19/tracking-bokbot-infrastructure/, https://github.com/team-cymru/iocs/tree/master/bokbot], [], [https://threatfox.abuse.ch/export/json/recent/], [https://team-cymru.com/blog/2021/05/19/tracking-bokbot-infrastructure/], [https://github.com/pan-unit42/tweets/blob/master/2021-05-17-TA551-IOCs-for-IcedID.txt, https://twitter.com/Unit42_Intel/status/1394659804329693186?s=20]]  \n",
       "5                                                                                                                                                                                                                                                                                                                           [[https://threatfox.abuse.ch/export/json/recent/], [https://github.com/pan-unit42/tweets/blob/master/2021-05-17-TA551-IOCs-for-IcedID.txt, https://twitter.com/Unit42_Intel/status/1394659804329693186?s=20]]  \n",
       "1                                                                                                                                                                                                                                                                                                                                                                                                                                                                                                                                    [[]]  \n",
       "4                                                                                                                                                                                                                                                                                                                                                                                                                                                                                      [[https://threatfox.abuse.ch/export/json/recent/]]  \n",
       "11                                                                                                                                                                                                                                                                                                                                                                                                                                                                                     [[https://threatfox.abuse.ch/export/json/recent/]]  \n",
       "2                                                                                                                                                                                                                                                                                                                                                                                                                                                                                                                                     NaN  \n",
       "8                                                                                                                                                                                                                                                                                                                                                                                                                                                                                                                                     NaN  \n",
       "9                                                                                                                                                                                                                                                                                                                                                                                                                                                                                                                                     NaN  \n",
       "12                                                                                                                                                                                                                                                                                                                                                                                                                                                                                                                                    NaN  "
      ]
     },
     "execution_count": 9,
     "metadata": {},
     "output_type": "execute_result"
    }
   ],
   "source": [
    "# any IoCs in the string?\n",
    "iocs_found = ioc_extractor.extract(data=df_suricata.fillna(''), columns=['src_ip','dest_ip','dns.rrname'])\n",
    "iocs_found = iocs_found['Observable'].drop_duplicates()\n",
    "df_ti = ti.lookup_iocs(data=iocs_found, providers=[\"VirusTotal\", \"OTX\"])\n",
    "df_suspnetworkconnections = df_ti[df_ti['Result']==True]\n",
    "df_suspnetworkconnections = pd.json_normalize(data=df_suspnetworkconnections[['Ioc','Provider','Details']].to_dict(orient='records')).sort_values(by=['Details.pulse_count'], ascending=False)\n",
    "df_suspnetworkconnections[['Ioc','Provider','Details.pulse_count','Details.names','Details.references']]"
   ]
  },
  {
   "attachments": {},
   "cell_type": "markdown",
   "metadata": {},
   "source": [
    "### Statistiques"
   ]
  },
  {
   "attachments": {},
   "cell_type": "markdown",
   "metadata": {},
   "source": [
    "#### Déterminer les types de connexions réalisés"
   ]
  },
  {
   "cell_type": "code",
   "execution_count": 12,
   "metadata": {},
   "outputs": [
    {
     "data": {
      "text/html": [
       "<div>\n",
       "<style scoped>\n",
       "    .dataframe tbody tr th:only-of-type {\n",
       "        vertical-align: middle;\n",
       "    }\n",
       "\n",
       "    .dataframe tbody tr th {\n",
       "        vertical-align: top;\n",
       "    }\n",
       "\n",
       "    .dataframe thead th {\n",
       "        text-align: right;\n",
       "    }\n",
       "</style>\n",
       "<table border=\"1\" class=\"dataframe\">\n",
       "  <thead>\n",
       "    <tr style=\"text-align: right;\">\n",
       "      <th></th>\n",
       "      <th>event_type</th>\n",
       "      <th>count</th>\n",
       "    </tr>\n",
       "  </thead>\n",
       "  <tbody>\n",
       "    <tr>\n",
       "      <th>5</th>\n",
       "      <td>stats</td>\n",
       "      <td>1</td>\n",
       "    </tr>\n",
       "    <tr>\n",
       "      <th>2</th>\n",
       "      <td>fileinfo</td>\n",
       "      <td>2</td>\n",
       "    </tr>\n",
       "    <tr>\n",
       "      <th>4</th>\n",
       "      <td>http</td>\n",
       "      <td>2</td>\n",
       "    </tr>\n",
       "    <tr>\n",
       "      <th>6</th>\n",
       "      <td>tls</td>\n",
       "      <td>9</td>\n",
       "    </tr>\n",
       "    <tr>\n",
       "      <th>1</th>\n",
       "      <td>dns</td>\n",
       "      <td>16</td>\n",
       "    </tr>\n",
       "    <tr>\n",
       "      <th>0</th>\n",
       "      <td>alert</td>\n",
       "      <td>19</td>\n",
       "    </tr>\n",
       "    <tr>\n",
       "      <th>3</th>\n",
       "      <td>flow</td>\n",
       "      <td>21</td>\n",
       "    </tr>\n",
       "  </tbody>\n",
       "</table>\n",
       "</div>"
      ],
      "text/plain": [
       "  event_type  count\n",
       "5      stats      1\n",
       "2   fileinfo      2\n",
       "4       http      2\n",
       "6        tls      9\n",
       "1        dns     16\n",
       "0      alert     19\n",
       "3       flow     21"
      ]
     },
     "execution_count": 12,
     "metadata": {},
     "output_type": "execute_result"
    }
   ],
   "source": [
    "df_suricata.groupby(by='event_type').size().reset_index(name='count').sort_values(by=['count'])"
   ]
  },
  {
   "attachments": {},
   "cell_type": "markdown",
   "metadata": {},
   "source": [
    "#### Determiner les noms de domaines recherchés\n",
    "\n",
    "Cette analyse permet de recenser les noms de domaines non communs pouvant résulter d'une attaque en cours."
   ]
  },
  {
   "cell_type": "code",
   "execution_count": 13,
   "metadata": {},
   "outputs": [
    {
     "data": {
      "text/html": [
       "<div>\n",
       "<style scoped>\n",
       "    .dataframe tbody tr th:only-of-type {\n",
       "        vertical-align: middle;\n",
       "    }\n",
       "\n",
       "    .dataframe tbody tr th {\n",
       "        vertical-align: top;\n",
       "    }\n",
       "\n",
       "    .dataframe thead th {\n",
       "        text-align: right;\n",
       "    }\n",
       "</style>\n",
       "<table border=\"1\" class=\"dataframe\">\n",
       "  <thead>\n",
       "    <tr style=\"text-align: right;\">\n",
       "      <th></th>\n",
       "      <th>timestamp</th>\n",
       "      <th>dns.rrname</th>\n",
       "      <th>dns.rrtype</th>\n",
       "      <th>dns.rcode</th>\n",
       "      <th>dns.grouped</th>\n",
       "    </tr>\n",
       "  </thead>\n",
       "  <tbody>\n",
       "    <tr>\n",
       "      <th>1</th>\n",
       "      <td>2021-06-02 20:49:58.429250+00:00</td>\n",
       "      <td>coursemcclurez.com</td>\n",
       "      <td>A</td>\n",
       "      <td>NOERROR</td>\n",
       "      <td>{'A': ['45.142.213.105']}</td>\n",
       "    </tr>\n",
       "    <tr>\n",
       "      <th>9</th>\n",
       "      <td>2021-06-02 20:51:11.127796+00:00</td>\n",
       "      <td>extrimefigim.top</td>\n",
       "      <td>A</td>\n",
       "      <td>NOERROR</td>\n",
       "      <td>{'A': ['194.5.249.46']}</td>\n",
       "    </tr>\n",
       "    <tr>\n",
       "      <th>10</th>\n",
       "      <td>2021-06-02 20:50:11.633734+00:00</td>\n",
       "      <td>fimlubindu.top</td>\n",
       "      <td>A</td>\n",
       "      <td>NOERROR</td>\n",
       "      <td>{'A': ['185.33.85.35']}</td>\n",
       "    </tr>\n",
       "    <tr>\n",
       "      <th>13</th>\n",
       "      <td>2021-06-02 20:51:15.560390+00:00</td>\n",
       "      <td>kilodaser4.fit</td>\n",
       "      <td>A</td>\n",
       "      <td>NOERROR</td>\n",
       "      <td>{'A': ['185.33.85.35']}</td>\n",
       "    </tr>\n",
       "    <tr>\n",
       "      <th>28</th>\n",
       "      <td>2021-06-02 20:50:06.827231+00:00</td>\n",
       "      <td>supplementik.top</td>\n",
       "      <td>A</td>\n",
       "      <td>NOERROR</td>\n",
       "      <td>{'A': ['172.67.169.59', '104.21.79.67']}</td>\n",
       "    </tr>\n",
       "    <tr>\n",
       "      <th>39</th>\n",
       "      <td>2021-06-02 21:01:13.997203+00:00</td>\n",
       "      <td>arhannexa5.top</td>\n",
       "      <td>A</td>\n",
       "      <td>NOERROR</td>\n",
       "      <td>{'A': ['185.33.85.35']}</td>\n",
       "    </tr>\n",
       "    <tr>\n",
       "      <th>43</th>\n",
       "      <td>2021-06-02 20:50:05.568889+00:00</td>\n",
       "      <td>aws.amazon.com</td>\n",
       "      <td>A</td>\n",
       "      <td>NOERROR</td>\n",
       "      <td>{'CNAME': ['tp.8e49140c2-frontier.amazon.com', 'dr49lng3n1n2s.cloudfront.net'], 'A': ['65.8.218.70']}</td>\n",
       "    </tr>\n",
       "    <tr>\n",
       "      <th>47</th>\n",
       "      <td>2021-06-02 20:51:16.026333+00:00</td>\n",
       "      <td>arhannexa5.top</td>\n",
       "      <td>A</td>\n",
       "      <td>NOERROR</td>\n",
       "      <td>{'A': ['185.33.85.35']}</td>\n",
       "    </tr>\n",
       "  </tbody>\n",
       "</table>\n",
       "</div>"
      ],
      "text/plain": [
       "                          timestamp          dns.rrname dns.rrtype dns.rcode  \\\n",
       "1  2021-06-02 20:49:58.429250+00:00  coursemcclurez.com          A   NOERROR   \n",
       "9  2021-06-02 20:51:11.127796+00:00    extrimefigim.top          A   NOERROR   \n",
       "10 2021-06-02 20:50:11.633734+00:00      fimlubindu.top          A   NOERROR   \n",
       "13 2021-06-02 20:51:15.560390+00:00      kilodaser4.fit          A   NOERROR   \n",
       "28 2021-06-02 20:50:06.827231+00:00    supplementik.top          A   NOERROR   \n",
       "39 2021-06-02 21:01:13.997203+00:00      arhannexa5.top          A   NOERROR   \n",
       "43 2021-06-02 20:50:05.568889+00:00      aws.amazon.com          A   NOERROR   \n",
       "47 2021-06-02 20:51:16.026333+00:00      arhannexa5.top          A   NOERROR   \n",
       "\n",
       "                                                                                              dns.grouped  \n",
       "1                                                                               {'A': ['45.142.213.105']}  \n",
       "9                                                                                 {'A': ['194.5.249.46']}  \n",
       "10                                                                                {'A': ['185.33.85.35']}  \n",
       "13                                                                                {'A': ['185.33.85.35']}  \n",
       "28                                                               {'A': ['172.67.169.59', '104.21.79.67']}  \n",
       "39                                                                                {'A': ['185.33.85.35']}  \n",
       "43  {'CNAME': ['tp.8e49140c2-frontier.amazon.com', 'dr49lng3n1n2s.cloudfront.net'], 'A': ['65.8.218.70']}  \n",
       "47                                                                                {'A': ['185.33.85.35']}  "
      ]
     },
     "execution_count": 13,
     "metadata": {},
     "output_type": "execute_result"
    }
   ],
   "source": [
    "df_suricata[df_suricata.event_type=='dns'][['timestamp','dns.rrname','dns.rrtype','dns.rcode','dns.grouped']].dropna()"
   ]
  },
  {
   "attachments": {},
   "cell_type": "markdown",
   "metadata": {},
   "source": [
    "#### Déterminer les fréquences de connexions\n",
    "\n",
    "Il est également possible d'identifier les récurrences de connexions vers une même adresse ip de destination."
   ]
  },
  {
   "cell_type": "code",
   "execution_count": 14,
   "metadata": {},
   "outputs": [
    {
     "data": {
      "text/html": [
       "<div>\n",
       "<style scoped>\n",
       "    .dataframe tbody tr th:only-of-type {\n",
       "        vertical-align: middle;\n",
       "    }\n",
       "\n",
       "    .dataframe tbody tr th {\n",
       "        vertical-align: top;\n",
       "    }\n",
       "\n",
       "    .dataframe thead th {\n",
       "        text-align: right;\n",
       "    }\n",
       "</style>\n",
       "<table border=\"1\" class=\"dataframe\">\n",
       "  <thead>\n",
       "    <tr style=\"text-align: right;\">\n",
       "      <th></th>\n",
       "      <th>dest_ip</th>\n",
       "      <th>count</th>\n",
       "    </tr>\n",
       "  </thead>\n",
       "  <tbody>\n",
       "    <tr>\n",
       "      <th>0</th>\n",
       "      <td>10.6.2.1</td>\n",
       "      <td>30</td>\n",
       "    </tr>\n",
       "    <tr>\n",
       "      <th>1</th>\n",
       "      <td>10.6.2.103</td>\n",
       "      <td>12</td>\n",
       "    </tr>\n",
       "    <tr>\n",
       "      <th>3</th>\n",
       "      <td>185.33.85.35</td>\n",
       "      <td>10</td>\n",
       "    </tr>\n",
       "    <tr>\n",
       "      <th>4</th>\n",
       "      <td>194.5.249.46</td>\n",
       "      <td>6</td>\n",
       "    </tr>\n",
       "    <tr>\n",
       "      <th>2</th>\n",
       "      <td>172.67.169.59</td>\n",
       "      <td>4</td>\n",
       "    </tr>\n",
       "    <tr>\n",
       "      <th>5</th>\n",
       "      <td>38.135.122.194</td>\n",
       "      <td>3</td>\n",
       "    </tr>\n",
       "    <tr>\n",
       "      <th>6</th>\n",
       "      <td>45.142.213.105</td>\n",
       "      <td>2</td>\n",
       "    </tr>\n",
       "    <tr>\n",
       "      <th>7</th>\n",
       "      <td>65.8.218.70</td>\n",
       "      <td>2</td>\n",
       "    </tr>\n",
       "  </tbody>\n",
       "</table>\n",
       "</div>"
      ],
      "text/plain": [
       "          dest_ip  count\n",
       "0        10.6.2.1     30\n",
       "1      10.6.2.103     12\n",
       "3    185.33.85.35     10\n",
       "4    194.5.249.46      6\n",
       "2   172.67.169.59      4\n",
       "5  38.135.122.194      3\n",
       "6  45.142.213.105      2\n",
       "7     65.8.218.70      2"
      ]
     },
     "execution_count": 14,
     "metadata": {},
     "output_type": "execute_result"
    }
   ],
   "source": [
    "df_suricata.groupby('dest_ip').size().reset_index(name='count').sort_values(by=['count'], ascending=False)"
   ]
  },
  {
   "attachments": {},
   "cell_type": "markdown",
   "metadata": {},
   "source": [
    "#### [TODO] Determiner les connexions réalisées à intervale régulier en parcourant l'ensemble des flow.\n",
    "\n",
    "Cette analyse permet notamment d'identifier les beacons présents sur notre réseau."
   ]
  },
  {
   "cell_type": "code",
   "execution_count": 15,
   "metadata": {},
   "outputs": [
    {
     "data": {
      "application/vnd.plotly.v1+json": {
       "config": {
        "plotlyServerURL": "https://plot.ly"
       },
       "data": [
        {
         "alignmentgroup": "True",
         "hovertemplate": "timestamp=%{x}<br>flow.bytes_toclient=%{y}<extra></extra>",
         "legendgroup": "",
         "marker": {
          "color": "#636efa"
         },
         "name": "",
         "notched": false,
         "offsetgroup": "",
         "orientation": "v",
         "showlegend": false,
         "type": "box",
         "x": [
          "2021-06-02T20:49:58.251401+00:00",
          "2021-06-02T20:49:58.251401+00:00",
          "2021-06-02T20:49:58.251401+00:00",
          "2021-06-02T20:49:58.251401+00:00",
          "2021-06-02T20:49:58.251401+00:00",
          "2021-06-02T20:49:58.251401+00:00",
          "2021-06-02T20:49:58.251401+00:00",
          "2021-06-02T20:49:58.251401+00:00",
          "2021-06-02T20:49:58.251401+00:00",
          "2021-06-02T20:49:58.251401+00:00",
          "2021-06-02T20:49:58.251401+00:00",
          "2021-06-02T20:49:58.251401+00:00",
          "2021-06-02T20:49:58.251401+00:00",
          "2021-06-02T20:49:58.251401+00:00",
          "2021-06-02T20:49:58.251401+00:00",
          "2021-06-02T20:49:58.251401+00:00",
          "2021-06-02T20:49:58.251401+00:00",
          "2021-06-02T20:49:58.251401+00:00",
          "2021-06-02T20:49:58.251401+00:00",
          "2021-06-02T20:49:58.251401+00:00",
          "2021-06-02T20:49:58.251401+00:00",
          "2021-06-02T20:49:58.251401+00:00",
          "2021-06-02T20:49:58.429250+00:00",
          "2021-06-02T20:49:59.360685+00:00",
          "2021-06-02T20:49:59.360685+00:00",
          "2021-06-02T20:49:59.649918+00:00",
          "2021-06-02T20:50:00.847269+00:00",
          "2021-06-02T20:50:05.520387+00:00",
          "2021-06-02T20:50:05.568889+00:00",
          "2021-06-02T20:50:05.682228+00:00",
          "2021-06-02T20:50:06.760680+00:00",
          "2021-06-02T20:50:06.760680+00:00",
          "2021-06-02T20:50:06.827231+00:00",
          "2021-06-02T20:50:07.384492+00:00",
          "2021-06-02T20:50:07.384492+00:00",
          "2021-06-02T20:50:07.686140+00:00",
          "2021-06-02T20:50:09.879019+00:00",
          "2021-06-02T20:50:11.547355+00:00",
          "2021-06-02T20:50:11.547355+00:00",
          "2021-06-02T20:50:11.633734+00:00",
          "2021-06-02T20:50:11.783117+00:00",
          "2021-06-02T20:50:11.843280+00:00",
          "2021-06-02T20:51:11.037312+00:00",
          "2021-06-02T20:51:11.037312+00:00",
          "2021-06-02T20:51:11.127796+00:00",
          "2021-06-02T20:51:11.517936+00:00",
          "2021-06-02T20:51:11.541101+00:00",
          "2021-06-02T20:51:15.162488+00:00",
          "2021-06-02T20:51:15.168937+00:00",
          "2021-06-02T20:51:15.186221+00:00",
          "2021-06-02T20:51:15.196339+00:00",
          "2021-06-02T20:51:15.495366+00:00",
          "2021-06-02T20:51:15.495366+00:00",
          "2021-06-02T20:51:15.560390+00:00",
          "2021-06-02T20:51:15.691049+00:00",
          "2021-06-02T20:51:15.740245+00:00",
          "2021-06-02T20:51:15.938512+00:00",
          "2021-06-02T20:51:15.938512+00:00",
          "2021-06-02T20:51:16.026333+00:00",
          "2021-06-02T20:51:16.165830+00:00",
          "2021-06-02T20:51:16.220223+00:00",
          "2021-06-02T20:56:13.216936+00:00",
          "2021-06-02T20:56:13.274261+00:00",
          "2021-06-02T20:58:52.840946+00:00",
          "2021-06-02T21:01:13.945771+00:00",
          "2021-06-02T21:01:13.945771+00:00",
          "2021-06-02T21:01:13.997203+00:00",
          "2021-06-02T21:01:14.151444+00:00",
          "2021-06-02T21:01:14.204128+00:00",
          "2023-06-12T17:41:50.401600+00:00"
         ],
         "x0": " ",
         "xaxis": "x",
         "y": [
          null,
          108,
          90,
          168,
          94,
          90,
          90,
          92,
          41375,
          90,
          3407,
          522,
          252853,
          573316,
          1982159,
          2496,
          3106,
          2386,
          4002,
          2065,
          2119,
          778140,
          null,
          44462,
          44462,
          null,
          null,
          null,
          null,
          null,
          0,
          null,
          null,
          3765,
          3765,
          null,
          null,
          null,
          0,
          null,
          null,
          1788,
          0,
          null,
          null,
          null,
          1530,
          null,
          null,
          1530,
          1530,
          null,
          0,
          null,
          null,
          1788,
          null,
          0,
          null,
          null,
          1788,
          null,
          1788,
          66,
          null,
          0,
          null,
          null,
          1788,
          null
         ],
         "y0": " ",
         "yaxis": "y"
        }
       ],
       "layout": {
        "boxmode": "group",
        "legend": {
         "tracegroupgap": 0
        },
        "margin": {
         "t": 60
        },
        "template": {
         "data": {
          "bar": [
           {
            "error_x": {
             "color": "#2a3f5f"
            },
            "error_y": {
             "color": "#2a3f5f"
            },
            "marker": {
             "line": {
              "color": "#E5ECF6",
              "width": 0.5
             },
             "pattern": {
              "fillmode": "overlay",
              "size": 10,
              "solidity": 0.2
             }
            },
            "type": "bar"
           }
          ],
          "barpolar": [
           {
            "marker": {
             "line": {
              "color": "#E5ECF6",
              "width": 0.5
             },
             "pattern": {
              "fillmode": "overlay",
              "size": 10,
              "solidity": 0.2
             }
            },
            "type": "barpolar"
           }
          ],
          "carpet": [
           {
            "aaxis": {
             "endlinecolor": "#2a3f5f",
             "gridcolor": "white",
             "linecolor": "white",
             "minorgridcolor": "white",
             "startlinecolor": "#2a3f5f"
            },
            "baxis": {
             "endlinecolor": "#2a3f5f",
             "gridcolor": "white",
             "linecolor": "white",
             "minorgridcolor": "white",
             "startlinecolor": "#2a3f5f"
            },
            "type": "carpet"
           }
          ],
          "choropleth": [
           {
            "colorbar": {
             "outlinewidth": 0,
             "ticks": ""
            },
            "type": "choropleth"
           }
          ],
          "contour": [
           {
            "colorbar": {
             "outlinewidth": 0,
             "ticks": ""
            },
            "colorscale": [
             [
              0,
              "#0d0887"
             ],
             [
              0.1111111111111111,
              "#46039f"
             ],
             [
              0.2222222222222222,
              "#7201a8"
             ],
             [
              0.3333333333333333,
              "#9c179e"
             ],
             [
              0.4444444444444444,
              "#bd3786"
             ],
             [
              0.5555555555555556,
              "#d8576b"
             ],
             [
              0.6666666666666666,
              "#ed7953"
             ],
             [
              0.7777777777777778,
              "#fb9f3a"
             ],
             [
              0.8888888888888888,
              "#fdca26"
             ],
             [
              1,
              "#f0f921"
             ]
            ],
            "type": "contour"
           }
          ],
          "contourcarpet": [
           {
            "colorbar": {
             "outlinewidth": 0,
             "ticks": ""
            },
            "type": "contourcarpet"
           }
          ],
          "heatmap": [
           {
            "colorbar": {
             "outlinewidth": 0,
             "ticks": ""
            },
            "colorscale": [
             [
              0,
              "#0d0887"
             ],
             [
              0.1111111111111111,
              "#46039f"
             ],
             [
              0.2222222222222222,
              "#7201a8"
             ],
             [
              0.3333333333333333,
              "#9c179e"
             ],
             [
              0.4444444444444444,
              "#bd3786"
             ],
             [
              0.5555555555555556,
              "#d8576b"
             ],
             [
              0.6666666666666666,
              "#ed7953"
             ],
             [
              0.7777777777777778,
              "#fb9f3a"
             ],
             [
              0.8888888888888888,
              "#fdca26"
             ],
             [
              1,
              "#f0f921"
             ]
            ],
            "type": "heatmap"
           }
          ],
          "heatmapgl": [
           {
            "colorbar": {
             "outlinewidth": 0,
             "ticks": ""
            },
            "colorscale": [
             [
              0,
              "#0d0887"
             ],
             [
              0.1111111111111111,
              "#46039f"
             ],
             [
              0.2222222222222222,
              "#7201a8"
             ],
             [
              0.3333333333333333,
              "#9c179e"
             ],
             [
              0.4444444444444444,
              "#bd3786"
             ],
             [
              0.5555555555555556,
              "#d8576b"
             ],
             [
              0.6666666666666666,
              "#ed7953"
             ],
             [
              0.7777777777777778,
              "#fb9f3a"
             ],
             [
              0.8888888888888888,
              "#fdca26"
             ],
             [
              1,
              "#f0f921"
             ]
            ],
            "type": "heatmapgl"
           }
          ],
          "histogram": [
           {
            "marker": {
             "pattern": {
              "fillmode": "overlay",
              "size": 10,
              "solidity": 0.2
             }
            },
            "type": "histogram"
           }
          ],
          "histogram2d": [
           {
            "colorbar": {
             "outlinewidth": 0,
             "ticks": ""
            },
            "colorscale": [
             [
              0,
              "#0d0887"
             ],
             [
              0.1111111111111111,
              "#46039f"
             ],
             [
              0.2222222222222222,
              "#7201a8"
             ],
             [
              0.3333333333333333,
              "#9c179e"
             ],
             [
              0.4444444444444444,
              "#bd3786"
             ],
             [
              0.5555555555555556,
              "#d8576b"
             ],
             [
              0.6666666666666666,
              "#ed7953"
             ],
             [
              0.7777777777777778,
              "#fb9f3a"
             ],
             [
              0.8888888888888888,
              "#fdca26"
             ],
             [
              1,
              "#f0f921"
             ]
            ],
            "type": "histogram2d"
           }
          ],
          "histogram2dcontour": [
           {
            "colorbar": {
             "outlinewidth": 0,
             "ticks": ""
            },
            "colorscale": [
             [
              0,
              "#0d0887"
             ],
             [
              0.1111111111111111,
              "#46039f"
             ],
             [
              0.2222222222222222,
              "#7201a8"
             ],
             [
              0.3333333333333333,
              "#9c179e"
             ],
             [
              0.4444444444444444,
              "#bd3786"
             ],
             [
              0.5555555555555556,
              "#d8576b"
             ],
             [
              0.6666666666666666,
              "#ed7953"
             ],
             [
              0.7777777777777778,
              "#fb9f3a"
             ],
             [
              0.8888888888888888,
              "#fdca26"
             ],
             [
              1,
              "#f0f921"
             ]
            ],
            "type": "histogram2dcontour"
           }
          ],
          "mesh3d": [
           {
            "colorbar": {
             "outlinewidth": 0,
             "ticks": ""
            },
            "type": "mesh3d"
           }
          ],
          "parcoords": [
           {
            "line": {
             "colorbar": {
              "outlinewidth": 0,
              "ticks": ""
             }
            },
            "type": "parcoords"
           }
          ],
          "pie": [
           {
            "automargin": true,
            "type": "pie"
           }
          ],
          "scatter": [
           {
            "fillpattern": {
             "fillmode": "overlay",
             "size": 10,
             "solidity": 0.2
            },
            "type": "scatter"
           }
          ],
          "scatter3d": [
           {
            "line": {
             "colorbar": {
              "outlinewidth": 0,
              "ticks": ""
             }
            },
            "marker": {
             "colorbar": {
              "outlinewidth": 0,
              "ticks": ""
             }
            },
            "type": "scatter3d"
           }
          ],
          "scattercarpet": [
           {
            "marker": {
             "colorbar": {
              "outlinewidth": 0,
              "ticks": ""
             }
            },
            "type": "scattercarpet"
           }
          ],
          "scattergeo": [
           {
            "marker": {
             "colorbar": {
              "outlinewidth": 0,
              "ticks": ""
             }
            },
            "type": "scattergeo"
           }
          ],
          "scattergl": [
           {
            "marker": {
             "colorbar": {
              "outlinewidth": 0,
              "ticks": ""
             }
            },
            "type": "scattergl"
           }
          ],
          "scattermapbox": [
           {
            "marker": {
             "colorbar": {
              "outlinewidth": 0,
              "ticks": ""
             }
            },
            "type": "scattermapbox"
           }
          ],
          "scatterpolar": [
           {
            "marker": {
             "colorbar": {
              "outlinewidth": 0,
              "ticks": ""
             }
            },
            "type": "scatterpolar"
           }
          ],
          "scatterpolargl": [
           {
            "marker": {
             "colorbar": {
              "outlinewidth": 0,
              "ticks": ""
             }
            },
            "type": "scatterpolargl"
           }
          ],
          "scatterternary": [
           {
            "marker": {
             "colorbar": {
              "outlinewidth": 0,
              "ticks": ""
             }
            },
            "type": "scatterternary"
           }
          ],
          "surface": [
           {
            "colorbar": {
             "outlinewidth": 0,
             "ticks": ""
            },
            "colorscale": [
             [
              0,
              "#0d0887"
             ],
             [
              0.1111111111111111,
              "#46039f"
             ],
             [
              0.2222222222222222,
              "#7201a8"
             ],
             [
              0.3333333333333333,
              "#9c179e"
             ],
             [
              0.4444444444444444,
              "#bd3786"
             ],
             [
              0.5555555555555556,
              "#d8576b"
             ],
             [
              0.6666666666666666,
              "#ed7953"
             ],
             [
              0.7777777777777778,
              "#fb9f3a"
             ],
             [
              0.8888888888888888,
              "#fdca26"
             ],
             [
              1,
              "#f0f921"
             ]
            ],
            "type": "surface"
           }
          ],
          "table": [
           {
            "cells": {
             "fill": {
              "color": "#EBF0F8"
             },
             "line": {
              "color": "white"
             }
            },
            "header": {
             "fill": {
              "color": "#C8D4E3"
             },
             "line": {
              "color": "white"
             }
            },
            "type": "table"
           }
          ]
         },
         "layout": {
          "annotationdefaults": {
           "arrowcolor": "#2a3f5f",
           "arrowhead": 0,
           "arrowwidth": 1
          },
          "autotypenumbers": "strict",
          "coloraxis": {
           "colorbar": {
            "outlinewidth": 0,
            "ticks": ""
           }
          },
          "colorscale": {
           "diverging": [
            [
             0,
             "#8e0152"
            ],
            [
             0.1,
             "#c51b7d"
            ],
            [
             0.2,
             "#de77ae"
            ],
            [
             0.3,
             "#f1b6da"
            ],
            [
             0.4,
             "#fde0ef"
            ],
            [
             0.5,
             "#f7f7f7"
            ],
            [
             0.6,
             "#e6f5d0"
            ],
            [
             0.7,
             "#b8e186"
            ],
            [
             0.8,
             "#7fbc41"
            ],
            [
             0.9,
             "#4d9221"
            ],
            [
             1,
             "#276419"
            ]
           ],
           "sequential": [
            [
             0,
             "#0d0887"
            ],
            [
             0.1111111111111111,
             "#46039f"
            ],
            [
             0.2222222222222222,
             "#7201a8"
            ],
            [
             0.3333333333333333,
             "#9c179e"
            ],
            [
             0.4444444444444444,
             "#bd3786"
            ],
            [
             0.5555555555555556,
             "#d8576b"
            ],
            [
             0.6666666666666666,
             "#ed7953"
            ],
            [
             0.7777777777777778,
             "#fb9f3a"
            ],
            [
             0.8888888888888888,
             "#fdca26"
            ],
            [
             1,
             "#f0f921"
            ]
           ],
           "sequentialminus": [
            [
             0,
             "#0d0887"
            ],
            [
             0.1111111111111111,
             "#46039f"
            ],
            [
             0.2222222222222222,
             "#7201a8"
            ],
            [
             0.3333333333333333,
             "#9c179e"
            ],
            [
             0.4444444444444444,
             "#bd3786"
            ],
            [
             0.5555555555555556,
             "#d8576b"
            ],
            [
             0.6666666666666666,
             "#ed7953"
            ],
            [
             0.7777777777777778,
             "#fb9f3a"
            ],
            [
             0.8888888888888888,
             "#fdca26"
            ],
            [
             1,
             "#f0f921"
            ]
           ]
          },
          "colorway": [
           "#636efa",
           "#EF553B",
           "#00cc96",
           "#ab63fa",
           "#FFA15A",
           "#19d3f3",
           "#FF6692",
           "#B6E880",
           "#FF97FF",
           "#FECB52"
          ],
          "font": {
           "color": "#2a3f5f"
          },
          "geo": {
           "bgcolor": "white",
           "lakecolor": "white",
           "landcolor": "#E5ECF6",
           "showlakes": true,
           "showland": true,
           "subunitcolor": "white"
          },
          "hoverlabel": {
           "align": "left"
          },
          "hovermode": "closest",
          "mapbox": {
           "style": "light"
          },
          "paper_bgcolor": "white",
          "plot_bgcolor": "#E5ECF6",
          "polar": {
           "angularaxis": {
            "gridcolor": "white",
            "linecolor": "white",
            "ticks": ""
           },
           "bgcolor": "#E5ECF6",
           "radialaxis": {
            "gridcolor": "white",
            "linecolor": "white",
            "ticks": ""
           }
          },
          "scene": {
           "xaxis": {
            "backgroundcolor": "#E5ECF6",
            "gridcolor": "white",
            "gridwidth": 2,
            "linecolor": "white",
            "showbackground": true,
            "ticks": "",
            "zerolinecolor": "white"
           },
           "yaxis": {
            "backgroundcolor": "#E5ECF6",
            "gridcolor": "white",
            "gridwidth": 2,
            "linecolor": "white",
            "showbackground": true,
            "ticks": "",
            "zerolinecolor": "white"
           },
           "zaxis": {
            "backgroundcolor": "#E5ECF6",
            "gridcolor": "white",
            "gridwidth": 2,
            "linecolor": "white",
            "showbackground": true,
            "ticks": "",
            "zerolinecolor": "white"
           }
          },
          "shapedefaults": {
           "line": {
            "color": "#2a3f5f"
           }
          },
          "ternary": {
           "aaxis": {
            "gridcolor": "white",
            "linecolor": "white",
            "ticks": ""
           },
           "baxis": {
            "gridcolor": "white",
            "linecolor": "white",
            "ticks": ""
           },
           "bgcolor": "#E5ECF6",
           "caxis": {
            "gridcolor": "white",
            "linecolor": "white",
            "ticks": ""
           }
          },
          "title": {
           "x": 0.05
          },
          "xaxis": {
           "automargin": true,
           "gridcolor": "white",
           "linecolor": "white",
           "ticks": "",
           "title": {
            "standoff": 15
           },
           "zerolinecolor": "white",
           "zerolinewidth": 2
          },
          "yaxis": {
           "automargin": true,
           "gridcolor": "white",
           "linecolor": "white",
           "ticks": "",
           "title": {
            "standoff": 15
           },
           "zerolinecolor": "white",
           "zerolinewidth": 2
          }
         }
        },
        "xaxis": {
         "anchor": "y",
         "domain": [
          0,
          1
         ],
         "title": {
          "text": "timestamp"
         }
        },
        "yaxis": {
         "anchor": "x",
         "domain": [
          0,
          1
         ],
         "title": {
          "text": "flow.bytes_toclient"
         }
        }
       }
      }
     },
     "metadata": {},
     "output_type": "display_data"
    },
    {
     "data": {
      "application/vnd.plotly.v1+json": {
       "config": {
        "plotlyServerURL": "https://plot.ly"
       },
       "data": [
        {
         "alignmentgroup": "True",
         "hovertemplate": "timestamp=%{x}<br>flow.bytes_toserver=%{y}<extra></extra>",
         "legendgroup": "",
         "marker": {
          "color": "#636efa"
         },
         "name": "",
         "notched": false,
         "offsetgroup": "",
         "orientation": "v",
         "showlegend": false,
         "type": "box",
         "x": [
          "2021-06-02T20:49:58.251401+00:00",
          "2021-06-02T20:49:58.251401+00:00",
          "2021-06-02T20:49:58.251401+00:00",
          "2021-06-02T20:49:58.251401+00:00",
          "2021-06-02T20:49:58.251401+00:00",
          "2021-06-02T20:49:58.251401+00:00",
          "2021-06-02T20:49:58.251401+00:00",
          "2021-06-02T20:49:58.251401+00:00",
          "2021-06-02T20:49:58.251401+00:00",
          "2021-06-02T20:49:58.251401+00:00",
          "2021-06-02T20:49:58.251401+00:00",
          "2021-06-02T20:49:58.251401+00:00",
          "2021-06-02T20:49:58.251401+00:00",
          "2021-06-02T20:49:58.251401+00:00",
          "2021-06-02T20:49:58.251401+00:00",
          "2021-06-02T20:49:58.251401+00:00",
          "2021-06-02T20:49:58.251401+00:00",
          "2021-06-02T20:49:58.251401+00:00",
          "2021-06-02T20:49:58.251401+00:00",
          "2021-06-02T20:49:58.251401+00:00",
          "2021-06-02T20:49:58.251401+00:00",
          "2021-06-02T20:49:58.251401+00:00",
          "2021-06-02T20:49:58.429250+00:00",
          "2021-06-02T20:49:59.360685+00:00",
          "2021-06-02T20:49:59.360685+00:00",
          "2021-06-02T20:49:59.649918+00:00",
          "2021-06-02T20:50:00.847269+00:00",
          "2021-06-02T20:50:05.520387+00:00",
          "2021-06-02T20:50:05.568889+00:00",
          "2021-06-02T20:50:05.682228+00:00",
          "2021-06-02T20:50:06.760680+00:00",
          "2021-06-02T20:50:06.760680+00:00",
          "2021-06-02T20:50:06.827231+00:00",
          "2021-06-02T20:50:07.384492+00:00",
          "2021-06-02T20:50:07.384492+00:00",
          "2021-06-02T20:50:07.686140+00:00",
          "2021-06-02T20:50:09.879019+00:00",
          "2021-06-02T20:50:11.547355+00:00",
          "2021-06-02T20:50:11.547355+00:00",
          "2021-06-02T20:50:11.633734+00:00",
          "2021-06-02T20:50:11.783117+00:00",
          "2021-06-02T20:50:11.843280+00:00",
          "2021-06-02T20:51:11.037312+00:00",
          "2021-06-02T20:51:11.037312+00:00",
          "2021-06-02T20:51:11.127796+00:00",
          "2021-06-02T20:51:11.517936+00:00",
          "2021-06-02T20:51:11.541101+00:00",
          "2021-06-02T20:51:15.162488+00:00",
          "2021-06-02T20:51:15.168937+00:00",
          "2021-06-02T20:51:15.186221+00:00",
          "2021-06-02T20:51:15.196339+00:00",
          "2021-06-02T20:51:15.495366+00:00",
          "2021-06-02T20:51:15.495366+00:00",
          "2021-06-02T20:51:15.560390+00:00",
          "2021-06-02T20:51:15.691049+00:00",
          "2021-06-02T20:51:15.740245+00:00",
          "2021-06-02T20:51:15.938512+00:00",
          "2021-06-02T20:51:15.938512+00:00",
          "2021-06-02T20:51:16.026333+00:00",
          "2021-06-02T20:51:16.165830+00:00",
          "2021-06-02T20:51:16.220223+00:00",
          "2021-06-02T20:56:13.216936+00:00",
          "2021-06-02T20:56:13.274261+00:00",
          "2021-06-02T20:58:52.840946+00:00",
          "2021-06-02T21:01:13.945771+00:00",
          "2021-06-02T21:01:13.945771+00:00",
          "2021-06-02T21:01:13.997203+00:00",
          "2021-06-02T21:01:14.151444+00:00",
          "2021-06-02T21:01:14.204128+00:00",
          "2023-06-12T17:41:50.401600+00:00"
         ],
         "x0": " ",
         "xaxis": "x",
         "y": [
          null,
          76,
          74,
          74,
          78,
          74,
          74,
          76,
          188501,
          74,
          5595,
          639,
          5755,
          20504,
          64614,
          2295,
          1919,
          1144,
          2638,
          840,
          960,
          22306,
          null,
          2002,
          2002,
          null,
          null,
          null,
          null,
          null,
          76,
          null,
          null,
          520,
          520,
          null,
          null,
          null,
          74,
          null,
          null,
          503,
          76,
          null,
          null,
          null,
          510,
          null,
          null,
          510,
          510,
          null,
          74,
          null,
          null,
          503,
          null,
          74,
          null,
          null,
          508,
          null,
          508,
          193,
          null,
          74,
          null,
          null,
          508,
          null
         ],
         "y0": " ",
         "yaxis": "y"
        }
       ],
       "layout": {
        "boxmode": "group",
        "legend": {
         "tracegroupgap": 0
        },
        "margin": {
         "t": 60
        },
        "template": {
         "data": {
          "bar": [
           {
            "error_x": {
             "color": "#2a3f5f"
            },
            "error_y": {
             "color": "#2a3f5f"
            },
            "marker": {
             "line": {
              "color": "#E5ECF6",
              "width": 0.5
             },
             "pattern": {
              "fillmode": "overlay",
              "size": 10,
              "solidity": 0.2
             }
            },
            "type": "bar"
           }
          ],
          "barpolar": [
           {
            "marker": {
             "line": {
              "color": "#E5ECF6",
              "width": 0.5
             },
             "pattern": {
              "fillmode": "overlay",
              "size": 10,
              "solidity": 0.2
             }
            },
            "type": "barpolar"
           }
          ],
          "carpet": [
           {
            "aaxis": {
             "endlinecolor": "#2a3f5f",
             "gridcolor": "white",
             "linecolor": "white",
             "minorgridcolor": "white",
             "startlinecolor": "#2a3f5f"
            },
            "baxis": {
             "endlinecolor": "#2a3f5f",
             "gridcolor": "white",
             "linecolor": "white",
             "minorgridcolor": "white",
             "startlinecolor": "#2a3f5f"
            },
            "type": "carpet"
           }
          ],
          "choropleth": [
           {
            "colorbar": {
             "outlinewidth": 0,
             "ticks": ""
            },
            "type": "choropleth"
           }
          ],
          "contour": [
           {
            "colorbar": {
             "outlinewidth": 0,
             "ticks": ""
            },
            "colorscale": [
             [
              0,
              "#0d0887"
             ],
             [
              0.1111111111111111,
              "#46039f"
             ],
             [
              0.2222222222222222,
              "#7201a8"
             ],
             [
              0.3333333333333333,
              "#9c179e"
             ],
             [
              0.4444444444444444,
              "#bd3786"
             ],
             [
              0.5555555555555556,
              "#d8576b"
             ],
             [
              0.6666666666666666,
              "#ed7953"
             ],
             [
              0.7777777777777778,
              "#fb9f3a"
             ],
             [
              0.8888888888888888,
              "#fdca26"
             ],
             [
              1,
              "#f0f921"
             ]
            ],
            "type": "contour"
           }
          ],
          "contourcarpet": [
           {
            "colorbar": {
             "outlinewidth": 0,
             "ticks": ""
            },
            "type": "contourcarpet"
           }
          ],
          "heatmap": [
           {
            "colorbar": {
             "outlinewidth": 0,
             "ticks": ""
            },
            "colorscale": [
             [
              0,
              "#0d0887"
             ],
             [
              0.1111111111111111,
              "#46039f"
             ],
             [
              0.2222222222222222,
              "#7201a8"
             ],
             [
              0.3333333333333333,
              "#9c179e"
             ],
             [
              0.4444444444444444,
              "#bd3786"
             ],
             [
              0.5555555555555556,
              "#d8576b"
             ],
             [
              0.6666666666666666,
              "#ed7953"
             ],
             [
              0.7777777777777778,
              "#fb9f3a"
             ],
             [
              0.8888888888888888,
              "#fdca26"
             ],
             [
              1,
              "#f0f921"
             ]
            ],
            "type": "heatmap"
           }
          ],
          "heatmapgl": [
           {
            "colorbar": {
             "outlinewidth": 0,
             "ticks": ""
            },
            "colorscale": [
             [
              0,
              "#0d0887"
             ],
             [
              0.1111111111111111,
              "#46039f"
             ],
             [
              0.2222222222222222,
              "#7201a8"
             ],
             [
              0.3333333333333333,
              "#9c179e"
             ],
             [
              0.4444444444444444,
              "#bd3786"
             ],
             [
              0.5555555555555556,
              "#d8576b"
             ],
             [
              0.6666666666666666,
              "#ed7953"
             ],
             [
              0.7777777777777778,
              "#fb9f3a"
             ],
             [
              0.8888888888888888,
              "#fdca26"
             ],
             [
              1,
              "#f0f921"
             ]
            ],
            "type": "heatmapgl"
           }
          ],
          "histogram": [
           {
            "marker": {
             "pattern": {
              "fillmode": "overlay",
              "size": 10,
              "solidity": 0.2
             }
            },
            "type": "histogram"
           }
          ],
          "histogram2d": [
           {
            "colorbar": {
             "outlinewidth": 0,
             "ticks": ""
            },
            "colorscale": [
             [
              0,
              "#0d0887"
             ],
             [
              0.1111111111111111,
              "#46039f"
             ],
             [
              0.2222222222222222,
              "#7201a8"
             ],
             [
              0.3333333333333333,
              "#9c179e"
             ],
             [
              0.4444444444444444,
              "#bd3786"
             ],
             [
              0.5555555555555556,
              "#d8576b"
             ],
             [
              0.6666666666666666,
              "#ed7953"
             ],
             [
              0.7777777777777778,
              "#fb9f3a"
             ],
             [
              0.8888888888888888,
              "#fdca26"
             ],
             [
              1,
              "#f0f921"
             ]
            ],
            "type": "histogram2d"
           }
          ],
          "histogram2dcontour": [
           {
            "colorbar": {
             "outlinewidth": 0,
             "ticks": ""
            },
            "colorscale": [
             [
              0,
              "#0d0887"
             ],
             [
              0.1111111111111111,
              "#46039f"
             ],
             [
              0.2222222222222222,
              "#7201a8"
             ],
             [
              0.3333333333333333,
              "#9c179e"
             ],
             [
              0.4444444444444444,
              "#bd3786"
             ],
             [
              0.5555555555555556,
              "#d8576b"
             ],
             [
              0.6666666666666666,
              "#ed7953"
             ],
             [
              0.7777777777777778,
              "#fb9f3a"
             ],
             [
              0.8888888888888888,
              "#fdca26"
             ],
             [
              1,
              "#f0f921"
             ]
            ],
            "type": "histogram2dcontour"
           }
          ],
          "mesh3d": [
           {
            "colorbar": {
             "outlinewidth": 0,
             "ticks": ""
            },
            "type": "mesh3d"
           }
          ],
          "parcoords": [
           {
            "line": {
             "colorbar": {
              "outlinewidth": 0,
              "ticks": ""
             }
            },
            "type": "parcoords"
           }
          ],
          "pie": [
           {
            "automargin": true,
            "type": "pie"
           }
          ],
          "scatter": [
           {
            "fillpattern": {
             "fillmode": "overlay",
             "size": 10,
             "solidity": 0.2
            },
            "type": "scatter"
           }
          ],
          "scatter3d": [
           {
            "line": {
             "colorbar": {
              "outlinewidth": 0,
              "ticks": ""
             }
            },
            "marker": {
             "colorbar": {
              "outlinewidth": 0,
              "ticks": ""
             }
            },
            "type": "scatter3d"
           }
          ],
          "scattercarpet": [
           {
            "marker": {
             "colorbar": {
              "outlinewidth": 0,
              "ticks": ""
             }
            },
            "type": "scattercarpet"
           }
          ],
          "scattergeo": [
           {
            "marker": {
             "colorbar": {
              "outlinewidth": 0,
              "ticks": ""
             }
            },
            "type": "scattergeo"
           }
          ],
          "scattergl": [
           {
            "marker": {
             "colorbar": {
              "outlinewidth": 0,
              "ticks": ""
             }
            },
            "type": "scattergl"
           }
          ],
          "scattermapbox": [
           {
            "marker": {
             "colorbar": {
              "outlinewidth": 0,
              "ticks": ""
             }
            },
            "type": "scattermapbox"
           }
          ],
          "scatterpolar": [
           {
            "marker": {
             "colorbar": {
              "outlinewidth": 0,
              "ticks": ""
             }
            },
            "type": "scatterpolar"
           }
          ],
          "scatterpolargl": [
           {
            "marker": {
             "colorbar": {
              "outlinewidth": 0,
              "ticks": ""
             }
            },
            "type": "scatterpolargl"
           }
          ],
          "scatterternary": [
           {
            "marker": {
             "colorbar": {
              "outlinewidth": 0,
              "ticks": ""
             }
            },
            "type": "scatterternary"
           }
          ],
          "surface": [
           {
            "colorbar": {
             "outlinewidth": 0,
             "ticks": ""
            },
            "colorscale": [
             [
              0,
              "#0d0887"
             ],
             [
              0.1111111111111111,
              "#46039f"
             ],
             [
              0.2222222222222222,
              "#7201a8"
             ],
             [
              0.3333333333333333,
              "#9c179e"
             ],
             [
              0.4444444444444444,
              "#bd3786"
             ],
             [
              0.5555555555555556,
              "#d8576b"
             ],
             [
              0.6666666666666666,
              "#ed7953"
             ],
             [
              0.7777777777777778,
              "#fb9f3a"
             ],
             [
              0.8888888888888888,
              "#fdca26"
             ],
             [
              1,
              "#f0f921"
             ]
            ],
            "type": "surface"
           }
          ],
          "table": [
           {
            "cells": {
             "fill": {
              "color": "#EBF0F8"
             },
             "line": {
              "color": "white"
             }
            },
            "header": {
             "fill": {
              "color": "#C8D4E3"
             },
             "line": {
              "color": "white"
             }
            },
            "type": "table"
           }
          ]
         },
         "layout": {
          "annotationdefaults": {
           "arrowcolor": "#2a3f5f",
           "arrowhead": 0,
           "arrowwidth": 1
          },
          "autotypenumbers": "strict",
          "coloraxis": {
           "colorbar": {
            "outlinewidth": 0,
            "ticks": ""
           }
          },
          "colorscale": {
           "diverging": [
            [
             0,
             "#8e0152"
            ],
            [
             0.1,
             "#c51b7d"
            ],
            [
             0.2,
             "#de77ae"
            ],
            [
             0.3,
             "#f1b6da"
            ],
            [
             0.4,
             "#fde0ef"
            ],
            [
             0.5,
             "#f7f7f7"
            ],
            [
             0.6,
             "#e6f5d0"
            ],
            [
             0.7,
             "#b8e186"
            ],
            [
             0.8,
             "#7fbc41"
            ],
            [
             0.9,
             "#4d9221"
            ],
            [
             1,
             "#276419"
            ]
           ],
           "sequential": [
            [
             0,
             "#0d0887"
            ],
            [
             0.1111111111111111,
             "#46039f"
            ],
            [
             0.2222222222222222,
             "#7201a8"
            ],
            [
             0.3333333333333333,
             "#9c179e"
            ],
            [
             0.4444444444444444,
             "#bd3786"
            ],
            [
             0.5555555555555556,
             "#d8576b"
            ],
            [
             0.6666666666666666,
             "#ed7953"
            ],
            [
             0.7777777777777778,
             "#fb9f3a"
            ],
            [
             0.8888888888888888,
             "#fdca26"
            ],
            [
             1,
             "#f0f921"
            ]
           ],
           "sequentialminus": [
            [
             0,
             "#0d0887"
            ],
            [
             0.1111111111111111,
             "#46039f"
            ],
            [
             0.2222222222222222,
             "#7201a8"
            ],
            [
             0.3333333333333333,
             "#9c179e"
            ],
            [
             0.4444444444444444,
             "#bd3786"
            ],
            [
             0.5555555555555556,
             "#d8576b"
            ],
            [
             0.6666666666666666,
             "#ed7953"
            ],
            [
             0.7777777777777778,
             "#fb9f3a"
            ],
            [
             0.8888888888888888,
             "#fdca26"
            ],
            [
             1,
             "#f0f921"
            ]
           ]
          },
          "colorway": [
           "#636efa",
           "#EF553B",
           "#00cc96",
           "#ab63fa",
           "#FFA15A",
           "#19d3f3",
           "#FF6692",
           "#B6E880",
           "#FF97FF",
           "#FECB52"
          ],
          "font": {
           "color": "#2a3f5f"
          },
          "geo": {
           "bgcolor": "white",
           "lakecolor": "white",
           "landcolor": "#E5ECF6",
           "showlakes": true,
           "showland": true,
           "subunitcolor": "white"
          },
          "hoverlabel": {
           "align": "left"
          },
          "hovermode": "closest",
          "mapbox": {
           "style": "light"
          },
          "paper_bgcolor": "white",
          "plot_bgcolor": "#E5ECF6",
          "polar": {
           "angularaxis": {
            "gridcolor": "white",
            "linecolor": "white",
            "ticks": ""
           },
           "bgcolor": "#E5ECF6",
           "radialaxis": {
            "gridcolor": "white",
            "linecolor": "white",
            "ticks": ""
           }
          },
          "scene": {
           "xaxis": {
            "backgroundcolor": "#E5ECF6",
            "gridcolor": "white",
            "gridwidth": 2,
            "linecolor": "white",
            "showbackground": true,
            "ticks": "",
            "zerolinecolor": "white"
           },
           "yaxis": {
            "backgroundcolor": "#E5ECF6",
            "gridcolor": "white",
            "gridwidth": 2,
            "linecolor": "white",
            "showbackground": true,
            "ticks": "",
            "zerolinecolor": "white"
           },
           "zaxis": {
            "backgroundcolor": "#E5ECF6",
            "gridcolor": "white",
            "gridwidth": 2,
            "linecolor": "white",
            "showbackground": true,
            "ticks": "",
            "zerolinecolor": "white"
           }
          },
          "shapedefaults": {
           "line": {
            "color": "#2a3f5f"
           }
          },
          "ternary": {
           "aaxis": {
            "gridcolor": "white",
            "linecolor": "white",
            "ticks": ""
           },
           "baxis": {
            "gridcolor": "white",
            "linecolor": "white",
            "ticks": ""
           },
           "bgcolor": "#E5ECF6",
           "caxis": {
            "gridcolor": "white",
            "linecolor": "white",
            "ticks": ""
           }
          },
          "title": {
           "x": 0.05
          },
          "xaxis": {
           "automargin": true,
           "gridcolor": "white",
           "linecolor": "white",
           "ticks": "",
           "title": {
            "standoff": 15
           },
           "zerolinecolor": "white",
           "zerolinewidth": 2
          },
          "yaxis": {
           "automargin": true,
           "gridcolor": "white",
           "linecolor": "white",
           "ticks": "",
           "title": {
            "standoff": 15
           },
           "zerolinecolor": "white",
           "zerolinewidth": 2
          }
         }
        },
        "xaxis": {
         "anchor": "y",
         "domain": [
          0,
          1
         ],
         "title": {
          "text": "timestamp"
         }
        },
        "yaxis": {
         "anchor": "x",
         "domain": [
          0,
          1
         ],
         "title": {
          "text": "flow.bytes_toserver"
         }
        }
       }
      }
     },
     "metadata": {},
     "output_type": "display_data"
    }
   ],
   "source": [
    "# source : https://towardsdatascience.com/6-visualization-tricks-to-handle-ultra-long-time-series-data-57dad97e0fc2\n",
    "\n",
    "df_flow = df_suricata[['timestamp','flow_id','src_ip','dest_ip','flow.bytes_toserver','flow.bytes_toclient']].sort_values(by=['timestamp'])\n",
    "\n",
    "# Generate a graph filtered on specific remote ip\n",
    "#df_flow = df_suricata[df_suricata.dest_ip == '10.6.2.1' ][['timestamp','flow_id','src_ip','dest_ip','flow.bytes_toserver','flow.bytes_toclient']].sort_values(by=['timestamp'])\n",
    "\n",
    "display(px.box(df_flow, y='flow.bytes_toclient', x ='timestamp'))\n",
    "display(px.box(df_flow, y='flow.bytes_toserver', x ='timestamp'))\n"
   ]
  }
 ],
 "metadata": {
  "kernelspec": {
   "display_name": "Python 3",
   "language": "python",
   "name": "python3"
  },
  "language_info": {
   "codemirror_mode": {
    "name": "ipython",
    "version": 3
   },
   "file_extension": ".py",
   "mimetype": "text/x-python",
   "name": "python",
   "nbconvert_exporter": "python",
   "pygments_lexer": "ipython3",
   "version": "3.9.2"
  },
  "orig_nbformat": 4
 },
 "nbformat": 4,
 "nbformat_minor": 2
}
